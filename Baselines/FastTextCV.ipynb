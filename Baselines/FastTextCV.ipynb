{
 "cells": [
  {
   "cell_type": "code",
   "execution_count": 1,
   "metadata": {},
   "outputs": [
    {
     "name": "stdout",
     "output_type": "stream",
     "text": [
      "0000 NaN values in chapters.\n",
      "0000 Nan values in concepts.\n",
      "0000 Nan values in classes.\n",
      "0000 Nan values in episdes precedences.\n",
      "0000 Nan values in series precedences.\n"
     ]
    }
   ],
   "source": [
    "import os\n",
    "import pandas as pd\n",
    "import numpy as np\n",
    "\n",
    "\n",
    "main_publisher = 'MIT'\n",
    "\n",
    "script_dir = os.path.dirname(os.path.realpath('__file__'))\n",
    "path = os.path.join(script_dir, '../Data/' + main_publisher + '/')\n",
    "\n",
    "df_chapters = pd.read_csv(path + 'chapters.csv', delimiter = ',')\n",
    "df_chapters_embeddings = pd.read_csv(path + 'embeddings_chapters.csv', delimiter = '|', index_col=0)\n",
    "df_concepts = pd.read_csv(path + 'concepts_bis.csv', delimiter = '|')\n",
    "df_concepts_embeddings = pd.read_csv(path + 'embeddings_concepts_bis.csv', delimiter = '|', index_col=0)\n",
    "df_classes = pd.read_csv(path + 'classes_bis.csv', delimiter = '|')\n",
    "df_classes_embeddings = pd.read_csv(path + 'embeddings_classes_bis.csv', delimiter = '|', index_col=0)\n",
    "df_precedences_episodes = pd.read_csv(path + 'precedences_episodes.csv', delimiter = '|')\n",
    "df_precedences_series = pd.read_csv(path + 'precedences_series.csv', delimiter = '|')\n",
    "\n",
    "df_concepts['Concept'] = df_concepts['Concept'].apply(lambda x : x.split('/')[-1])\n",
    "\n",
    "df_classes = df_classes.dropna()\n",
    "print(f'{df_chapters[\"Cid\"].isna().sum().sum():04d} NaN values in chapters.')\n",
    "print(f'{df_concepts.isna().sum().sum():04d} Nan values in concepts.')\n",
    "print(f'{df_classes.isna().sum().sum():04d} Nan values in classes.')\n",
    "print(f'{df_precedences_episodes.isna().sum().sum():04d} Nan values in episdes precedences.')\n",
    "print(f'{df_precedences_series.isna().sum().sum():04d} Nan values in series precedences.')"
   ]
  },
  {
   "cell_type": "code",
   "execution_count": 2,
   "metadata": {},
   "outputs": [],
   "source": [
    "from utils import *\n",
    "\n",
    "unique_oer_id = id_mapper(df_chapters['Cid'], 'OER')\n",
    "unique_concept_id =  id_mapper(df_concepts['Concept'], 'Concept')\n",
    "unique_class_id =  id_mapper(df_classes['Class'], 'Class')"
   ]
  },
  {
   "cell_type": "code",
   "execution_count": 3,
   "metadata": {},
   "outputs": [
    {
     "name": "stdout",
     "output_type": "stream",
     "text": [
      "torch.Size([2, 24347])\n",
      "torch.Size([2, 24347])\n",
      "torch.Size([2, 2928])\n",
      "torch.Size([2, 1407])\n",
      "torch.Size([2, 72048])\n",
      "torch.Size([2, 72048])\n"
     ]
    }
   ],
   "source": [
    "oer_covers_concept_subject = edge_construction(df1 = df_concepts, df2 = unique_oer_id, col = 'mappedID', \n",
    "                                       how = 'left', right_on = 'OER')\n",
    "oer_covers_concept_pr = edge_construction(df1 = df_concepts, df2 = unique_oer_id, col = 'PR', \n",
    "                                          how = 'right', right_on = 'OER')\n",
    "oer_covers_concept_object = edge_construction(df1 = df_concepts, df2 = unique_concept_id, col = 'mappedID', \n",
    "                                       how = 'left', right_on = 'Concept')\n",
    "\n",
    "oer_before_oer_ep_subject = edge_construction(df1 = df_precedences_episodes, df2 = unique_oer_id, col = 'mappedID', \n",
    "                                   how = 'left', left_on = 'Before', right_on = 'OER')\n",
    "oer_before_oer_ep_object = edge_construction(df1 = df_precedences_episodes, df2 = unique_oer_id, col = 'mappedID', \n",
    "                                   how = 'left', left_on = 'After', right_on = 'OER')\n",
    "oer_before_oer_sr_subject = edge_construction(df1 = df_precedences_series, df2 = unique_oer_id, col = 'mappedID', \n",
    "                                   how = 'left', left_on = 'Before', right_on = 'OER')\n",
    "oer_before_oer_sr_object = edge_construction(df1 = df_precedences_series, df2 = unique_oer_id, col = 'mappedID', \n",
    "                                   how = 'left', left_on = 'After', right_on = 'OER')\n",
    "\n",
    "concept_belongs_class_subject = edge_construction(df1 = df_classes, df2 = unique_concept_id, col = 'mappedID', \n",
    "                                   how = 'left', left_on = 'Concept', right_on = 'Concept')\n",
    "concept_belongs_class_object = edge_construction(df1 = df_classes, df2 = unique_class_id, col = 'mappedID', \n",
    "                                   how = 'left', left_on = 'Class', right_on = 'Class')\n",
    "\n",
    "oer_covers_concept = torch.stack([oer_covers_concept_subject, oer_covers_concept_object], dim = 0).long()\n",
    "oer_covers_concept_rev = torch.stack([oer_covers_concept_object, oer_covers_concept_subject], dim = 0).long()\n",
    "oer_before_oer_ep = torch.stack([oer_before_oer_ep_subject, oer_before_oer_ep_object], dim = 0).long()\n",
    "oer_before_oer_sr = torch.stack([oer_before_oer_sr_subject, oer_before_oer_sr_object], dim = 0).long()\n",
    "concept_belongs_class = torch.stack([concept_belongs_class_subject, concept_belongs_class_object], dim = 0).long()\n",
    "concept_belongs_class_rev = torch.stack([concept_belongs_class_object, concept_belongs_class_subject], dim = 0).long()\n",
    "print(oer_covers_concept.shape)\n",
    "print(oer_covers_concept_rev.shape)\n",
    "print(oer_before_oer_ep.shape)\n",
    "print(oer_before_oer_sr.shape)\n",
    "print(concept_belongs_class.shape)\n",
    "print(concept_belongs_class_rev.shape)"
   ]
  },
  {
   "cell_type": "code",
   "execution_count": 4,
   "metadata": {},
   "outputs": [
    {
     "name": "stderr",
     "output_type": "stream",
     "text": [
      "Warning : `load_model` does not return WordVectorModel or SupervisedModel any more, but a `FastText` object which is very similar.\n"
     ]
    }
   ],
   "source": [
    "import fasttext\n",
    "\n",
    "model_fasttext = fasttext.load_model(\"cc.en.300.bin\")"
   ]
  },
  {
   "cell_type": "code",
   "execution_count": 5,
   "metadata": {},
   "outputs": [
    {
     "name": "stdout",
     "output_type": "stream",
     "text": [
      "0.94540006\n",
      "4407\n"
     ]
    }
   ],
   "source": [
    "import re\n",
    "from nltk.corpus import stopwords\n",
    "from nltk.tokenize import word_tokenize\n",
    "\n",
    "stop_words = set(stopwords.words('english'))\n",
    "\n",
    "sentence_embeddings = []\n",
    "for sentences in df_chapters.Text.values:\n",
    "    word_embs = []\n",
    "    sentences = re.sub(r'[^\\w\\s]', '', sentences)\n",
    "    words = word_tokenize(sentences)\n",
    "    words = [w for w in words if not w.lower() in stop_words]\n",
    "    for word in words:\n",
    "        word_embedding = model_fasttext.get_word_vector(word)\n",
    "        word_embs.append(word_embedding)\n",
    "    if word_embs:\n",
    "        word_embs = sum(word_embs) / len(word_embs)\n",
    "    else:\n",
    "        # Handle the case when none of the words are in the model's vocabulary\n",
    "        word_embs = None\n",
    "    sentence_embeddings.append(word_embs)\n",
    "\n",
    "v1 = sentence_embeddings[0]\n",
    "v2 = sentence_embeddings[1]\n",
    "cos_sim = np.dot(v1, v2) / (np.linalg.norm(v1, 2) * np.linalg.norm(v2, 2))\n",
    "print(cos_sim)\n",
    "print(len(sentence_embeddings))"
   ]
  },
  {
   "cell_type": "code",
   "execution_count": 6,
   "metadata": {},
   "outputs": [],
   "source": [
    "i = 0\n",
    "chapters_embeddings_tmp = {}\n",
    "chapters_r = range(len(df_chapters['Cid'].unique()))\n",
    "chapters_embeddings_bis = np.zeros(shape=(len(chapters_r), 768))\n",
    "for r in chapters_r:\n",
    "    chapters_embeddings_tmp[r] = [float(f) for f in sentence_embeddings[r]]\n",
    "    for a in range(len(chapters_embeddings_tmp[r])):\n",
    "            chapters_embeddings_bis[i][a] = chapters_embeddings_tmp[r][a]\n",
    "    i += 1\n",
    "chapters_embeddings = torch.from_numpy(chapters_embeddings_bis).to(torch.float32)"
   ]
  },
  {
   "cell_type": "code",
   "execution_count": 7,
   "metadata": {},
   "outputs": [],
   "source": [
    "#chapters_embeddings_tmp = {}\n",
    "concepts_embeddings_tmp = {} \n",
    "classes_embeddings_tmp = {}\n",
    "\n",
    "#chapters_r = range(len(df_chapters['Cid'].unique()))\n",
    "concepts_c = range(len(df_concepts['Concept'].unique()))\n",
    "classes_c = range(len(df_classes['Class'].unique()))\n",
    "\n",
    "#chapters_embeddings = np.zeros(shape=(len(chapters_r), 768))\n",
    "concepts_embeddings = np.zeros(shape=(len(concepts_c), 768))\n",
    "classes_embeddings = np.zeros(shape=(len(classes_c), 768))\n",
    "\n",
    "\n",
    "'''i = 0\n",
    "for r in chapters_r:\n",
    "    chapters_embeddings_tmp[r] = list(filter(None, df_chapters_embeddings['BERT'][r].strip(\"[]\\n\").replace(\"'\",\"\").split(\" \")))\n",
    "    chapters_embeddings_tmp[r] = [float(f) for f in chapters_embeddings_tmp[r]]\n",
    "    for a in range(len(chapters_embeddings_tmp[r])):\n",
    "            chapters_embeddings[i][a] = chapters_embeddings_tmp[r][a]\n",
    "    i += 1'''\n",
    "\n",
    "i = 0\n",
    "for r in concepts_c:\n",
    "    concepts_embeddings_tmp[r] = list(filter(None, df_concepts_embeddings['BERT'][r].strip(\"[]\\n\").replace(\"'\",\"\").split(\" \")))\n",
    "    concepts_embeddings_tmp[r] = [float(f) for f in concepts_embeddings_tmp[r]]\n",
    "    for a in range(len(concepts_embeddings_tmp[r])):\n",
    "            concepts_embeddings[i][a] = concepts_embeddings_tmp[r][a]\n",
    "    i += 1   \n",
    "\n",
    "i = 0\n",
    "for r in classes_c:\n",
    "    classes_embeddings_tmp[r] = list(filter(None, df_classes_embeddings['BERT'][r].strip(\"[]\\n\").replace(\"'\",\"\").split(\" \")))\n",
    "    classes_embeddings_tmp[r] = [float(f) for f in classes_embeddings_tmp[r]]\n",
    "    for a in range(len(classes_embeddings_tmp[r])):\n",
    "            classes_embeddings[i][a] = classes_embeddings_tmp[r][a]\n",
    "    i += 1\n",
    "\n",
    "#chapters_embeddings = torch.from_numpy(chapters_embeddings).to(torch.float32)\n",
    "concepts_embeddings = torch.from_numpy(concepts_embeddings).to(torch.float32)\n",
    "classes_embeddings = torch.from_numpy(classes_embeddings).to(torch.float32)"
   ]
  },
  {
   "cell_type": "code",
   "execution_count": 8,
   "metadata": {},
   "outputs": [
    {
     "name": "stdout",
     "output_type": "stream",
     "text": [
      "torch.Size([2, 2928])\n",
      "HeteroData(\n",
      "  \u001b[1mOER\u001b[0m={\n",
      "    node_id=[4407],\n",
      "    x=[4407, 768]\n",
      "  },\n",
      "  \u001b[1mConcept\u001b[0m={\n",
      "    node_id=[7970],\n",
      "    x=[7970, 768]\n",
      "  },\n",
      "  \u001b[1mClass\u001b[0m={\n",
      "    node_id=[302],\n",
      "    x=[302, 768]\n",
      "  },\n",
      "  \u001b[1m(OER, covers, Concept)\u001b[0m={\n",
      "    edge_index=[2, 24347],\n",
      "    edge_attr=[24732]\n",
      "  },\n",
      "  \u001b[1m(Concept, rev_covers, OER)\u001b[0m={ edge_index=[2, 24347] },\n",
      "  \u001b[1m(OER, before_sr, OER)\u001b[0m={ edge_index=[2, 1407] },\n",
      "  \u001b[1m(OER, before_ep, OER)\u001b[0m={ edge_index=[2, 2928] },\n",
      "  \u001b[1m(Concept, belongs, Class)\u001b[0m={ edge_index=[2, 72048] },\n",
      "  \u001b[1m(Class, rev_belongs, Concept)\u001b[0m={ edge_index=[2, 72048] }\n",
      ")\n"
     ]
    },
    {
     "name": "stderr",
     "output_type": "stream",
     "text": [
      "/home/abazouzi/Documents/Code/PrerequisiteLearning/clara-datasets/lib64/python3.10/site-packages/tqdm/auto.py:21: TqdmWarning: IProgress not found. Please update jupyter and ipywidgets. See https://ipywidgets.readthedocs.io/en/stable/user_install.html\n",
      "  from .autonotebook import tqdm as notebook_tqdm\n"
     ]
    }
   ],
   "source": [
    "from torch_geometric.data import HeteroData\n",
    "import torch_geometric.transforms as T\n",
    "\n",
    "data = HeteroData()\n",
    "data['OER'].node_id = torch.tensor(unique_oer_id['mappedID'].values)\n",
    "data['OER'].x = chapters_embeddings\n",
    "data['Concept'].node_id = torch.tensor(unique_concept_id['mappedID'].values)\n",
    "data['Concept'].x = concepts_embeddings\n",
    "data['Class'].node_id = torch.tensor(unique_class_id['mappedID'].values)\n",
    "data['Class'].x = classes_embeddings\n",
    "data['OER', 'covers', 'Concept'].edge_index = oer_covers_concept\n",
    "data['Concept', 'rev_covers', 'OER'].edge_index = oer_covers_concept_rev\n",
    "\n",
    "data['OER', 'covers', 'Concept'].edge_attr = oer_covers_concept_pr\n",
    "print(oer_before_oer_ep.shape)\n",
    "data['OER', 'before_sr', 'OER'].edge_index = oer_before_oer_sr\n",
    "data['OER', 'before_ep', 'OER'].edge_index = oer_before_oer_ep\n",
    "data['Concept', 'belongs', 'Class'].edge_index = concept_belongs_class\n",
    "data['Class', 'rev_belongs', 'Concept'].edge_index = concept_belongs_class_rev\n",
    "\n",
    "#data = T.ToUndirected()(data)\n",
    "data.validate()\n",
    "print(data)"
   ]
  },
  {
   "cell_type": "code",
   "execution_count": 9,
   "metadata": {},
   "outputs": [],
   "source": [
    "import random\n",
    "\n",
    "def seed_everything(seed=0):                                                  \n",
    "       random.seed(seed)                                                            \n",
    "       torch.manual_seed(seed)                                                      \n",
    "       torch.cuda.manual_seed_all(seed)                                             \n",
    "       np.random.seed(seed)                                                         \n",
    "       os.environ['PYTHONHASHSEED'] = str(seed)                                     \n",
    "       torch.backends.cudnn.deterministic = True                                    \n",
    "       torch.backends.cudnn.benchmark = False\n",
    "\n"
   ]
  },
  {
   "cell_type": "code",
   "execution_count": 10,
   "metadata": {},
   "outputs": [
    {
     "name": "stdout",
     "output_type": "stream",
     "text": [
      "2028\t Edges for training\n",
      "252\t Edges for validation\n",
      "252\t Edges for testing\n",
      "tensor([1247, 2703, 4364, 4040, 3726])\n",
      "tensor([1706,  134, 2279, 3486, 3509])\n",
      "tensor([3269, 2685,  776, 3197, 2997])\n",
      "tensor([1248, 2704, 4365, 4041, 3727])\n",
      "tensor([1707,  135, 2280, 3487, 3510])\n",
      "tensor([3270, 2686,  777, 3198, 2998])\n"
     ]
    }
   ],
   "source": [
    "agnostic = False\n",
    "if agnostic:\n",
    "    num_val = 0.5\n",
    "    num_test = 0.5\n",
    "else:\n",
    "    num_val = 0.1\n",
    "    num_test = 0.1\n",
    "seed_everything()\n",
    "transform = T.RandomLinkSplit(\n",
    "    num_val = num_val,\n",
    "    num_test = num_test,\n",
    "    disjoint_train_ratio = 0.0,\n",
    "    neg_sampling_ratio = 0.8,\n",
    "    add_negative_train_samples = True,\n",
    "    edge_types=('OER', 'before_sr', 'OER')\n",
    ")\n",
    "\n",
    "train_data, val_data, test_data = transform(data)\n",
    "print(f'{len(train_data[\"OER\", \"before_sr\", \"OER\"].edge_label.detach().numpy())}\\t Edges for training')\n",
    "print(f'{len(val_data[\"OER\", \"before_sr\", \"OER\"].edge_label.detach().numpy())}\\t Edges for validation')\n",
    "print(f'{len(test_data[\"OER\", \"before_sr\", \"OER\"].edge_label.detach().numpy())}\\t Edges for testing')\n",
    "print(train_data[\"OER\", \"before_sr\", \"OER\"].edge_label_index[0][:5])\n",
    "print(val_data[\"OER\", \"before_sr\", \"OER\"].edge_label_index[0][:5])\n",
    "print(test_data[\"OER\", \"before_sr\", \"OER\"].edge_label_index[0][:5])\n",
    "print(train_data[\"OER\", \"before_sr\", \"OER\"].edge_label_index[1][:5])\n",
    "print(val_data[\"OER\", \"before_sr\", \"OER\"].edge_label_index[1][:5])\n",
    "print(test_data[\"OER\", \"before_sr\", \"OER\"].edge_label_index[1][:5])"
   ]
  },
  {
   "cell_type": "code",
   "execution_count": 11,
   "metadata": {},
   "outputs": [
    {
     "name": "stdout",
     "output_type": "stream",
     "text": [
      "2532\n",
      "2532\n",
      "2532\n",
      "3521\n"
     ]
    }
   ],
   "source": [
    "seed_everything()\n",
    "cross_val_data = {}\n",
    "cross_val_data[\"OER\", \"before_sr\", \"OER\"] = {}\n",
    "print(len(train_data[\"OER\", \"before_sr\", \"OER\"].edge_label_index[0]) + \n",
    "      len(val_data[\"OER\", \"before_sr\", \"OER\"].edge_label_index[0]) +\n",
    "      len(test_data[\"OER\", \"before_sr\", \"OER\"].edge_label_index[0]))\n",
    "\n",
    "cross_val_data[\"OER\", \"before_sr\", \"OER\"][\"edge_label\"] = torch.cat(\n",
    "    [train_data[\"OER\", \"before_sr\", \"OER\"].edge_label, \n",
    "     val_data[\"OER\", \"before_sr\", \"OER\"].edge_label,\n",
    "     test_data[\"OER\", \"before_sr\", \"OER\"].edge_label], \n",
    "    dim = 0).long()\n",
    "cross_val_data[\"OER\", \"before_sr\", \"OER\"][\"edge_label_index\"] = torch.cat(\n",
    "    [train_data[\"OER\", \"before_sr\", \"OER\"].edge_label_index, \n",
    "     val_data[\"OER\", \"before_sr\", \"OER\"].edge_label_index,\n",
    "     test_data[\"OER\", \"before_sr\", \"OER\"].edge_label_index], \n",
    "    dim = 1).long()\n",
    "cross_val_data[\"OER\", \"before_sr\", \"OER\"][\"edge_index\"] = torch.cat(\n",
    "    [train_data[\"OER\", \"before_sr\", \"OER\"].edge_index, \n",
    "     val_data[\"OER\", \"before_sr\", \"OER\"].edge_index,\n",
    "     test_data[\"OER\", \"before_sr\", \"OER\"].edge_index],\n",
    "    dim = 1).long()\n",
    "print(len(cross_val_data[\"OER\", \"before_sr\", \"OER\"][\"edge_label\"]))\n",
    "print(len(cross_val_data[\"OER\", \"before_sr\", \"OER\"][\"edge_label_index\"][0]))\n",
    "print(len(cross_val_data[\"OER\", \"before_sr\", \"OER\"][\"edge_index\"][0]))"
   ]
  },
  {
   "cell_type": "code",
   "execution_count": 12,
   "metadata": {},
   "outputs": [
    {
     "name": "stdout",
     "output_type": "stream",
     "text": [
      "tensor([  54, 3196, 3431,  ..., 3746, 2287, 3773])\n",
      "tensor([1322, 4084, 3432,  ..., 3747, 2288, 3159])\n",
      "tensor([0, 0, 1,  ..., 1, 1, 0])\n"
     ]
    }
   ],
   "source": [
    "seed_everything()\n",
    "num_samples = len(cross_val_data[\"OER\", \"before_sr\", \"OER\"][\"edge_label\"])\n",
    "shuffled_index = np.arange(num_samples)\n",
    "np.random.shuffle(shuffled_index)\n",
    "cross_val_data[\"OER\", \"before_sr\", \"OER\"][\"edge_label_index\"][0] = cross_val_data[\"OER\", \"before_sr\", \"OER\"][\"edge_label_index\"][0][shuffled_index]\n",
    "cross_val_data[\"OER\", \"before_sr\", \"OER\"][\"edge_label_index\"][1] = cross_val_data[\"OER\", \"before_sr\", \"OER\"][\"edge_label_index\"][1][shuffled_index]\n",
    "cross_val_data[\"OER\", \"before_sr\", \"OER\"][\"edge_label\"] = cross_val_data[\"OER\", \"before_sr\", \"OER\"][\"edge_label\"][shuffled_index]\n",
    "print(cross_val_data[\"OER\", \"before_sr\", \"OER\"][\"edge_label_index\"][0])\n",
    "print(cross_val_data[\"OER\", \"before_sr\", \"OER\"][\"edge_label_index\"][1])\n",
    "print(cross_val_data[\"OER\", \"before_sr\", \"OER\"][\"edge_label\"])"
   ]
  },
  {
   "cell_type": "code",
   "execution_count": 13,
   "metadata": {},
   "outputs": [
    {
     "name": "stdout",
     "output_type": "stream",
     "text": [
      "506\n",
      "506\n",
      "506\n",
      "------------------------------\n",
      "506\n",
      "506\n",
      "506\n",
      "------------------------------\n",
      "506\n",
      "506\n",
      "506\n",
      "------------------------------\n",
      "506\n",
      "506\n",
      "506\n",
      "------------------------------\n",
      "508\n",
      "508\n",
      "508\n",
      "------------------------------\n"
     ]
    }
   ],
   "source": [
    "cv = 5\n",
    "chunk_size = int(len(cross_val_data[\"OER\", \"before_sr\", \"OER\"][\"edge_label\"]) / cv)\n",
    "cross_val_chunks = []\n",
    "for n in range(cv):\n",
    "    cross_val_chunk = {}\n",
    "    cross_val_chunk[\"OER\", \"before_sr\", \"OER\"] = {}\n",
    "    cross_val_chunk[\"OER\", \"before_sr\", \"OER\"][\"edge_label\"] = {}\n",
    "    begin = n * chunk_size\n",
    "    if n == cv - 1:\n",
    "        end = len(cross_val_data[\"OER\", \"before_sr\", \"OER\"][\"edge_label\"])\n",
    "    else :\n",
    "        end = (n+1) * chunk_size\n",
    "    cross_val_chunk[\"OER\", \"before_sr\", \"OER\"][\"edge_label\"] = cross_val_data[\"OER\", \"before_sr\", \"OER\"][\"edge_label\"][begin : end]\n",
    "    cross_val_chunk[\"OER\", \"before_sr\", \"OER\"][\"edge_label_index\"] = []\n",
    "    cross_val_chunk[\"OER\", \"before_sr\", \"OER\"][\"edge_label_index\"].append(cross_val_data[\"OER\", \"before_sr\", \"OER\"][\"edge_label_index\"][0][begin : end])\n",
    "    cross_val_chunk[\"OER\", \"before_sr\", \"OER\"][\"edge_label_index\"].append(cross_val_data[\"OER\", \"before_sr\", \"OER\"][\"edge_label_index\"][1][begin : end])\n",
    "    cross_val_chunks.append(cross_val_chunk)\n",
    "for n in range(cv):\n",
    "    print(len(cross_val_chunks[n][\"OER\", \"before_sr\", \"OER\"][\"edge_label\"]))\n",
    "    print(len(cross_val_chunks[n][\"OER\", \"before_sr\", \"OER\"][\"edge_label_index\"][0]))\n",
    "    print(len(cross_val_chunks[n][\"OER\", \"before_sr\", \"OER\"][\"edge_label_index\"][1]))\n",
    "    print(\"------------------------------\")"
   ]
  },
  {
   "cell_type": "code",
   "execution_count": 14,
   "metadata": {},
   "outputs": [
    {
     "data": {
      "text/plain": [
       "5"
      ]
     },
     "execution_count": 14,
     "metadata": {},
     "output_type": "execute_result"
    }
   ],
   "source": [
    "cross_val_data_train = []\n",
    "cross_val_data_test = []\n",
    "for n in range(cv) :\n",
    "    cross_val_data_train_chunk = {}\n",
    "    cross_val_data_train_chunk[\"OER\", \"before_sr\", \"OER\"] = {}\n",
    "    cross_val_data_train_chunk[\"OER\", \"before_sr\", \"OER\"][\"edge_label\"] = torch.cat(\n",
    "    [cross_val_chunks[(n+1)%cv][\"OER\", \"before_sr\", \"OER\"][\"edge_label\"], \n",
    "     cross_val_chunks[(n+2)%cv][\"OER\", \"before_sr\", \"OER\"][\"edge_label\"],\n",
    "     cross_val_chunks[(n+3)%cv][\"OER\", \"before_sr\", \"OER\"][\"edge_label\"],\n",
    "     cross_val_chunks[(n+4)%cv][\"OER\", \"before_sr\", \"OER\"][\"edge_label\"]\n",
    "     ], \n",
    "    dim = 0).long()\n",
    "    cross_val_data_test_chunk = {}\n",
    "    cross_val_data_test_chunk[\"OER\", \"before_sr\", \"OER\"] = {}\n",
    "    cross_val_data_test_chunk[\"OER\", \"before_sr\", \"OER\"][\"edge_label\"] = cross_val_chunks[n][\"OER\", \"before_sr\", \"OER\"][\"edge_label\"]\n",
    "\n",
    "    cross_val_data_train_chunk[\"OER\", \"before_sr\", \"OER\"][\"edge_label_index\"] = []\n",
    "    cross_val_data_train_chunk[\"OER\", \"before_sr\", \"OER\"][\"edge_label_index\"].append(torch.cat(\n",
    "    [cross_val_chunks[(n+1)%cv][\"OER\", \"before_sr\", \"OER\"][\"edge_label_index\"][0], \n",
    "     cross_val_chunks[(n+2)%cv][\"OER\", \"before_sr\", \"OER\"][\"edge_label_index\"][0],\n",
    "     cross_val_chunks[(n+3)%cv][\"OER\", \"before_sr\", \"OER\"][\"edge_label_index\"][0],\n",
    "     cross_val_chunks[(n+4)%cv][\"OER\", \"before_sr\", \"OER\"][\"edge_label_index\"][0]\n",
    "     ], \n",
    "    dim = 0).long())\n",
    "    cross_val_data_train_chunk[\"OER\", \"before_sr\", \"OER\"][\"edge_label_index\"].append(torch.cat(\n",
    "    [cross_val_chunks[(n+1)%cv][\"OER\", \"before_sr\", \"OER\"][\"edge_label_index\"][1], \n",
    "     cross_val_chunks[(n+2)%cv][\"OER\", \"before_sr\", \"OER\"][\"edge_label_index\"][1],\n",
    "     cross_val_chunks[(n+3)%cv][\"OER\", \"before_sr\", \"OER\"][\"edge_label_index\"][1],\n",
    "     cross_val_chunks[(n+4)%cv][\"OER\", \"before_sr\", \"OER\"][\"edge_label_index\"][1]\n",
    "     ], \n",
    "    dim = 0).long())\n",
    "    cross_val_data_test_chunk[\"OER\", \"before_sr\", \"OER\"][\"edge_label_index\"] = []\n",
    "    cross_val_data_test_chunk[\"OER\", \"before_sr\", \"OER\"][\"edge_label_index\"].append(\n",
    "        cross_val_chunks[n][\"OER\", \"before_sr\", \"OER\"][\"edge_label_index\"][0])\n",
    "    cross_val_data_test_chunk[\"OER\", \"before_sr\", \"OER\"][\"edge_label_index\"].append(\n",
    "        cross_val_chunks[n][\"OER\", \"before_sr\", \"OER\"][\"edge_label_index\"][1])\n",
    "    \n",
    "    cross_val_data_train.append(cross_val_data_train_chunk)\n",
    "    cross_val_data_test.append(cross_val_data_test_chunk)\n",
    "\n",
    "len(cross_val_data_train)"
   ]
  },
  {
   "cell_type": "code",
   "execution_count": 15,
   "metadata": {},
   "outputs": [
    {
     "name": "stdout",
     "output_type": "stream",
     "text": [
      "Number of parameter combinations :  192\n"
     ]
    }
   ],
   "source": [
    "hidden_channels = [16, 32, 64, 128]\n",
    "num_layers = [1, 2, 4, 6]\n",
    "epochs = [50, 100, 150, 200]\n",
    "learning_rates = [0.001, 0.01, 0.1]\n",
    "entity_features = 768\n",
    "\n",
    "parameters = [{\n",
    "    \"epochs\" : e,\n",
    "    \"hidden_channels\" : h,\n",
    "    \"num_layers\" : n,\n",
    "    \"lr\" : l,\n",
    "    \"entity_features\" : entity_features\n",
    "} for h in hidden_channels\n",
    "    for l in learning_rates\n",
    "    for n in num_layers\n",
    "    for e in epochs]\n",
    "\n",
    "assert len(parameters) == len(hidden_channels) * len(num_layers) * len(epochs) * len(learning_rates), \"ERROR constructing parameters variable\"\n",
    "print(\"Number of parameter combinations : \", len(parameters))"
   ]
  },
  {
   "cell_type": "code",
   "execution_count": 16,
   "metadata": {},
   "outputs": [],
   "source": [
    "hidden_channels_selected = 32\n",
    "entity_features = 768\n",
    "num_layers_selected = 6\n",
    "epochs_selected = 300 #300 the best\n",
    "learning_rates_selected = 0.001\n",
    "\n",
    "selected_params = [{\n",
    "    'epochs': epochs_selected, \n",
    "    'hidden_channels': hidden_channels_selected, \n",
    "    'num_layers': num_layers_selected, #8 is too much => generated NaN values in node attributes\n",
    "    'lr': learning_rates_selected, \n",
    "    'entity_features': entity_features\n",
    "}]"
   ]
  },
  {
   "cell_type": "code",
   "execution_count": 17,
   "metadata": {},
   "outputs": [
    {
     "name": "stdout",
     "output_type": "stream",
     "text": [
      "(2026, 1536) torch.Size([2026])\n",
      "(506, 1536) torch.Size([506])\n"
     ]
    }
   ],
   "source": [
    "X_train_index = []\n",
    "X_train = []\n",
    "X_test_index = []\n",
    "X_test = []\n",
    "Y_train = []\n",
    "Y_test = []\n",
    "for n in range(cv):\n",
    "    X_train_index.append(cross_val_data_train[n][\"OER\", \"before_sr\", \"OER\"][\"edge_label_index\"])\n",
    "    X_train.append(np.concatenate([chapters_embeddings[X_train_index[n][0]],chapters_embeddings[X_train_index[n][1]]], axis=1))\n",
    "    Y_train.append(cross_val_data_train[n][\"OER\", \"before_sr\", \"OER\"][\"edge_label\"])\n",
    "    X_test_index.append(cross_val_data_test[n][\"OER\", \"before_sr\", \"OER\"][\"edge_label_index\"])\n",
    "    X_test.append(np.concatenate([chapters_embeddings[X_test_index[n][0]],chapters_embeddings[X_test_index[n][1]]], axis=1))\n",
    "    Y_test.append(cross_val_data_test[n][\"OER\", \"before_sr\", \"OER\"][\"edge_label\"])\n",
    "\n",
    "print(X_train[0].shape, Y_train[0].shape)\n",
    "print(X_test[0].shape, Y_test[0].shape)"
   ]
  },
  {
   "cell_type": "code",
   "execution_count": 24,
   "metadata": {},
   "outputs": [],
   "source": [
    "from sklearn.metrics import accuracy_score\n",
    "from sklearn.model_selection import train_test_split\n",
    "from sklearn.model_selection import cross_val_score\n",
    "from sklearn.neighbors import KNeighborsClassifier\n",
    "from sklearn.model_selection import GridSearchCV\n",
    "from sklearn.preprocessing import StandardScaler\n",
    "from sklearn.linear_model import LogisticRegression\n",
    "from sklearn.ensemble import RandomForestClassifier\n",
    "from sklearn.tree import DecisionTreeClassifier\n",
    "from sklearn.naive_bayes import GaussianNB\n",
    "from sklearn.pipeline import make_pipeline\n",
    "from itertools import product\n",
    "from sklearn.svm import SVC\n",
    "import pandas as pd\n",
    "\n",
    "def classify_cv_predefined(X_train, Y_train, X_test, Y_test, cv):\n",
    "\n",
    "    df_results = pd.DataFrame()\n",
    "    for n in range(cv):\n",
    "        \n",
    "        X_train_batch = X_train[n]\n",
    "        Y_train_batch = Y_train[n]\n",
    "        X_test_batch = X_test[n]\n",
    "        Y_test_batch = Y_test[n]\n",
    "        \n",
    "        '''print(\"Linear Regression :\")\n",
    "        results = {}\n",
    "        logistic_regression = LogisticRegression(max_iter=300).fit(X_train_batch, Y_train_batch)\n",
    "        Y_pred = logistic_regression.predict(X_test_batch)\n",
    "        accuracy = accuracy_score(Y_test_batch, Y_pred)\n",
    "        results['Model'] = \"Linear Regression\"\n",
    "        results['Accuracy'] = accuracy\n",
    "        results['Params'] = \"None\"\n",
    "        df_results = pd.concat([df_results, pd.DataFrame([results])], ignore_index = True)'''\n",
    "\n",
    "        print(\"SVM :\")\n",
    "        param_svm = {\n",
    "            'C': [1, 10, 100], \n",
    "            'gamma': [0.1, 0.01, 0.001], \n",
    "            'kernel': ['linear']\n",
    "        }\n",
    "        param_svm = list(product(*param_svm.values()))\n",
    "        for params in param_svm:\n",
    "            results = {}\n",
    "            C, gamma, kernel = params\n",
    "            svm = make_pipeline(StandardScaler(), SVC(kernel = 'linear')).fit(X_train_batch, Y_train_batch)\n",
    "            Y_pred = svm.predict(X_test_batch)\n",
    "            accuracy = accuracy_score(Y_test_batch, Y_pred)\n",
    "            results['Model'] = \"SVM\"\n",
    "            results['Accuracy'] = accuracy\n",
    "            results['Params'] = str(params)\n",
    "            df_results = pd.concat([df_results, pd.DataFrame([results])], ignore_index = True)\n",
    "\n",
    "        '''print(\"RBF :\")\n",
    "        param_rbf = {\n",
    "            'C': [1, 10, 100], \n",
    "            'gamma': [0.1, 0.01, 0.001], \n",
    "            'kernel': ['rbf']\n",
    "        }\n",
    "        param_rbf = list(product(*param_rbf.values()))\n",
    "        for params in param_rbf:\n",
    "            results = {}\n",
    "            C, gamma, kernel = params\n",
    "            rbf = make_pipeline(StandardScaler(), SVC(gamma = gamma, C = C, kernel = kernel)).fit(X_train_batch, Y_train_batch)\n",
    "            Y_pred = rbf.predict(X_test_batch)\n",
    "            accuracy = accuracy_score(Y_test_batch, Y_pred)\n",
    "            results['Model'] = \"RBF\"\n",
    "            results['Accuracy'] = accuracy\n",
    "            results['Params'] = str(params)\n",
    "            df_results = pd.concat([df_results, pd.DataFrame([results])], ignore_index = True)'''\n",
    "\n",
    "        '''print(\"Random Forest :\")\n",
    "        param_random_forest = {\n",
    "            'random_state' : [0],\n",
    "            'max_depth': [1, 2, 5, 10], \n",
    "            'n_estimators' : [50, 100, 150, 200],\n",
    "            'criterion': ['gini', 'entropy', 'log_loss']            \n",
    "        }\n",
    "        param_random_forest = list(product(*param_random_forest.values()))\n",
    "        for params in param_random_forest:\n",
    "            results = {}\n",
    "            random_state, max_depth, n_estimators, criterion = params\n",
    "            rf = RandomForestClassifier(n_estimators = n_estimators, criterion = criterion, random_state = random_state, max_depth = max_depth ).fit(X_train_batch, Y_train_batch)\n",
    "            Y_pred = rf.predict(X_test_batch)\n",
    "            accuracy = accuracy_score(Y_test_batch, Y_pred)\n",
    "            results['Model'] = \"RF\"\n",
    "            results['Accuracy'] = accuracy\n",
    "            results['Params'] = str(params)\n",
    "            df_results = pd.concat([df_results, pd.DataFrame([results])], ignore_index = True)'''\n",
    "\n",
    "    return df_results"
   ]
  },
  {
   "cell_type": "code",
   "execution_count": 25,
   "metadata": {},
   "outputs": [
    {
     "name": "stdout",
     "output_type": "stream",
     "text": [
      "SVM :\n",
      "SVM :\n",
      "SVM :\n",
      "SVM :\n",
      "SVM :\n"
     ]
    }
   ],
   "source": [
    "#from classification import classify_cv_predefined\n",
    "\n",
    "df_fasttext = classify_cv_predefined(X_train, Y_train, X_test, Y_test, cv)"
   ]
  },
  {
   "cell_type": "code",
   "execution_count": 29,
   "metadata": {},
   "outputs": [
    {
     "data": {
      "text/html": [
       "<div>\n",
       "<style scoped>\n",
       "    .dataframe tbody tr th:only-of-type {\n",
       "        vertical-align: middle;\n",
       "    }\n",
       "\n",
       "    .dataframe tbody tr th {\n",
       "        vertical-align: top;\n",
       "    }\n",
       "\n",
       "    .dataframe thead th {\n",
       "        text-align: right;\n",
       "    }\n",
       "</style>\n",
       "<table border=\"1\" class=\"dataframe\">\n",
       "  <thead>\n",
       "    <tr style=\"text-align: right;\">\n",
       "      <th></th>\n",
       "      <th>Model</th>\n",
       "      <th>Accuracy</th>\n",
       "      <th>Params</th>\n",
       "    </tr>\n",
       "  </thead>\n",
       "  <tbody>\n",
       "    <tr>\n",
       "      <th>44</th>\n",
       "      <td>SVM</td>\n",
       "      <td>0.614173</td>\n",
       "      <td>(100, 0.001, 'linear')</td>\n",
       "    </tr>\n",
       "    <tr>\n",
       "      <th>43</th>\n",
       "      <td>SVM</td>\n",
       "      <td>0.614173</td>\n",
       "      <td>(100, 0.01, 'linear')</td>\n",
       "    </tr>\n",
       "    <tr>\n",
       "      <th>42</th>\n",
       "      <td>SVM</td>\n",
       "      <td>0.614173</td>\n",
       "      <td>(100, 0.1, 'linear')</td>\n",
       "    </tr>\n",
       "    <tr>\n",
       "      <th>41</th>\n",
       "      <td>SVM</td>\n",
       "      <td>0.614173</td>\n",
       "      <td>(10, 0.001, 'linear')</td>\n",
       "    </tr>\n",
       "    <tr>\n",
       "      <th>40</th>\n",
       "      <td>SVM</td>\n",
       "      <td>0.614173</td>\n",
       "      <td>(10, 0.01, 'linear')</td>\n",
       "    </tr>\n",
       "    <tr>\n",
       "      <th>39</th>\n",
       "      <td>SVM</td>\n",
       "      <td>0.614173</td>\n",
       "      <td>(10, 0.1, 'linear')</td>\n",
       "    </tr>\n",
       "    <tr>\n",
       "      <th>38</th>\n",
       "      <td>SVM</td>\n",
       "      <td>0.614173</td>\n",
       "      <td>(1, 0.001, 'linear')</td>\n",
       "    </tr>\n",
       "    <tr>\n",
       "      <th>37</th>\n",
       "      <td>SVM</td>\n",
       "      <td>0.614173</td>\n",
       "      <td>(1, 0.01, 'linear')</td>\n",
       "    </tr>\n",
       "    <tr>\n",
       "      <th>36</th>\n",
       "      <td>SVM</td>\n",
       "      <td>0.614173</td>\n",
       "      <td>(1, 0.1, 'linear')</td>\n",
       "    </tr>\n",
       "    <tr>\n",
       "      <th>31</th>\n",
       "      <td>SVM</td>\n",
       "      <td>0.600791</td>\n",
       "      <td>(10, 0.01, 'linear')</td>\n",
       "    </tr>\n",
       "    <tr>\n",
       "      <th>27</th>\n",
       "      <td>SVM</td>\n",
       "      <td>0.600791</td>\n",
       "      <td>(1, 0.1, 'linear')</td>\n",
       "    </tr>\n",
       "    <tr>\n",
       "      <th>28</th>\n",
       "      <td>SVM</td>\n",
       "      <td>0.600791</td>\n",
       "      <td>(1, 0.01, 'linear')</td>\n",
       "    </tr>\n",
       "    <tr>\n",
       "      <th>29</th>\n",
       "      <td>SVM</td>\n",
       "      <td>0.600791</td>\n",
       "      <td>(1, 0.001, 'linear')</td>\n",
       "    </tr>\n",
       "    <tr>\n",
       "      <th>30</th>\n",
       "      <td>SVM</td>\n",
       "      <td>0.600791</td>\n",
       "      <td>(10, 0.1, 'linear')</td>\n",
       "    </tr>\n",
       "    <tr>\n",
       "      <th>34</th>\n",
       "      <td>SVM</td>\n",
       "      <td>0.600791</td>\n",
       "      <td>(100, 0.01, 'linear')</td>\n",
       "    </tr>\n",
       "    <tr>\n",
       "      <th>32</th>\n",
       "      <td>SVM</td>\n",
       "      <td>0.600791</td>\n",
       "      <td>(10, 0.001, 'linear')</td>\n",
       "    </tr>\n",
       "    <tr>\n",
       "      <th>33</th>\n",
       "      <td>SVM</td>\n",
       "      <td>0.600791</td>\n",
       "      <td>(100, 0.1, 'linear')</td>\n",
       "    </tr>\n",
       "    <tr>\n",
       "      <th>35</th>\n",
       "      <td>SVM</td>\n",
       "      <td>0.600791</td>\n",
       "      <td>(100, 0.001, 'linear')</td>\n",
       "    </tr>\n",
       "    <tr>\n",
       "      <th>23</th>\n",
       "      <td>SVM</td>\n",
       "      <td>0.596838</td>\n",
       "      <td>(10, 0.001, 'linear')</td>\n",
       "    </tr>\n",
       "    <tr>\n",
       "      <th>26</th>\n",
       "      <td>SVM</td>\n",
       "      <td>0.596838</td>\n",
       "      <td>(100, 0.001, 'linear')</td>\n",
       "    </tr>\n",
       "  </tbody>\n",
       "</table>\n",
       "</div>"
      ],
      "text/plain": [
       "   Model  Accuracy                  Params\n",
       "44   SVM  0.614173  (100, 0.001, 'linear')\n",
       "43   SVM  0.614173   (100, 0.01, 'linear')\n",
       "42   SVM  0.614173    (100, 0.1, 'linear')\n",
       "41   SVM  0.614173   (10, 0.001, 'linear')\n",
       "40   SVM  0.614173    (10, 0.01, 'linear')\n",
       "39   SVM  0.614173     (10, 0.1, 'linear')\n",
       "38   SVM  0.614173    (1, 0.001, 'linear')\n",
       "37   SVM  0.614173     (1, 0.01, 'linear')\n",
       "36   SVM  0.614173      (1, 0.1, 'linear')\n",
       "31   SVM  0.600791    (10, 0.01, 'linear')\n",
       "27   SVM  0.600791      (1, 0.1, 'linear')\n",
       "28   SVM  0.600791     (1, 0.01, 'linear')\n",
       "29   SVM  0.600791    (1, 0.001, 'linear')\n",
       "30   SVM  0.600791     (10, 0.1, 'linear')\n",
       "34   SVM  0.600791   (100, 0.01, 'linear')\n",
       "32   SVM  0.600791   (10, 0.001, 'linear')\n",
       "33   SVM  0.600791    (100, 0.1, 'linear')\n",
       "35   SVM  0.600791  (100, 0.001, 'linear')\n",
       "23   SVM  0.596838   (10, 0.001, 'linear')\n",
       "26   SVM  0.596838  (100, 0.001, 'linear')"
      ]
     },
     "execution_count": 29,
     "metadata": {},
     "output_type": "execute_result"
    }
   ],
   "source": [
    "df_fasttext[(df_fasttext['Model'] == \"SVM\")].sort_values(by = ['Accuracy'], ascending = False).head(20)"
   ]
  },
  {
   "cell_type": "code",
   "execution_count": 32,
   "metadata": {},
   "outputs": [
    {
     "data": {
      "text/plain": [
       "5"
      ]
     },
     "execution_count": 32,
     "metadata": {},
     "output_type": "execute_result"
    }
   ],
   "source": [
    "len(df_fasttext)"
   ]
  },
  {
   "cell_type": "code",
   "execution_count": 31,
   "metadata": {},
   "outputs": [
    {
     "name": "stdout",
     "output_type": "stream",
     "text": [
      "0.57\n",
      "0.59\n",
      "0.61\n"
     ]
    }
   ],
   "source": [
    "df_fasttext_best = df_fasttext[(df_fasttext['Model'] == \"SVM\") & (df_fasttext['Params'] == \"(100, 0.001, 'linear')\")]\n",
    "print(round(df_fasttext_best[\"Accuracy\"].values.min(), 2))\n",
    "print(round(df_fasttext_best[\"Accuracy\"].values.mean(), 2))\n",
    "print(round(df_fasttext_best[\"Accuracy\"].values.max(), 2))"
   ]
  }
 ],
 "metadata": {
  "kernelspec": {
   "display_name": "clara-datasets",
   "language": "python",
   "name": "python3"
  },
  "language_info": {
   "codemirror_mode": {
    "name": "ipython",
    "version": 3
   },
   "file_extension": ".py",
   "mimetype": "text/x-python",
   "name": "python",
   "nbconvert_exporter": "python",
   "pygments_lexer": "ipython3",
   "version": "3.10.8"
  },
  "orig_nbformat": 4
 },
 "nbformat": 4,
 "nbformat_minor": 2
}
