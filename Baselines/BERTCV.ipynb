{
 "cells": [
  {
   "cell_type": "code",
   "execution_count": 1,
   "metadata": {},
   "outputs": [
    {
     "name": "stdout",
     "output_type": "stream",
     "text": [
      "0000 NaN values in chapters.\n",
      "0000 Nan values in concepts.\n",
      "0000 Nan values in classes.\n",
      "0000 Nan values in episdes precedences.\n",
      "0000 Nan values in series precedences.\n"
     ]
    }
   ],
   "source": [
    "import os\n",
    "import pandas as pd\n",
    "import numpy as np\n",
    "\n",
    "\n",
    "main_publisher = 'Merged'\n",
    "\n",
    "script_dir = os.path.dirname(os.path.realpath('__file__'))\n",
    "path = os.path.join(script_dir, '../Data/' + main_publisher + '/')\n",
    "\n",
    "df_chapters = pd.read_csv(path + 'chapters.csv', delimiter = '|')\n",
    "df_chapters_embeddings = pd.read_csv(path + 'embeddings_chapters.csv', delimiter = '|', index_col=0)\n",
    "df_concepts = pd.read_csv(path + 'concepts_bis.csv', delimiter = '|')\n",
    "df_concepts_embeddings = pd.read_csv(path + 'embeddings_concepts_bis.csv', delimiter = '|', index_col=0)\n",
    "df_classes = pd.read_csv(path + 'classes_bis.csv', delimiter = '|')\n",
    "df_classes_embeddings = pd.read_csv(path + 'embeddings_classes_bis.csv', delimiter = '|', index_col=0)\n",
    "df_precedences_episodes = pd.read_csv(path + 'precedences_episodes.csv', delimiter = '|')\n",
    "df_precedences_series = pd.read_csv(path + 'precedences_series.csv', delimiter = '|')\n",
    "\n",
    "df_concepts['Concept'] = df_concepts['Concept'].apply(lambda x : x.split('/')[-1])\n",
    "\n",
    "df_classes = df_classes.dropna()\n",
    "print(f'{df_chapters[\"Cid\"].isna().sum().sum():04d} NaN values in chapters.')\n",
    "print(f'{df_concepts.isna().sum().sum():04d} Nan values in concepts.')\n",
    "print(f'{df_classes.isna().sum().sum():04d} Nan values in classes.')\n",
    "print(f'{df_precedences_episodes.isna().sum().sum():04d} Nan values in episdes precedences.')\n",
    "print(f'{df_precedences_series.isna().sum().sum():04d} Nan values in series precedences.')"
   ]
  },
  {
   "cell_type": "code",
   "execution_count": 2,
   "metadata": {},
   "outputs": [],
   "source": [
    "from utils import *\n",
    "\n",
    "unique_oer_id = id_mapper(df_chapters['Cid'], 'OER')\n",
    "unique_concept_id =  id_mapper(df_concepts['Concept'], 'Concept')\n",
    "unique_class_id =  id_mapper(df_classes['Class'], 'Class')"
   ]
  },
  {
   "cell_type": "code",
   "execution_count": 3,
   "metadata": {},
   "outputs": [
    {
     "name": "stdout",
     "output_type": "stream",
     "text": [
      "torch.Size([2, 24347])\n",
      "torch.Size([2, 24347])\n",
      "torch.Size([2, 2928])\n",
      "torch.Size([2, 1407])\n",
      "torch.Size([2, 72048])\n",
      "torch.Size([2, 72048])\n"
     ]
    }
   ],
   "source": [
    "oer_covers_concept_subject = edge_construction(df1 = df_concepts, df2 = unique_oer_id, col = 'mappedID', \n",
    "                                       how = 'left', right_on = 'OER')\n",
    "oer_covers_concept_pr = edge_construction(df1 = df_concepts, df2 = unique_oer_id, col = 'PR', \n",
    "                                          how = 'right', right_on = 'OER')\n",
    "oer_covers_concept_object = edge_construction(df1 = df_concepts, df2 = unique_concept_id, col = 'mappedID', \n",
    "                                       how = 'left', right_on = 'Concept')\n",
    "\n",
    "oer_before_oer_ep_subject = edge_construction(df1 = df_precedences_episodes, df2 = unique_oer_id, col = 'mappedID', \n",
    "                                   how = 'left', left_on = 'Before', right_on = 'OER')\n",
    "oer_before_oer_ep_object = edge_construction(df1 = df_precedences_episodes, df2 = unique_oer_id, col = 'mappedID', \n",
    "                                   how = 'left', left_on = 'After', right_on = 'OER')\n",
    "oer_before_oer_sr_subject = edge_construction(df1 = df_precedences_series, df2 = unique_oer_id, col = 'mappedID', \n",
    "                                   how = 'left', left_on = 'Before', right_on = 'OER')\n",
    "oer_before_oer_sr_object = edge_construction(df1 = df_precedences_series, df2 = unique_oer_id, col = 'mappedID', \n",
    "                                   how = 'left', left_on = 'After', right_on = 'OER')\n",
    "\n",
    "concept_belongs_class_subject = edge_construction(df1 = df_classes, df2 = unique_concept_id, col = 'mappedID', \n",
    "                                   how = 'left', left_on = 'Concept', right_on = 'Concept')\n",
    "concept_belongs_class_object = edge_construction(df1 = df_classes, df2 = unique_class_id, col = 'mappedID', \n",
    "                                   how = 'left', left_on = 'Class', right_on = 'Class')\n",
    "\n",
    "oer_covers_concept = torch.stack([oer_covers_concept_subject, oer_covers_concept_object], dim = 0).long()\n",
    "oer_covers_concept_rev = torch.stack([oer_covers_concept_object, oer_covers_concept_subject], dim = 0).long()\n",
    "oer_before_oer_ep = torch.stack([oer_before_oer_ep_subject, oer_before_oer_ep_object], dim = 0).long()\n",
    "oer_before_oer_sr = torch.stack([oer_before_oer_sr_subject, oer_before_oer_sr_object], dim = 0).long()\n",
    "concept_belongs_class = torch.stack([concept_belongs_class_subject, concept_belongs_class_object], dim = 0).long()\n",
    "concept_belongs_class_rev = torch.stack([concept_belongs_class_object, concept_belongs_class_subject], dim = 0).long()\n",
    "print(oer_covers_concept.shape)\n",
    "print(oer_covers_concept_rev.shape)\n",
    "print(oer_before_oer_ep.shape)\n",
    "print(oer_before_oer_sr.shape)\n",
    "print(concept_belongs_class.shape)\n",
    "print(concept_belongs_class_rev.shape)"
   ]
  },
  {
   "cell_type": "code",
   "execution_count": 4,
   "metadata": {},
   "outputs": [],
   "source": [
    "chapters_embeddings_tmp = {}\n",
    "concepts_embeddings_tmp = {} \n",
    "classes_embeddings_tmp = {}\n",
    "\n",
    "chapters_r = range(len(df_chapters['Cid'].unique()))\n",
    "concepts_c = range(len(df_concepts['Concept'].unique()))\n",
    "classes_c = range(len(df_classes['Class'].unique()))\n",
    "\n",
    "chapters_embeddings = np.zeros(shape=(len(chapters_r), 768))\n",
    "concepts_embeddings = np.zeros(shape=(len(concepts_c), 768))\n",
    "classes_embeddings = np.zeros(shape=(len(classes_c), 768))\n",
    "\n",
    "\n",
    "i = 0\n",
    "for r in chapters_r:\n",
    "    chapters_embeddings_tmp[r] = list(filter(None, df_chapters_embeddings['BERT'][r].strip(\"[]\\n\").replace(\"'\",\"\").split(\" \")))\n",
    "    chapters_embeddings_tmp[r] = [float(f) for f in chapters_embeddings_tmp[r]]\n",
    "    for a in range(len(chapters_embeddings_tmp[r])):\n",
    "            chapters_embeddings[i][a] = chapters_embeddings_tmp[r][a]\n",
    "    i += 1\n",
    "\n",
    "i = 0\n",
    "for r in concepts_c:\n",
    "    concepts_embeddings_tmp[r] = list(filter(None, df_concepts_embeddings['BERT'][r].strip(\"[]\\n\").replace(\"'\",\"\").split(\" \")))\n",
    "    concepts_embeddings_tmp[r] = [float(f) for f in concepts_embeddings_tmp[r]]\n",
    "    for a in range(len(concepts_embeddings_tmp[r])):\n",
    "            concepts_embeddings[i][a] = concepts_embeddings_tmp[r][a]\n",
    "    i += 1   \n",
    "\n",
    "i = 0\n",
    "for r in classes_c:\n",
    "    classes_embeddings_tmp[r] = list(filter(None, df_classes_embeddings['BERT'][r].strip(\"[]\\n\").replace(\"'\",\"\").split(\" \")))\n",
    "    classes_embeddings_tmp[r] = [float(f) for f in classes_embeddings_tmp[r]]\n",
    "    for a in range(len(classes_embeddings_tmp[r])):\n",
    "            classes_embeddings[i][a] = classes_embeddings_tmp[r][a]\n",
    "    i += 1\n",
    "\n",
    "chapters_embeddings = torch.from_numpy(chapters_embeddings).to(torch.float32)\n",
    "concepts_embeddings = torch.from_numpy(concepts_embeddings).to(torch.float32)\n",
    "classes_embeddings = torch.from_numpy(classes_embeddings).to(torch.float32)"
   ]
  },
  {
   "cell_type": "code",
   "execution_count": 5,
   "metadata": {},
   "outputs": [
    {
     "name": "stderr",
     "output_type": "stream",
     "text": [
      "/home/abazouzi/Documents/Code/PrerequisiteLearning/clara-datasets/lib64/python3.10/site-packages/tqdm/auto.py:21: TqdmWarning: IProgress not found. Please update jupyter and ipywidgets. See https://ipywidgets.readthedocs.io/en/stable/user_install.html\n",
      "  from .autonotebook import tqdm as notebook_tqdm\n"
     ]
    },
    {
     "name": "stdout",
     "output_type": "stream",
     "text": [
      "torch.Size([2, 2928])\n",
      "HeteroData(\n",
      "  \u001b[1mOER\u001b[0m={\n",
      "    node_id=[4407],\n",
      "    x=[4407, 768]\n",
      "  },\n",
      "  \u001b[1mConcept\u001b[0m={\n",
      "    node_id=[7970],\n",
      "    x=[7970, 768]\n",
      "  },\n",
      "  \u001b[1mClass\u001b[0m={\n",
      "    node_id=[302],\n",
      "    x=[302, 768]\n",
      "  },\n",
      "  \u001b[1m(OER, covers, Concept)\u001b[0m={\n",
      "    edge_index=[2, 24347],\n",
      "    edge_attr=[24732]\n",
      "  },\n",
      "  \u001b[1m(Concept, rev_covers, OER)\u001b[0m={ edge_index=[2, 24347] },\n",
      "  \u001b[1m(OER, before_sr, OER)\u001b[0m={ edge_index=[2, 1407] },\n",
      "  \u001b[1m(OER, before_ep, OER)\u001b[0m={ edge_index=[2, 2928] },\n",
      "  \u001b[1m(Concept, belongs, Class)\u001b[0m={ edge_index=[2, 72048] },\n",
      "  \u001b[1m(Class, rev_belongs, Concept)\u001b[0m={ edge_index=[2, 72048] }\n",
      ")\n"
     ]
    }
   ],
   "source": [
    "from torch_geometric.data import HeteroData\n",
    "import torch_geometric.transforms as T\n",
    "\n",
    "data = HeteroData()\n",
    "data['OER'].node_id = torch.tensor(unique_oer_id['mappedID'].values)\n",
    "data['OER'].x = chapters_embeddings\n",
    "data['Concept'].node_id = torch.tensor(unique_concept_id['mappedID'].values)\n",
    "data['Concept'].x = concepts_embeddings\n",
    "data['Class'].node_id = torch.tensor(unique_class_id['mappedID'].values)\n",
    "data['Class'].x = classes_embeddings\n",
    "data['OER', 'covers', 'Concept'].edge_index = oer_covers_concept\n",
    "data['Concept', 'rev_covers', 'OER'].edge_index = oer_covers_concept_rev\n",
    "\n",
    "data['OER', 'covers', 'Concept'].edge_attr = oer_covers_concept_pr\n",
    "print(oer_before_oer_ep.shape)\n",
    "data['OER', 'before_sr', 'OER'].edge_index = oer_before_oer_sr\n",
    "data['OER', 'before_ep', 'OER'].edge_index = oer_before_oer_ep\n",
    "data['Concept', 'belongs', 'Class'].edge_index = concept_belongs_class\n",
    "data['Class', 'rev_belongs', 'Concept'].edge_index = concept_belongs_class_rev\n",
    "\n",
    "#data = T.ToUndirected()(data)\n",
    "data.validate()\n",
    "print(data)"
   ]
  },
  {
   "cell_type": "code",
   "execution_count": 6,
   "metadata": {},
   "outputs": [],
   "source": [
    "import random\n",
    "\n",
    "def seed_everything(seed=0):                                                  \n",
    "       random.seed(seed)                                                            \n",
    "       torch.manual_seed(seed)                                                      \n",
    "       torch.cuda.manual_seed_all(seed)                                             \n",
    "       np.random.seed(seed)                                                         \n",
    "       os.environ['PYTHONHASHSEED'] = str(seed)                                     \n",
    "       torch.backends.cudnn.deterministic = True                                    \n",
    "       torch.backends.cudnn.benchmark = False\n",
    "\n"
   ]
  },
  {
   "cell_type": "code",
   "execution_count": 7,
   "metadata": {},
   "outputs": [
    {
     "name": "stdout",
     "output_type": "stream",
     "text": [
      "2028\t Edges for training\n",
      "252\t Edges for validation\n",
      "252\t Edges for testing\n",
      "tensor([1247, 2703, 4364, 4040, 3726])\n",
      "tensor([1706,  134, 2279, 3486, 3509])\n",
      "tensor([3269, 2685,  776, 3197, 2997])\n",
      "tensor([1248, 2704, 4365, 4041, 3727])\n",
      "tensor([1707,  135, 2280, 3487, 3510])\n",
      "tensor([3270, 2686,  777, 3198, 2998])\n"
     ]
    }
   ],
   "source": [
    "agnostic = False\n",
    "if agnostic:\n",
    "    num_val = 0.5\n",
    "    num_test = 0.5\n",
    "else:\n",
    "    num_val = 0.1\n",
    "    num_test = 0.1\n",
    "seed_everything()\n",
    "transform = T.RandomLinkSplit(\n",
    "    num_val = num_val,\n",
    "    num_test = num_test,\n",
    "    disjoint_train_ratio = 0.0,\n",
    "    neg_sampling_ratio = 0.8,\n",
    "    add_negative_train_samples = True,\n",
    "    edge_types=('OER', 'before_sr', 'OER')\n",
    ")\n",
    "\n",
    "train_data, val_data, test_data = transform(data)\n",
    "print(f'{len(train_data[\"OER\", \"before_sr\", \"OER\"].edge_label.detach().numpy())}\\t Edges for training')\n",
    "print(f'{len(val_data[\"OER\", \"before_sr\", \"OER\"].edge_label.detach().numpy())}\\t Edges for validation')\n",
    "print(f'{len(test_data[\"OER\", \"before_sr\", \"OER\"].edge_label.detach().numpy())}\\t Edges for testing')\n",
    "print(train_data[\"OER\", \"before_sr\", \"OER\"].edge_label_index[0][:5])\n",
    "print(val_data[\"OER\", \"before_sr\", \"OER\"].edge_label_index[0][:5])\n",
    "print(test_data[\"OER\", \"before_sr\", \"OER\"].edge_label_index[0][:5])\n",
    "print(train_data[\"OER\", \"before_sr\", \"OER\"].edge_label_index[1][:5])\n",
    "print(val_data[\"OER\", \"before_sr\", \"OER\"].edge_label_index[1][:5])\n",
    "print(test_data[\"OER\", \"before_sr\", \"OER\"].edge_label_index[1][:5])"
   ]
  },
  {
   "cell_type": "code",
   "execution_count": 8,
   "metadata": {},
   "outputs": [
    {
     "name": "stdout",
     "output_type": "stream",
     "text": [
      "2532\n",
      "2532\n",
      "2532\n",
      "3521\n"
     ]
    }
   ],
   "source": [
    "seed_everything()\n",
    "cross_val_data = {}\n",
    "cross_val_data[\"OER\", \"before_sr\", \"OER\"] = {}\n",
    "print(len(train_data[\"OER\", \"before_sr\", \"OER\"].edge_label_index[0]) + \n",
    "      len(val_data[\"OER\", \"before_sr\", \"OER\"].edge_label_index[0]) +\n",
    "      len(test_data[\"OER\", \"before_sr\", \"OER\"].edge_label_index[0]))\n",
    "\n",
    "cross_val_data[\"OER\", \"before_sr\", \"OER\"][\"edge_label\"] = torch.cat(\n",
    "    [train_data[\"OER\", \"before_sr\", \"OER\"].edge_label, \n",
    "     val_data[\"OER\", \"before_sr\", \"OER\"].edge_label,\n",
    "     test_data[\"OER\", \"before_sr\", \"OER\"].edge_label], \n",
    "    dim = 0).long()\n",
    "cross_val_data[\"OER\", \"before_sr\", \"OER\"][\"edge_label_index\"] = torch.cat(\n",
    "    [train_data[\"OER\", \"before_sr\", \"OER\"].edge_label_index, \n",
    "     val_data[\"OER\", \"before_sr\", \"OER\"].edge_label_index,\n",
    "     test_data[\"OER\", \"before_sr\", \"OER\"].edge_label_index], \n",
    "    dim = 1).long()\n",
    "cross_val_data[\"OER\", \"before_sr\", \"OER\"][\"edge_index\"] = torch.cat(\n",
    "    [train_data[\"OER\", \"before_sr\", \"OER\"].edge_index, \n",
    "     val_data[\"OER\", \"before_sr\", \"OER\"].edge_index,\n",
    "     test_data[\"OER\", \"before_sr\", \"OER\"].edge_index],\n",
    "    dim = 1).long()\n",
    "print(len(cross_val_data[\"OER\", \"before_sr\", \"OER\"][\"edge_label\"]))\n",
    "print(len(cross_val_data[\"OER\", \"before_sr\", \"OER\"][\"edge_label_index\"][0]))\n",
    "print(len(cross_val_data[\"OER\", \"before_sr\", \"OER\"][\"edge_index\"][0]))"
   ]
  },
  {
   "cell_type": "code",
   "execution_count": 9,
   "metadata": {},
   "outputs": [
    {
     "name": "stdout",
     "output_type": "stream",
     "text": [
      "tensor([  54, 3196, 3431,  ..., 3746, 2287, 3773])\n",
      "tensor([1322, 4084, 3432,  ..., 3747, 2288, 3159])\n",
      "tensor([0, 0, 1,  ..., 1, 1, 0])\n"
     ]
    }
   ],
   "source": [
    "seed_everything()\n",
    "num_samples = len(cross_val_data[\"OER\", \"before_sr\", \"OER\"][\"edge_label\"])\n",
    "shuffled_index = np.arange(num_samples)\n",
    "np.random.shuffle(shuffled_index)\n",
    "cross_val_data[\"OER\", \"before_sr\", \"OER\"][\"edge_label_index\"][0] = cross_val_data[\"OER\", \"before_sr\", \"OER\"][\"edge_label_index\"][0][shuffled_index]\n",
    "cross_val_data[\"OER\", \"before_sr\", \"OER\"][\"edge_label_index\"][1] = cross_val_data[\"OER\", \"before_sr\", \"OER\"][\"edge_label_index\"][1][shuffled_index]\n",
    "cross_val_data[\"OER\", \"before_sr\", \"OER\"][\"edge_label\"] = cross_val_data[\"OER\", \"before_sr\", \"OER\"][\"edge_label\"][shuffled_index]\n",
    "print(cross_val_data[\"OER\", \"before_sr\", \"OER\"][\"edge_label_index\"][0])\n",
    "print(cross_val_data[\"OER\", \"before_sr\", \"OER\"][\"edge_label_index\"][1])\n",
    "print(cross_val_data[\"OER\", \"before_sr\", \"OER\"][\"edge_label\"])"
   ]
  },
  {
   "cell_type": "code",
   "execution_count": 10,
   "metadata": {},
   "outputs": [
    {
     "name": "stdout",
     "output_type": "stream",
     "text": [
      "506\n",
      "506\n",
      "506\n",
      "------------------------------\n",
      "506\n",
      "506\n",
      "506\n",
      "------------------------------\n",
      "506\n",
      "506\n",
      "506\n",
      "------------------------------\n",
      "506\n",
      "506\n",
      "506\n",
      "------------------------------\n",
      "508\n",
      "508\n",
      "508\n",
      "------------------------------\n"
     ]
    }
   ],
   "source": [
    "cv = 5\n",
    "chunk_size = int(len(cross_val_data[\"OER\", \"before_sr\", \"OER\"][\"edge_label\"]) / cv)\n",
    "cross_val_chunks = []\n",
    "for n in range(cv):\n",
    "    cross_val_chunk = {}\n",
    "    cross_val_chunk[\"OER\", \"before_sr\", \"OER\"] = {}\n",
    "    cross_val_chunk[\"OER\", \"before_sr\", \"OER\"][\"edge_label\"] = {}\n",
    "    begin = n * chunk_size\n",
    "    if n == cv - 1:\n",
    "        end = len(cross_val_data[\"OER\", \"before_sr\", \"OER\"][\"edge_label\"])\n",
    "    else :\n",
    "        end = (n+1) * chunk_size\n",
    "    cross_val_chunk[\"OER\", \"before_sr\", \"OER\"][\"edge_label\"] = cross_val_data[\"OER\", \"before_sr\", \"OER\"][\"edge_label\"][begin : end]\n",
    "    cross_val_chunk[\"OER\", \"before_sr\", \"OER\"][\"edge_label_index\"] = []\n",
    "    cross_val_chunk[\"OER\", \"before_sr\", \"OER\"][\"edge_label_index\"].append(cross_val_data[\"OER\", \"before_sr\", \"OER\"][\"edge_label_index\"][0][begin : end])\n",
    "    cross_val_chunk[\"OER\", \"before_sr\", \"OER\"][\"edge_label_index\"].append(cross_val_data[\"OER\", \"before_sr\", \"OER\"][\"edge_label_index\"][1][begin : end])\n",
    "    cross_val_chunks.append(cross_val_chunk)\n",
    "for n in range(cv):\n",
    "    print(len(cross_val_chunks[n][\"OER\", \"before_sr\", \"OER\"][\"edge_label\"]))\n",
    "    print(len(cross_val_chunks[n][\"OER\", \"before_sr\", \"OER\"][\"edge_label_index\"][0]))\n",
    "    print(len(cross_val_chunks[n][\"OER\", \"before_sr\", \"OER\"][\"edge_label_index\"][1]))\n",
    "    print(\"------------------------------\")"
   ]
  },
  {
   "cell_type": "code",
   "execution_count": 11,
   "metadata": {},
   "outputs": [
    {
     "data": {
      "text/plain": [
       "5"
      ]
     },
     "execution_count": 11,
     "metadata": {},
     "output_type": "execute_result"
    }
   ],
   "source": [
    "cross_val_data_train = []\n",
    "cross_val_data_test = []\n",
    "for n in range(cv) :\n",
    "    cross_val_data_train_chunk = {}\n",
    "    cross_val_data_train_chunk[\"OER\", \"before_sr\", \"OER\"] = {}\n",
    "    cross_val_data_train_chunk[\"OER\", \"before_sr\", \"OER\"][\"edge_label\"] = torch.cat(\n",
    "    [cross_val_chunks[(n+1)%cv][\"OER\", \"before_sr\", \"OER\"][\"edge_label\"], \n",
    "     cross_val_chunks[(n+2)%cv][\"OER\", \"before_sr\", \"OER\"][\"edge_label\"],\n",
    "     cross_val_chunks[(n+3)%cv][\"OER\", \"before_sr\", \"OER\"][\"edge_label\"],\n",
    "     cross_val_chunks[(n+4)%cv][\"OER\", \"before_sr\", \"OER\"][\"edge_label\"]\n",
    "     ], \n",
    "    dim = 0).long()\n",
    "    cross_val_data_test_chunk = {}\n",
    "    cross_val_data_test_chunk[\"OER\", \"before_sr\", \"OER\"] = {}\n",
    "    cross_val_data_test_chunk[\"OER\", \"before_sr\", \"OER\"][\"edge_label\"] = cross_val_chunks[n][\"OER\", \"before_sr\", \"OER\"][\"edge_label\"]\n",
    "\n",
    "    cross_val_data_train_chunk[\"OER\", \"before_sr\", \"OER\"][\"edge_label_index\"] = []\n",
    "    cross_val_data_train_chunk[\"OER\", \"before_sr\", \"OER\"][\"edge_label_index\"].append(torch.cat(\n",
    "    [cross_val_chunks[(n+1)%cv][\"OER\", \"before_sr\", \"OER\"][\"edge_label_index\"][0], \n",
    "     cross_val_chunks[(n+2)%cv][\"OER\", \"before_sr\", \"OER\"][\"edge_label_index\"][0],\n",
    "     cross_val_chunks[(n+3)%cv][\"OER\", \"before_sr\", \"OER\"][\"edge_label_index\"][0],\n",
    "     cross_val_chunks[(n+4)%cv][\"OER\", \"before_sr\", \"OER\"][\"edge_label_index\"][0]\n",
    "     ], \n",
    "    dim = 0).long())\n",
    "    cross_val_data_train_chunk[\"OER\", \"before_sr\", \"OER\"][\"edge_label_index\"].append(torch.cat(\n",
    "    [cross_val_chunks[(n+1)%cv][\"OER\", \"before_sr\", \"OER\"][\"edge_label_index\"][1], \n",
    "     cross_val_chunks[(n+2)%cv][\"OER\", \"before_sr\", \"OER\"][\"edge_label_index\"][1],\n",
    "     cross_val_chunks[(n+3)%cv][\"OER\", \"before_sr\", \"OER\"][\"edge_label_index\"][1],\n",
    "     cross_val_chunks[(n+4)%cv][\"OER\", \"before_sr\", \"OER\"][\"edge_label_index\"][1]\n",
    "     ], \n",
    "    dim = 0).long())\n",
    "    cross_val_data_test_chunk[\"OER\", \"before_sr\", \"OER\"][\"edge_label_index\"] = []\n",
    "    cross_val_data_test_chunk[\"OER\", \"before_sr\", \"OER\"][\"edge_label_index\"].append(\n",
    "        cross_val_chunks[n][\"OER\", \"before_sr\", \"OER\"][\"edge_label_index\"][0])\n",
    "    cross_val_data_test_chunk[\"OER\", \"before_sr\", \"OER\"][\"edge_label_index\"].append(\n",
    "        cross_val_chunks[n][\"OER\", \"before_sr\", \"OER\"][\"edge_label_index\"][1])\n",
    "    \n",
    "    cross_val_data_train.append(cross_val_data_train_chunk)\n",
    "    cross_val_data_test.append(cross_val_data_test_chunk)\n",
    "\n",
    "len(cross_val_data_train)"
   ]
  },
  {
   "cell_type": "code",
   "execution_count": 12,
   "metadata": {},
   "outputs": [
    {
     "name": "stdout",
     "output_type": "stream",
     "text": [
      "(2026, 1536) torch.Size([2026])\n",
      "(506, 1536) torch.Size([506])\n"
     ]
    }
   ],
   "source": [
    "X_train_index = []\n",
    "X_train = []\n",
    "X_test_index = []\n",
    "X_test = []\n",
    "Y_train = []\n",
    "Y_test = []\n",
    "for n in range(cv):\n",
    "    X_train_index.append(cross_val_data_train[n][\"OER\", \"before_sr\", \"OER\"][\"edge_label_index\"])\n",
    "    X_train.append(np.concatenate([chapters_embeddings[X_train_index[n][0]],chapters_embeddings[X_train_index[n][1]]], axis=1))\n",
    "    Y_train.append(cross_val_data_train[n][\"OER\", \"before_sr\", \"OER\"][\"edge_label\"])\n",
    "    X_test_index.append(cross_val_data_test[n][\"OER\", \"before_sr\", \"OER\"][\"edge_label_index\"])\n",
    "    X_test.append(np.concatenate([chapters_embeddings[X_test_index[n][0]],chapters_embeddings[X_test_index[n][1]]], axis=1))\n",
    "    Y_test.append(cross_val_data_test[n][\"OER\", \"before_sr\", \"OER\"][\"edge_label\"])\n",
    "\n",
    "print(X_train[0].shape, Y_train[0].shape)\n",
    "print(X_test[0].shape, Y_test[0].shape)"
   ]
  },
  {
   "cell_type": "code",
   "execution_count": 13,
   "metadata": {},
   "outputs": [
    {
     "name": "stdout",
     "output_type": "stream",
     "text": [
      "Linear Regression :\n"
     ]
    },
    {
     "name": "stderr",
     "output_type": "stream",
     "text": [
      "/home/abazouzi/Documents/Code/PrerequisiteLearning/clara-datasets/lib64/python3.10/site-packages/sklearn/linear_model/_logistic.py:460: ConvergenceWarning: lbfgs failed to converge (status=1):\n",
      "STOP: TOTAL NO. of ITERATIONS REACHED LIMIT.\n",
      "\n",
      "Increase the number of iterations (max_iter) or scale the data as shown in:\n",
      "    https://scikit-learn.org/stable/modules/preprocessing.html\n",
      "Please also refer to the documentation for alternative solver options:\n",
      "    https://scikit-learn.org/stable/modules/linear_model.html#logistic-regression\n",
      "  n_iter_i = _check_optimize_result(\n"
     ]
    },
    {
     "name": "stdout",
     "output_type": "stream",
     "text": [
      "SVM :\n",
      "RBF :\n",
      "Random Forest :\n",
      "Linear Regression :\n"
     ]
    },
    {
     "name": "stderr",
     "output_type": "stream",
     "text": [
      "/home/abazouzi/Documents/Code/PrerequisiteLearning/clara-datasets/lib64/python3.10/site-packages/sklearn/linear_model/_logistic.py:460: ConvergenceWarning: lbfgs failed to converge (status=1):\n",
      "STOP: TOTAL NO. of ITERATIONS REACHED LIMIT.\n",
      "\n",
      "Increase the number of iterations (max_iter) or scale the data as shown in:\n",
      "    https://scikit-learn.org/stable/modules/preprocessing.html\n",
      "Please also refer to the documentation for alternative solver options:\n",
      "    https://scikit-learn.org/stable/modules/linear_model.html#logistic-regression\n",
      "  n_iter_i = _check_optimize_result(\n"
     ]
    },
    {
     "name": "stdout",
     "output_type": "stream",
     "text": [
      "SVM :\n",
      "RBF :\n",
      "Random Forest :\n",
      "Linear Regression :\n"
     ]
    },
    {
     "name": "stderr",
     "output_type": "stream",
     "text": [
      "/home/abazouzi/Documents/Code/PrerequisiteLearning/clara-datasets/lib64/python3.10/site-packages/sklearn/linear_model/_logistic.py:460: ConvergenceWarning: lbfgs failed to converge (status=1):\n",
      "STOP: TOTAL NO. of ITERATIONS REACHED LIMIT.\n",
      "\n",
      "Increase the number of iterations (max_iter) or scale the data as shown in:\n",
      "    https://scikit-learn.org/stable/modules/preprocessing.html\n",
      "Please also refer to the documentation for alternative solver options:\n",
      "    https://scikit-learn.org/stable/modules/linear_model.html#logistic-regression\n",
      "  n_iter_i = _check_optimize_result(\n"
     ]
    },
    {
     "name": "stdout",
     "output_type": "stream",
     "text": [
      "SVM :\n",
      "RBF :\n",
      "Random Forest :\n",
      "Linear Regression :\n"
     ]
    },
    {
     "name": "stderr",
     "output_type": "stream",
     "text": [
      "/home/abazouzi/Documents/Code/PrerequisiteLearning/clara-datasets/lib64/python3.10/site-packages/sklearn/linear_model/_logistic.py:460: ConvergenceWarning: lbfgs failed to converge (status=1):\n",
      "STOP: TOTAL NO. of ITERATIONS REACHED LIMIT.\n",
      "\n",
      "Increase the number of iterations (max_iter) or scale the data as shown in:\n",
      "    https://scikit-learn.org/stable/modules/preprocessing.html\n",
      "Please also refer to the documentation for alternative solver options:\n",
      "    https://scikit-learn.org/stable/modules/linear_model.html#logistic-regression\n",
      "  n_iter_i = _check_optimize_result(\n"
     ]
    },
    {
     "name": "stdout",
     "output_type": "stream",
     "text": [
      "SVM :\n",
      "RBF :\n",
      "Random Forest :\n",
      "Linear Regression :\n"
     ]
    },
    {
     "name": "stderr",
     "output_type": "stream",
     "text": [
      "/home/abazouzi/Documents/Code/PrerequisiteLearning/clara-datasets/lib64/python3.10/site-packages/sklearn/linear_model/_logistic.py:460: ConvergenceWarning: lbfgs failed to converge (status=1):\n",
      "STOP: TOTAL NO. of ITERATIONS REACHED LIMIT.\n",
      "\n",
      "Increase the number of iterations (max_iter) or scale the data as shown in:\n",
      "    https://scikit-learn.org/stable/modules/preprocessing.html\n",
      "Please also refer to the documentation for alternative solver options:\n",
      "    https://scikit-learn.org/stable/modules/linear_model.html#logistic-regression\n",
      "  n_iter_i = _check_optimize_result(\n"
     ]
    },
    {
     "name": "stdout",
     "output_type": "stream",
     "text": [
      "SVM :\n",
      "RBF :\n",
      "Random Forest :\n"
     ]
    }
   ],
   "source": [
    "from classification import classify_cv_predefined\n",
    "\n",
    "df_bert = classify_cv_predefined(X_train, Y_train, X_test, Y_test, cv)"
   ]
  },
  {
   "cell_type": "code",
   "execution_count": 1,
   "metadata": {},
   "outputs": [
    {
     "ename": "NameError",
     "evalue": "name 'df_bert' is not defined",
     "output_type": "error",
     "traceback": [
      "\u001b[0;31m---------------------------------------------------------------------------\u001b[0m",
      "\u001b[0;31mNameError\u001b[0m                                 Traceback (most recent call last)",
      "\u001b[1;32m/home/abazouzi/Documents/Code/PrerequisiteLearning/Baselines/BERTCV.ipynb Cell 14\u001b[0m line \u001b[0;36m1\n\u001b[0;32m----> <a href='vscode-notebook-cell:/home/abazouzi/Documents/Code/PrerequisiteLearning/Baselines/BERTCV.ipynb#X16sZmlsZQ%3D%3D?line=0'>1</a>\u001b[0m df_bert[(df_bert[\u001b[39m'\u001b[39m\u001b[39mModel\u001b[39m\u001b[39m'\u001b[39m] \u001b[39m==\u001b[39m \u001b[39m\"\u001b[39m\u001b[39mSVM\u001b[39m\u001b[39m\"\u001b[39m)]\u001b[39m.\u001b[39msort_values(by \u001b[39m=\u001b[39m [\u001b[39m'\u001b[39m\u001b[39mAccuracy\u001b[39m\u001b[39m'\u001b[39m], ascending \u001b[39m=\u001b[39m \u001b[39mFalse\u001b[39;00m)\u001b[39m.\u001b[39mhead(\u001b[39m10\u001b[39m)\n",
      "\u001b[0;31mNameError\u001b[0m: name 'df_bert' is not defined"
     ]
    }
   ],
   "source": [
    "df_bert[(df_bert['Model'] == \"Linear Regression\")].sort_values(by = ['Accuracy'], ascending = False).head(10)"
   ]
  },
  {
   "cell_type": "code",
   "execution_count": 15,
   "metadata": {},
   "outputs": [
    {
     "data": {
      "text/plain": [
       "405"
      ]
     },
     "execution_count": 15,
     "metadata": {},
     "output_type": "execute_result"
    }
   ],
   "source": [
    "len(df_bert)"
   ]
  },
  {
   "cell_type": "code",
   "execution_count": 25,
   "metadata": {},
   "outputs": [
    {
     "name": "stdout",
     "output_type": "stream",
     "text": [
      "5\n",
      "0.72\n",
      "0.73\n",
      "0.74\n"
     ]
    }
   ],
   "source": [
    "df_bert_best = df_bert[(df_bert['Model'] == \"Linear Regression\")]\n",
    "print(len(df_bert_best))\n",
    "print(round(df_bert_best[\"Accuracy\"].values.min(), 2))\n",
    "print(round(df_bert_best[\"Accuracy\"].values.mean(), 2))\n",
    "print(round(df_bert_best[\"Accuracy\"].values.max(), 2))"
   ]
  },
  {
   "cell_type": "code",
   "execution_count": 17,
   "metadata": {},
   "outputs": [],
   "source": [
    "v = 'v8'\n",
    "if agnostic :\n",
    "    v = 'Agnostic/' + v\n",
    "else :\n",
    "    v = 'Informed/' + v\n",
    "#df_results.to_csv(f'../Output/Evaluation/{main_publisher}/{v}_.csv', index = False, sep = '|')"
   ]
  }
 ],
 "metadata": {
  "kernelspec": {
   "display_name": "clara-datasets",
   "language": "python",
   "name": "python3"
  },
  "language_info": {
   "codemirror_mode": {
    "name": "ipython",
    "version": 3
   },
   "file_extension": ".py",
   "mimetype": "text/x-python",
   "name": "python",
   "nbconvert_exporter": "python",
   "pygments_lexer": "ipython3",
   "version": "3.10.8"
  },
  "orig_nbformat": 4
 },
 "nbformat": 4,
 "nbformat_minor": 2
}
