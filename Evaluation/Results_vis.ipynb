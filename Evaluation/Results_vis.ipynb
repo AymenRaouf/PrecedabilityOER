{
 "cells": [
  {
   "cell_type": "code",
   "execution_count": 52,
   "metadata": {},
   "outputs": [],
   "source": [
    "import pandas as pd\n",
    "\n",
    "main_publisher = 'OYC'\n",
    "df = pd.read_csv(f'../Output/Evaluation/results_fasttext_{main_publisher}.csv', sep = '|')"
   ]
  },
  {
   "cell_type": "code",
   "execution_count": 53,
   "metadata": {},
   "outputs": [
    {
     "data": {
      "text/html": [
       "<div>\n",
       "<style scoped>\n",
       "    .dataframe tbody tr th:only-of-type {\n",
       "        vertical-align: middle;\n",
       "    }\n",
       "\n",
       "    .dataframe tbody tr th {\n",
       "        vertical-align: top;\n",
       "    }\n",
       "\n",
       "    .dataframe thead th {\n",
       "        text-align: right;\n",
       "    }\n",
       "</style>\n",
       "<table border=\"1\" class=\"dataframe\">\n",
       "  <thead>\n",
       "    <tr style=\"text-align: right;\">\n",
       "      <th></th>\n",
       "      <th>Model</th>\n",
       "      <th>Accuracy</th>\n",
       "      <th>Params</th>\n",
       "      <th>Embedding</th>\n",
       "    </tr>\n",
       "  </thead>\n",
       "  <tbody>\n",
       "    <tr>\n",
       "      <th>0</th>\n",
       "      <td>Linear Regression</td>\n",
       "      <td>0.546053</td>\n",
       "      <td>NaN</td>\n",
       "      <td>FastText</td>\n",
       "    </tr>\n",
       "    <tr>\n",
       "      <th>1</th>\n",
       "      <td>SVM</td>\n",
       "      <td>0.532895</td>\n",
       "      <td>(1, 0.1, 'linear')</td>\n",
       "      <td>FastText</td>\n",
       "    </tr>\n",
       "    <tr>\n",
       "      <th>2</th>\n",
       "      <td>SVM</td>\n",
       "      <td>0.532895</td>\n",
       "      <td>(1, 0.01, 'linear')</td>\n",
       "      <td>FastText</td>\n",
       "    </tr>\n",
       "    <tr>\n",
       "      <th>3</th>\n",
       "      <td>SVM</td>\n",
       "      <td>0.532895</td>\n",
       "      <td>(1, 0.001, 'linear')</td>\n",
       "      <td>FastText</td>\n",
       "    </tr>\n",
       "    <tr>\n",
       "      <th>4</th>\n",
       "      <td>SVM</td>\n",
       "      <td>0.532895</td>\n",
       "      <td>(1, 0.0001, 'linear')</td>\n",
       "      <td>FastText</td>\n",
       "    </tr>\n",
       "  </tbody>\n",
       "</table>\n",
       "</div>"
      ],
      "text/plain": [
       "               Model  Accuracy                 Params Embedding\n",
       "0  Linear Regression  0.546053                    NaN  FastText\n",
       "1                SVM  0.532895     (1, 0.1, 'linear')  FastText\n",
       "2                SVM  0.532895    (1, 0.01, 'linear')  FastText\n",
       "3                SVM  0.532895   (1, 0.001, 'linear')  FastText\n",
       "4                SVM  0.532895  (1, 0.0001, 'linear')  FastText"
      ]
     },
     "execution_count": 53,
     "metadata": {},
     "output_type": "execute_result"
    }
   ],
   "source": [
    "df.head()"
   ]
  },
  {
   "cell_type": "code",
   "execution_count": 54,
   "metadata": {},
   "outputs": [],
   "source": [
    "model = 'RBF'\n",
    "best_params = df[(df['Model'] == model)].sort_values(by = ['Accuracy'], ascending = False)['Params'].values[2]"
   ]
  },
  {
   "cell_type": "code",
   "execution_count": 55,
   "metadata": {},
   "outputs": [
    {
     "data": {
      "text/html": [
       "<div>\n",
       "<style scoped>\n",
       "    .dataframe tbody tr th:only-of-type {\n",
       "        vertical-align: middle;\n",
       "    }\n",
       "\n",
       "    .dataframe tbody tr th {\n",
       "        vertical-align: top;\n",
       "    }\n",
       "\n",
       "    .dataframe thead th {\n",
       "        text-align: right;\n",
       "    }\n",
       "</style>\n",
       "<table border=\"1\" class=\"dataframe\">\n",
       "  <thead>\n",
       "    <tr style=\"text-align: right;\">\n",
       "      <th></th>\n",
       "      <th>Model</th>\n",
       "      <th>Accuracy</th>\n",
       "      <th>Params</th>\n",
       "      <th>Embedding</th>\n",
       "    </tr>\n",
       "  </thead>\n",
       "  <tbody>\n",
       "    <tr>\n",
       "      <th>108</th>\n",
       "      <td>RBF</td>\n",
       "      <td>0.809211</td>\n",
       "      <td>(100, 0.001, 'rbf')</td>\n",
       "      <td>FastText</td>\n",
       "    </tr>\n",
       "    <tr>\n",
       "      <th>104</th>\n",
       "      <td>RBF</td>\n",
       "      <td>0.809211</td>\n",
       "      <td>(10, 0.001, 'rbf')</td>\n",
       "      <td>FastText</td>\n",
       "    </tr>\n",
       "    <tr>\n",
       "      <th>112</th>\n",
       "      <td>RBF</td>\n",
       "      <td>0.809211</td>\n",
       "      <td>(1000, 0.001, 'rbf')</td>\n",
       "      <td>FastText</td>\n",
       "    </tr>\n",
       "    <tr>\n",
       "      <th>189</th>\n",
       "      <td>RBF</td>\n",
       "      <td>0.789474</td>\n",
       "      <td>(100, 0.001, 'rbf')</td>\n",
       "      <td>FastText</td>\n",
       "    </tr>\n",
       "    <tr>\n",
       "      <th>193</th>\n",
       "      <td>RBF</td>\n",
       "      <td>0.789474</td>\n",
       "      <td>(1000, 0.001, 'rbf')</td>\n",
       "      <td>FastText</td>\n",
       "    </tr>\n",
       "  </tbody>\n",
       "</table>\n",
       "</div>"
      ],
      "text/plain": [
       "    Model  Accuracy                Params Embedding\n",
       "108   RBF  0.809211   (100, 0.001, 'rbf')  FastText\n",
       "104   RBF  0.809211    (10, 0.001, 'rbf')  FastText\n",
       "112   RBF  0.809211  (1000, 0.001, 'rbf')  FastText\n",
       "189   RBF  0.789474   (100, 0.001, 'rbf')  FastText\n",
       "193   RBF  0.789474  (1000, 0.001, 'rbf')  FastText"
      ]
     },
     "execution_count": 55,
     "metadata": {},
     "output_type": "execute_result"
    }
   ],
   "source": [
    "df[(df['Model'] == model)].sort_values(by = ['Accuracy'], ascending = False).head()"
   ]
  },
  {
   "cell_type": "code",
   "execution_count": 56,
   "metadata": {},
   "outputs": [
    {
     "name": "stdout",
     "output_type": "stream",
     "text": [
      "77($\\pm$2)\n",
      "75 80\n"
     ]
    }
   ],
   "source": [
    "df_best = df[(df['Model'] == model) & (df['Params'] == best_params)]\n",
    "print(f'{int(round(df_best[\"Accuracy\"].values.mean(), 4) * 100)}($\\pm${int(round(df_best[\"Accuracy\"].values.std(), 4)*100)})')\n",
    "print(f'{int(round(df_best[\"Accuracy\"].values.min(), 4) * 100)} {int(round(df_best[\"Accuracy\"].values.max(), 4)*100)}')"
   ]
  },
  {
   "cell_type": "code",
   "execution_count": 179,
   "metadata": {},
   "outputs": [
    {
     "name": "stdout",
     "output_type": "stream",
     "text": [
      "93($\\pm$2)\n"
     ]
    }
   ],
   "source": [
    "main_publisher = 'OYC'\n",
    "df_ModelsAll = pd.read_csv(f'../Modeling/ablation_results_{main_publisher}.csv')\n",
    "df_ModelSAGE = df_ModelsAll[df_ModelsAll['Model']=='SAGE']\n",
    "print(f'{int(round(df_ModelSAGE[\"Test Accuracy\"].values.mean(), 2) * 100)}($\\pm${int(round(df_ModelSAGE[\"Test Accuracy\"].values.std(), 2)*100)})')"
   ]
  }
 ],
 "metadata": {
  "kernelspec": {
   "display_name": "clara-datasets",
   "language": "python",
   "name": "python3"
  },
  "language_info": {
   "codemirror_mode": {
    "name": "ipython",
    "version": 3
   },
   "file_extension": ".py",
   "mimetype": "text/x-python",
   "name": "python",
   "nbconvert_exporter": "python",
   "pygments_lexer": "ipython3",
   "version": "3.10.8"
  }
 },
 "nbformat": 4,
 "nbformat_minor": 2
}
