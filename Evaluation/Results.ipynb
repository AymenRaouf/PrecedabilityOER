{
 "cells": [
  {
   "cell_type": "code",
   "execution_count": 16,
   "metadata": {},
   "outputs": [],
   "source": [
    "import pandas as pd\n",
    "\n",
    "main_publisher = 'Stanford'\n",
    "df = pd.read_csv(f'../Output/Evaluation/results_bert_{main_publisher}.csv', sep = '|')"
   ]
  },
  {
   "cell_type": "code",
   "execution_count": 17,
   "metadata": {},
   "outputs": [
    {
     "data": {
      "text/html": [
       "<div>\n",
       "<style scoped>\n",
       "    .dataframe tbody tr th:only-of-type {\n",
       "        vertical-align: middle;\n",
       "    }\n",
       "\n",
       "    .dataframe tbody tr th {\n",
       "        vertical-align: top;\n",
       "    }\n",
       "\n",
       "    .dataframe thead th {\n",
       "        text-align: right;\n",
       "    }\n",
       "</style>\n",
       "<table border=\"1\" class=\"dataframe\">\n",
       "  <thead>\n",
       "    <tr style=\"text-align: right;\">\n",
       "      <th></th>\n",
       "      <th>Model</th>\n",
       "      <th>Accuracy</th>\n",
       "      <th>Params</th>\n",
       "    </tr>\n",
       "  </thead>\n",
       "  <tbody>\n",
       "    <tr>\n",
       "      <th>0</th>\n",
       "      <td>Linear Regression</td>\n",
       "      <td>0.625806</td>\n",
       "      <td>NaN</td>\n",
       "    </tr>\n",
       "    <tr>\n",
       "      <th>1</th>\n",
       "      <td>SVM</td>\n",
       "      <td>0.554839</td>\n",
       "      <td>(1, 0.1, 'linear')</td>\n",
       "    </tr>\n",
       "    <tr>\n",
       "      <th>2</th>\n",
       "      <td>SVM</td>\n",
       "      <td>0.554839</td>\n",
       "      <td>(1, 0.01, 'linear')</td>\n",
       "    </tr>\n",
       "    <tr>\n",
       "      <th>3</th>\n",
       "      <td>SVM</td>\n",
       "      <td>0.554839</td>\n",
       "      <td>(1, 0.001, 'linear')</td>\n",
       "    </tr>\n",
       "    <tr>\n",
       "      <th>4</th>\n",
       "      <td>SVM</td>\n",
       "      <td>0.554839</td>\n",
       "      <td>(1, 0.0001, 'linear')</td>\n",
       "    </tr>\n",
       "  </tbody>\n",
       "</table>\n",
       "</div>"
      ],
      "text/plain": [
       "               Model  Accuracy                 Params\n",
       "0  Linear Regression  0.625806                    NaN\n",
       "1                SVM  0.554839     (1, 0.1, 'linear')\n",
       "2                SVM  0.554839    (1, 0.01, 'linear')\n",
       "3                SVM  0.554839   (1, 0.001, 'linear')\n",
       "4                SVM  0.554839  (1, 0.0001, 'linear')"
      ]
     },
     "execution_count": 17,
     "metadata": {},
     "output_type": "execute_result"
    }
   ],
   "source": [
    "df.head()"
   ]
  },
  {
   "cell_type": "code",
   "execution_count": 29,
   "metadata": {},
   "outputs": [],
   "source": [
    "model = 'RF'\n",
    "best_params = df[(df['Model'] == model)].sort_values(by = ['Accuracy'], ascending = False)['Params'].values[0]"
   ]
  },
  {
   "cell_type": "code",
   "execution_count": 30,
   "metadata": {},
   "outputs": [
    {
     "data": {
      "text/html": [
       "<div>\n",
       "<style scoped>\n",
       "    .dataframe tbody tr th:only-of-type {\n",
       "        vertical-align: middle;\n",
       "    }\n",
       "\n",
       "    .dataframe tbody tr th {\n",
       "        vertical-align: top;\n",
       "    }\n",
       "\n",
       "    .dataframe thead th {\n",
       "        text-align: right;\n",
       "    }\n",
       "</style>\n",
       "<table border=\"1\" class=\"dataframe\">\n",
       "  <thead>\n",
       "    <tr style=\"text-align: right;\">\n",
       "      <th></th>\n",
       "      <th>Model</th>\n",
       "      <th>Accuracy</th>\n",
       "      <th>Params</th>\n",
       "    </tr>\n",
       "  </thead>\n",
       "  <tbody>\n",
       "    <tr>\n",
       "      <th>390</th>\n",
       "      <td>RF</td>\n",
       "      <td>0.787097</td>\n",
       "      <td>(0, 5, 200, 'gini')</td>\n",
       "    </tr>\n",
       "    <tr>\n",
       "      <th>387</th>\n",
       "      <td>RF</td>\n",
       "      <td>0.780645</td>\n",
       "      <td>(0, 5, 150, 'gini')</td>\n",
       "    </tr>\n",
       "    <tr>\n",
       "      <th>375</th>\n",
       "      <td>RF</td>\n",
       "      <td>0.774194</td>\n",
       "      <td>(0, 2, 150, 'gini')</td>\n",
       "    </tr>\n",
       "    <tr>\n",
       "      <th>384</th>\n",
       "      <td>RF</td>\n",
       "      <td>0.767742</td>\n",
       "      <td>(0, 5, 100, 'gini')</td>\n",
       "    </tr>\n",
       "    <tr>\n",
       "      <th>392</th>\n",
       "      <td>RF</td>\n",
       "      <td>0.767742</td>\n",
       "      <td>(0, 5, 200, 'log_loss')</td>\n",
       "    </tr>\n",
       "  </tbody>\n",
       "</table>\n",
       "</div>"
      ],
      "text/plain": [
       "    Model  Accuracy                   Params\n",
       "390    RF  0.787097      (0, 5, 200, 'gini')\n",
       "387    RF  0.780645      (0, 5, 150, 'gini')\n",
       "375    RF  0.774194      (0, 2, 150, 'gini')\n",
       "384    RF  0.767742      (0, 5, 100, 'gini')\n",
       "392    RF  0.767742  (0, 5, 200, 'log_loss')"
      ]
     },
     "execution_count": 30,
     "metadata": {},
     "output_type": "execute_result"
    }
   ],
   "source": [
    "df[(df['Model'] == model)].sort_values(by = ['Accuracy'], ascending = False).head()"
   ]
  },
  {
   "cell_type": "code",
   "execution_count": 31,
   "metadata": {},
   "outputs": [
    {
     "name": "stdout",
     "output_type": "stream",
     "text": [
      "71($\\pm$5)\n",
      "61 78\n"
     ]
    }
   ],
   "source": [
    "df_best = df[(df['Model'] == model) & (df['Params'] == best_params)]\n",
    "print(f'{int(round(df_best[\"Accuracy\"].values.mean(), 4) * 100)}($\\pm${int(round(df_best[\"Accuracy\"].values.std(), 4)*100)})')\n",
    "print(f'{int(round(df_best[\"Accuracy\"].values.min(), 4) * 100)} {int(round(df_best[\"Accuracy\"].values.max(), 4)*100)}')"
   ]
  },
  {
   "cell_type": "code",
   "execution_count": 32,
   "metadata": {},
   "outputs": [
    {
     "name": "stdout",
     "output_type": "stream",
     "text": [
      "80($\\pm$3)\n"
     ]
    }
   ],
   "source": [
    "main_publisher = 'Stanford'\n",
    "df_ModelsAll = pd.read_csv(f'../Modeling/ablation_results_{main_publisher}.csv')\n",
    "df_ModelSAGE = df_ModelsAll[df_ModelsAll['Model']=='SAGE']\n",
    "print(f'{int(round(df_ModelSAGE[\"Test Accuracy\"].values.mean(), 2) * 100)}($\\pm${int(round(df_ModelSAGE[\"Test Accuracy\"].values.std(), 2)*100)})')"
   ]
  }
 ],
 "metadata": {
  "kernelspec": {
   "display_name": "clara-datasets",
   "language": "python",
   "name": "python3"
  },
  "language_info": {
   "codemirror_mode": {
    "name": "ipython",
    "version": 3
   },
   "file_extension": ".py",
   "mimetype": "text/x-python",
   "name": "python",
   "nbconvert_exporter": "python",
   "pygments_lexer": "ipython3",
   "version": "3.10.8"
  }
 },
 "nbformat": 4,
 "nbformat_minor": 2
}
