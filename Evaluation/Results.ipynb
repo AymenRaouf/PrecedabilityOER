{
 "cells": [
  {
   "cell_type": "code",
   "execution_count": 16,
   "metadata": {},
   "outputs": [],
   "source": [
    "import pandas as pd\n",
    "\n",
    "main_publisher = 'Stanford'\n",
    "df = pd.read_csv(f'../Output/Evaluation/results_bert_{main_publisher}.csv', sep = '|')"
   ]
  },
  {
   "cell_type": "code",
   "execution_count": 17,
   "metadata": {},
   "outputs": [
    {
     "data": {
      "text/html": [
       "<div>\n",
       "<style scoped>\n",
       "    .dataframe tbody tr th:only-of-type {\n",
       "        vertical-align: middle;\n",
       "    }\n",
       "\n",
       "    .dataframe tbody tr th {\n",
       "        vertical-align: top;\n",
       "    }\n",
       "\n",
       "    .dataframe thead th {\n",
       "        text-align: right;\n",
       "    }\n",
       "</style>\n",
       "<table border=\"1\" class=\"dataframe\">\n",
       "  <thead>\n",
       "    <tr style=\"text-align: right;\">\n",
       "      <th></th>\n",
       "      <th>Model</th>\n",
       "      <th>Accuracy</th>\n",
       "      <th>Params</th>\n",
       "    </tr>\n",
       "  </thead>\n",
       "  <tbody>\n",
       "    <tr>\n",
       "      <th>0</th>\n",
       "      <td>Linear Regression</td>\n",
       "      <td>0.625806</td>\n",
       "      <td>NaN</td>\n",
       "    </tr>\n",
       "    <tr>\n",
       "      <th>1</th>\n",
       "      <td>SVM</td>\n",
       "      <td>0.554839</td>\n",
       "      <td>(1, 0.1, 'linear')</td>\n",
       "    </tr>\n",
       "    <tr>\n",
       "      <th>2</th>\n",
       "      <td>SVM</td>\n",
       "      <td>0.554839</td>\n",
       "      <td>(1, 0.01, 'linear')</td>\n",
       "    </tr>\n",
       "    <tr>\n",
       "      <th>3</th>\n",
       "      <td>SVM</td>\n",
       "      <td>0.554839</td>\n",
       "      <td>(1, 0.001, 'linear')</td>\n",
       "    </tr>\n",
       "    <tr>\n",
       "      <th>4</th>\n",
       "      <td>SVM</td>\n",
       "      <td>0.554839</td>\n",
       "      <td>(1, 0.0001, 'linear')</td>\n",
       "    </tr>\n",
       "  </tbody>\n",
       "</table>\n",
       "</div>"
      ],
      "text/plain": [
       "               Model  Accuracy                 Params\n",
       "0  Linear Regression  0.625806                    NaN\n",
       "1                SVM  0.554839     (1, 0.1, 'linear')\n",
       "2                SVM  0.554839    (1, 0.01, 'linear')\n",
       "3                SVM  0.554839   (1, 0.001, 'linear')\n",
       "4                SVM  0.554839  (1, 0.0001, 'linear')"
      ]
     },
     "execution_count": 17,
     "metadata": {},
     "output_type": "execute_result"
    }
   ],
   "source": [
    "df.head()"
   ]
  },
  {
   "cell_type": "code",
   "execution_count": 29,
   "metadata": {},
   "outputs": [],
   "source": [
    "model = 'RF'\n",
    "best_params = df[(df['Model'] == model)].sort_values(by = ['Accuracy'], ascending = False)['Params'].values[0]"
   ]
  },
  {
   "cell_type": "code",
   "execution_count": 30,
   "metadata": {},
   "outputs": [
    {
     "data": {
      "text/html": [
       "<div>\n",
       "<style scoped>\n",
       "    .dataframe tbody tr th:only-of-type {\n",
       "        vertical-align: middle;\n",
       "    }\n",
       "\n",
       "    .dataframe tbody tr th {\n",
       "        vertical-align: top;\n",
       "    }\n",
       "\n",
       "    .dataframe thead th {\n",
       "        text-align: right;\n",
       "    }\n",
       "</style>\n",
       "<table border=\"1\" class=\"dataframe\">\n",
       "  <thead>\n",
       "    <tr style=\"text-align: right;\">\n",
       "      <th></th>\n",
       "      <th>Model</th>\n",
       "      <th>Accuracy</th>\n",
       "      <th>Params</th>\n",
       "    </tr>\n",
       "  </thead>\n",
       "  <tbody>\n",
       "    <tr>\n",
       "      <th>390</th>\n",
       "      <td>RF</td>\n",
       "      <td>0.787097</td>\n",
       "      <td>(0, 5, 200, 'gini')</td>\n",
       "    </tr>\n",
       "    <tr>\n",
       "      <th>387</th>\n",
       "      <td>RF</td>\n",
       "      <td>0.780645</td>\n",
       "      <td>(0, 5, 150, 'gini')</td>\n",
       "    </tr>\n",
       "    <tr>\n",
       "      <th>375</th>\n",
       "      <td>RF</td>\n",
       "      <td>0.774194</td>\n",
       "      <td>(0, 2, 150, 'gini')</td>\n",
       "    </tr>\n",
       "    <tr>\n",
       "      <th>384</th>\n",
       "      <td>RF</td>\n",
       "      <td>0.767742</td>\n",
       "      <td>(0, 5, 100, 'gini')</td>\n",
       "    </tr>\n",
       "    <tr>\n",
       "      <th>392</th>\n",
       "      <td>RF</td>\n",
       "      <td>0.767742</td>\n",
       "      <td>(0, 5, 200, 'log_loss')</td>\n",
       "    </tr>\n",
       "  </tbody>\n",
       "</table>\n",
       "</div>"
      ],
      "text/plain": [
       "    Model  Accuracy                   Params\n",
       "390    RF  0.787097      (0, 5, 200, 'gini')\n",
       "387    RF  0.780645      (0, 5, 150, 'gini')\n",
       "375    RF  0.774194      (0, 2, 150, 'gini')\n",
       "384    RF  0.767742      (0, 5, 100, 'gini')\n",
       "392    RF  0.767742  (0, 5, 200, 'log_loss')"
      ]
     },
     "execution_count": 30,
     "metadata": {},
     "output_type": "execute_result"
    }
   ],
   "source": [
    "df[(df['Model'] == model)].sort_values(by = ['Accuracy'], ascending = False).head()"
   ]
  },
  {
   "cell_type": "code",
   "execution_count": 31,
   "metadata": {},
   "outputs": [
    {
     "name": "stdout",
     "output_type": "stream",
     "text": [
      "71($\\pm$5)\n",
      "61 78\n"
     ]
    }
   ],
   "source": [
    "df_best = df[(df['Model'] == model) & (df['Params'] == best_params)]\n",
    "print(f'{int(round(df_best[\"Accuracy\"].values.mean(), 4) * 100)}($\\pm${int(round(df_best[\"Accuracy\"].values.std(), 4)*100)})')\n",
    "print(f'{int(round(df_best[\"Accuracy\"].values.min(), 4) * 100)} {int(round(df_best[\"Accuracy\"].values.max(), 4)*100)}')"
   ]
  },
  {
   "cell_type": "code",
   "execution_count": 32,
   "metadata": {},
   "outputs": [
    {
     "name": "stdout",
     "output_type": "stream",
     "text": [
      "80($\\pm$3)\n"
     ]
    }
   ],
   "source": [
    "main_publisher = 'Stanford'\n",
    "df_ModelsAll = pd.read_csv(f'../Modeling/ablation_results_{main_publisher}.csv')\n",
    "df_ModelSAGE = df_ModelsAll[df_ModelsAll['Model']=='SAGE']\n",
    "print(f'{int(round(df_ModelSAGE[\"Test Accuracy\"].values.mean(), 2) * 100)}($\\pm${int(round(df_ModelSAGE[\"Test Accuracy\"].values.std(), 2)*100)})')"
   ]
  },
  {
   "cell_type": "code",
   "execution_count": 84,
   "metadata": {},
   "outputs": [
    {
     "data": {
      "text/html": [
       "<div>\n",
       "<style scoped>\n",
       "    .dataframe tbody tr th:only-of-type {\n",
       "        vertical-align: middle;\n",
       "    }\n",
       "\n",
       "    .dataframe tbody tr th {\n",
       "        vertical-align: top;\n",
       "    }\n",
       "\n",
       "    .dataframe thead th {\n",
       "        text-align: right;\n",
       "    }\n",
       "</style>\n",
       "<table border=\"1\" class=\"dataframe\">\n",
       "  <thead>\n",
       "    <tr style=\"text-align: right;\">\n",
       "      <th></th>\n",
       "      <th>Epochs</th>\n",
       "      <th>Learning rate</th>\n",
       "      <th>Layers</th>\n",
       "      <th>Channels</th>\n",
       "      <th>Time</th>\n",
       "      <th>Embedding</th>\n",
       "      <th>Class</th>\n",
       "      <th>Test Precision</th>\n",
       "      <th>Test Accuracy</th>\n",
       "      <th>Test Recall</th>\n",
       "      <th>Test F1</th>\n",
       "      <th>Loss</th>\n",
       "      <th>Duration</th>\n",
       "      <th>Model</th>\n",
       "      <th>Data</th>\n",
       "    </tr>\n",
       "  </thead>\n",
       "  <tbody>\n",
       "    <tr>\n",
       "      <th>0</th>\n",
       "      <td>300</td>\n",
       "      <td>0.01</td>\n",
       "      <td>6</td>\n",
       "      <td>64</td>\n",
       "      <td>17.390109</td>\n",
       "      <td>embedd-er</td>\n",
       "      <td>dct</td>\n",
       "      <td>0.855670</td>\n",
       "      <td>0.809783</td>\n",
       "      <td>0.811538</td>\n",
       "      <td>0.808145</td>\n",
       "      <td>12.723835</td>\n",
       "      <td>17.388307</td>\n",
       "      <td>Reinjection</td>\n",
       "      <td>Khan</td>\n",
       "    </tr>\n",
       "    <tr>\n",
       "      <th>1</th>\n",
       "      <td>300</td>\n",
       "      <td>0.01</td>\n",
       "      <td>6</td>\n",
       "      <td>64</td>\n",
       "      <td>16.868066</td>\n",
       "      <td>embedd-er</td>\n",
       "      <td>dct</td>\n",
       "      <td>0.862944</td>\n",
       "      <td>0.845109</td>\n",
       "      <td>0.844643</td>\n",
       "      <td>0.844141</td>\n",
       "      <td>10.999342</td>\n",
       "      <td>16.866176</td>\n",
       "      <td>Reinjection</td>\n",
       "      <td>Khan</td>\n",
       "    </tr>\n",
       "    <tr>\n",
       "      <th>2</th>\n",
       "      <td>300</td>\n",
       "      <td>0.01</td>\n",
       "      <td>6</td>\n",
       "      <td>64</td>\n",
       "      <td>16.978815</td>\n",
       "      <td>embedd-er</td>\n",
       "      <td>dct</td>\n",
       "      <td>0.887805</td>\n",
       "      <td>0.858696</td>\n",
       "      <td>0.858031</td>\n",
       "      <td>0.856250</td>\n",
       "      <td>12.950220</td>\n",
       "      <td>16.976990</td>\n",
       "      <td>Reinjection</td>\n",
       "      <td>Khan</td>\n",
       "    </tr>\n",
       "    <tr>\n",
       "      <th>3</th>\n",
       "      <td>300</td>\n",
       "      <td>0.01</td>\n",
       "      <td>6</td>\n",
       "      <td>64</td>\n",
       "      <td>17.423078</td>\n",
       "      <td>embedd-er</td>\n",
       "      <td>dct</td>\n",
       "      <td>0.809524</td>\n",
       "      <td>0.817935</td>\n",
       "      <td>0.814513</td>\n",
       "      <td>0.815867</td>\n",
       "      <td>8.099692</td>\n",
       "      <td>17.420917</td>\n",
       "      <td>Reinjection</td>\n",
       "      <td>Khan</td>\n",
       "    </tr>\n",
       "    <tr>\n",
       "      <th>4</th>\n",
       "      <td>300</td>\n",
       "      <td>0.01</td>\n",
       "      <td>6</td>\n",
       "      <td>64</td>\n",
       "      <td>17.467942</td>\n",
       "      <td>embedd-er</td>\n",
       "      <td>dct</td>\n",
       "      <td>0.825243</td>\n",
       "      <td>0.800000</td>\n",
       "      <td>0.797543</td>\n",
       "      <td>0.797131</td>\n",
       "      <td>13.400049</td>\n",
       "      <td>17.465430</td>\n",
       "      <td>Reinjection</td>\n",
       "      <td>Khan</td>\n",
       "    </tr>\n",
       "  </tbody>\n",
       "</table>\n",
       "</div>"
      ],
      "text/plain": [
       "   Epochs  Learning rate  Layers  Channels       Time  Embedding Class   \n",
       "0     300           0.01       6        64  17.390109  embedd-er   dct  \\\n",
       "1     300           0.01       6        64  16.868066  embedd-er   dct   \n",
       "2     300           0.01       6        64  16.978815  embedd-er   dct   \n",
       "3     300           0.01       6        64  17.423078  embedd-er   dct   \n",
       "4     300           0.01       6        64  17.467942  embedd-er   dct   \n",
       "\n",
       "   Test Precision  Test Accuracy  Test Recall   Test F1       Loss   Duration   \n",
       "0        0.855670       0.809783     0.811538  0.808145  12.723835  17.388307  \\\n",
       "1        0.862944       0.845109     0.844643  0.844141  10.999342  16.866176   \n",
       "2        0.887805       0.858696     0.858031  0.856250  12.950220  16.976990   \n",
       "3        0.809524       0.817935     0.814513  0.815867   8.099692  17.420917   \n",
       "4        0.825243       0.800000     0.797543  0.797131  13.400049  17.465430   \n",
       "\n",
       "         Model  Data  \n",
       "0  Reinjection  Khan  \n",
       "1  Reinjection  Khan  \n",
       "2  Reinjection  Khan  \n",
       "3  Reinjection  Khan  \n",
       "4  Reinjection  Khan  "
      ]
     },
     "execution_count": 84,
     "metadata": {},
     "output_type": "execute_result"
    }
   ],
   "source": [
    "import pandas as pd\n",
    "main_publisher = \"Khan\" # MIT, OYC, Khan, Stanford\n",
    "methods = \"embedd-er\" # BERT , embedd-er\n",
    "class_type = \"dct\" # rdfs, dct\n",
    "df_ModelsAll = pd.read_csv(f'../Output/Ablation/results_{main_publisher}_{methods}_{class_type}.csv')\n",
    "df_ModelsAll.head()"
   ]
  },
  {
   "cell_type": "code",
   "execution_count": 87,
   "metadata": {},
   "outputs": [
    {
     "name": "stdout",
     "output_type": "stream",
     "text": [
      "0.86(0.02)\t0.85(0.03)\t0.85(0.02)\t0.74(0.02)\t0.73(0.05)\n"
     ]
    }
   ],
   "source": [
    "chosen_models = ['NoEnrichment', 'Reinjection', 'SAGE', 'Conv', 'GAT']\n",
    "results = ''\n",
    "for chosen_model in chosen_models:\n",
    "    mean_accuracy = df_ModelsAll[df_ModelsAll[\"Model\"] == chosen_model][\"Test Precision\"].values.mean()\n",
    "    std_accuracy = df_ModelsAll[df_ModelsAll[\"Model\"] == chosen_model][\"Test Precision\"].values.std()\n",
    "    results += f'{round(mean_accuracy, 2)}({round(std_accuracy, 2)})\\t'\n",
    "print(results[:-1])"
   ]
  }
 ],
 "metadata": {
  "kernelspec": {
   "display_name": "clara-datasets",
   "language": "python",
   "name": "python3"
  },
  "language_info": {
   "codemirror_mode": {
    "name": "ipython",
    "version": 3
   },
   "file_extension": ".py",
   "mimetype": "text/x-python",
   "name": "python",
   "nbconvert_exporter": "python",
   "pygments_lexer": "ipython3",
   "version": "3.10.8"
  }
 },
 "nbformat": 4,
 "nbformat_minor": 2
}
