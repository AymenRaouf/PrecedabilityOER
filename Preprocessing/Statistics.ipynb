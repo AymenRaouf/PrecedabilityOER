{
 "cells": [
  {
   "cell_type": "code",
   "execution_count": 1,
   "metadata": {},
   "outputs": [
    {
     "data": {
      "text/plain": [
       "({'Total Series': 15,\n",
       "  'Series per Channel': Corpus\n",
       "  Khan Academy    15\n",
       "  Name: count, dtype: int64,\n",
       "  'Series per Year': Date\n",
       "  2007    3\n",
       "  2008    2\n",
       "  2009    3\n",
       "  2010    1\n",
       "  2011    1\n",
       "  2016    1\n",
       "  2017    1\n",
       "  2018    2\n",
       "  2019    1\n",
       "  Name: Sid, dtype: int64},\n",
       " {'Total Episodes': 1039,\n",
       "  'Episodes per Channel': Corpus\n",
       "  Khan Academy    1039\n",
       "  Name: count, dtype: int64,\n",
       "  'Average Episodes per Series': 69.26666666666667},\n",
       " Category\n",
       " Biology                      62\n",
       " Chemistry                   123\n",
       " Cosmology and astronomy      85\n",
       " Economics                    31\n",
       " Electrical engineering       89\n",
       " Healthcare and Medicine      29\n",
       " History                     100\n",
       " Maths                       344\n",
       " Music                        16\n",
       " Physics                     160\n",
       " Name: Eid, dtype: int64,\n",
       " {'Total Chapters': 1029,\n",
       "  'Average Chapters per Episode': 1.0,\n",
       "  'Average Chapters per Series': 68.6,\n",
       "  'Average Words per Chapter': 1706.281827016521,\n",
       "  'Chapters per Channel': Corpus\n",
       "  Khan Academy    1029\n",
       "  Name: count, dtype: int64},\n",
       " Category\n",
       " Biology                      61\n",
       " Chemistry                   123\n",
       " Cosmology and astronomy      82\n",
       " Economics                    31\n",
       " Electrical engineering       89\n",
       " Healthcare and Medicine      29\n",
       " History                     100\n",
       " Maths                       343\n",
       " Music                        16\n",
       " Physics                     155\n",
       " Name: Cid, dtype: int64)"
      ]
     },
     "execution_count": 1,
     "metadata": {},
     "output_type": "execute_result"
    }
   ],
   "source": [
    "import os\n",
    "from statistics import *\n",
    "\n",
    "main_publisher = 'Khan'\n",
    "script_dir = os.path.dirname(os.path.realpath('__file__'))\n",
    "path = os.path.join(script_dir, '../Data/'+ main_publisher + '/')\n",
    "\n",
    "generate_statistics(path + 'series.csv',\n",
    "                    path + 'episodes.csv',\n",
    "                    path + 'chapters.csv')"
   ]
  }
 ],
 "metadata": {
  "kernelspec": {
   "display_name": "clara-datasets",
   "language": "python",
   "name": "python3"
  },
  "language_info": {
   "codemirror_mode": {
    "name": "ipython",
    "version": 3
   },
   "file_extension": ".py",
   "mimetype": "text/x-python",
   "name": "python",
   "nbconvert_exporter": "python",
   "pygments_lexer": "ipython3",
   "version": "3.10.8"
  },
  "orig_nbformat": 4
 },
 "nbformat": 4,
 "nbformat_minor": 2
}
