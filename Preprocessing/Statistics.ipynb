{
 "cells": [
  {
   "cell_type": "code",
   "execution_count": 1,
   "metadata": {},
   "outputs": [
    {
     "data": {
      "text/plain": [
       "({'Total Series': 11,\n",
       "  'Series per Channel': Corpus\n",
       "  Stanford Online    11\n",
       "  Name: count, dtype: int64,\n",
       "  'Series per Year': Date\n",
       "  2019    1\n",
       "  2020    1\n",
       "  2021    1\n",
       "  2022    2\n",
       "  2023    6\n",
       "  Name: Sid, dtype: int64},\n",
       " {'Total Episodes': 442,\n",
       "  'Episodes per Channel': Corpus\n",
       "  Stanford Online    442\n",
       "  Name: count, dtype: int64,\n",
       "  'Average Episodes per Series': 40.18181818181818},\n",
       " Category\n",
       " Computer Science    442\n",
       " Name: Eid, dtype: int64,\n",
       " {'Total Chapters': 1010,\n",
       "  'Average Chapters per Episode': 2.2850678733031673,\n",
       "  'Average Chapters per Series': 91.81818181818181,\n",
       "  'Average Words per Chapter': 2383.9504950495048,\n",
       "  'Chapters per Channel': Corpus\n",
       "  Stanford Online    1010\n",
       "  Name: count, dtype: int64},\n",
       " Category\n",
       " Computer Science    1010\n",
       " Name: Cid, dtype: int64)"
      ]
     },
     "execution_count": 1,
     "metadata": {},
     "output_type": "execute_result"
    }
   ],
   "source": [
    "import os\n",
    "from statistics import *\n",
    "\n",
    "main_publisher = 'Stanford'\n",
    "script_dir = os.path.dirname(os.path.realpath('__file__'))\n",
    "path = os.path.join(script_dir, '../Data/'+ main_publisher + '/')\n",
    "\n",
    "generate_statistics(path + 'series.csv',\n",
    "                    path + 'episodes.csv',\n",
    "                    path + 'chapters.csv')"
   ]
  }
 ],
 "metadata": {
  "kernelspec": {
   "display_name": "clara-datasets",
   "language": "python",
   "name": "python3"
  },
  "language_info": {
   "codemirror_mode": {
    "name": "ipython",
    "version": 3
   },
   "file_extension": ".py",
   "mimetype": "text/x-python",
   "name": "python",
   "nbconvert_exporter": "python",
   "pygments_lexer": "ipython3",
   "version": "3.10.8"
  },
  "orig_nbformat": 4
 },
 "nbformat": 4,
 "nbformat_minor": 2
}
