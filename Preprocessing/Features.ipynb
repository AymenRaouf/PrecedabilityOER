{
 "cells": [
  {
   "cell_type": "code",
   "execution_count": 12,
   "metadata": {},
   "outputs": [],
   "source": [
    "import os\n",
    "import pandas as pd\n",
    "from embedding import embeddings\n",
    "\n",
    "main_publisher = 'OYC'\n",
    "methods = ['BERT']\n",
    "class_type = 'rdfs' #dct or rdfs\n",
    "class_file = class_type + \".csv\"\n",
    "\n",
    "script_dir = os.path.dirname(os.path.realpath('__file__'))\n",
    "data_path = os.path.join(script_dir, '../Data/' + main_publisher + '/data/')\n",
    "embeddings_path = os.path.join(script_dir, '../Data/' + main_publisher + '/embeddings/')\n",
    "df_chapters = pd.read_csv(data_path + 'chapters.csv', sep = '|')\n",
    "df_chapters['Title'] = df_chapters['Title'].astype(str)\n",
    "df_chapters['Title'] = df_chapters['Title'].apply(lambda x: ' ' if x=='nan' else x)\n",
    "\n",
    "df_chapters['Text'] = df_chapters['Text'].astype(str)\n",
    "df_chapters['Text'] = df_chapters['Text'].apply(lambda x: ' ' if x=='nan' else x)\n",
    "\n",
    "df_chapters['Type'] = df_chapters['Text'].apply(lambda x: str(type(x)))\n",
    "#df_chapters[df_chapters['Text'] == ' '].head()\n"
   ]
  },
  {
   "cell_type": "code",
   "execution_count": 13,
   "metadata": {},
   "outputs": [
    {
     "data": {
      "text/html": [
       "<div>\n",
       "<style scoped>\n",
       "    .dataframe tbody tr th:only-of-type {\n",
       "        vertical-align: middle;\n",
       "    }\n",
       "\n",
       "    .dataframe tbody tr th {\n",
       "        vertical-align: top;\n",
       "    }\n",
       "\n",
       "    .dataframe thead th {\n",
       "        text-align: right;\n",
       "    }\n",
       "</style>\n",
       "<table border=\"1\" class=\"dataframe\">\n",
       "  <thead>\n",
       "    <tr style=\"text-align: right;\">\n",
       "      <th></th>\n",
       "      <th>BERT</th>\n",
       "    </tr>\n",
       "  </thead>\n",
       "  <tbody>\n",
       "    <tr>\n",
       "      <th>0</th>\n",
       "      <td>[0.052457463, 0.47599125, 0.05521268, -0.28553...</td>\n",
       "    </tr>\n",
       "    <tr>\n",
       "      <th>1</th>\n",
       "      <td>[-0.012200231, 0.24475642, 0.11507651, -0.2445...</td>\n",
       "    </tr>\n",
       "    <tr>\n",
       "      <th>2</th>\n",
       "      <td>[0.0950356, 0.22532578, 0.17159453, -0.0779241...</td>\n",
       "    </tr>\n",
       "    <tr>\n",
       "      <th>3</th>\n",
       "      <td>[0.03151487, 0.44307682, 0.12105083, -0.171348...</td>\n",
       "    </tr>\n",
       "    <tr>\n",
       "      <th>4</th>\n",
       "      <td>[-0.03276513, 0.1495071, 0.1283632, -0.0709260...</td>\n",
       "    </tr>\n",
       "  </tbody>\n",
       "</table>\n",
       "</div>"
      ],
      "text/plain": [
       "                                                BERT\n",
       "0  [0.052457463, 0.47599125, 0.05521268, -0.28553...\n",
       "1  [-0.012200231, 0.24475642, 0.11507651, -0.2445...\n",
       "2  [0.0950356, 0.22532578, 0.17159453, -0.0779241...\n",
       "3  [0.03151487, 0.44307682, 0.12105083, -0.171348...\n",
       "4  [-0.03276513, 0.1495071, 0.1283632, -0.0709260..."
      ]
     },
     "execution_count": 13,
     "metadata": {},
     "output_type": "execute_result"
    }
   ],
   "source": [
    "# For both BERT & EMBEDD-ER\n",
    "df_chapters_embeddings = embeddings(df_chapters.Text.values, df_chapters.Cid.values, methods, main_publisher, save = False)\n",
    "df_chapters_embeddings.head()"
   ]
  },
  {
   "cell_type": "code",
   "execution_count": 14,
   "metadata": {},
   "outputs": [],
   "source": [
    "df_chapters_embeddings.to_csv(embeddings_path + \"chapters_\" + methods[0] + \".csv\", sep = '|')"
   ]
  },
  {
   "cell_type": "code",
   "execution_count": 1,
   "metadata": {},
   "outputs": [
    {
     "name": "stderr",
     "output_type": "stream",
     "text": [
      "/home/abazouzi/Documents/Code/PrecedabilityACM/clara-datasets/lib64/python3.10/site-packages/tqdm/auto.py:21: TqdmWarning: IProgress not found. Please update jupyter and ipywidgets. See https://ipywidgets.readthedocs.io/en/stable/user_install.html\n",
      "  from .autonotebook import tqdm as notebook_tqdm\n"
     ]
    },
    {
     "name": "stdout",
     "output_type": "stream",
     "text": [
      "Loading 300 model ...\n",
      "Loaded 300 model ...\n"
     ]
    }
   ],
   "source": [
    "from embedding import load_model, wikipedia2vec_embedding\n",
    "\n",
    "wikipedia2vec = load_model(\"../Models/enwiki_20180420_300d.txt\", 300)"
   ]
  },
  {
   "cell_type": "code",
   "execution_count": 88,
   "metadata": {},
   "outputs": [
    {
     "name": "stdout",
     "output_type": "stream",
     "text": [
      "Using EMBEDD-ER to embed concepts...\n"
     ]
    },
    {
     "data": {
      "text/html": [
       "<div>\n",
       "<style scoped>\n",
       "    .dataframe tbody tr th:only-of-type {\n",
       "        vertical-align: middle;\n",
       "    }\n",
       "\n",
       "    .dataframe tbody tr th {\n",
       "        vertical-align: top;\n",
       "    }\n",
       "\n",
       "    .dataframe thead th {\n",
       "        text-align: right;\n",
       "    }\n",
       "</style>\n",
       "<table border=\"1\" class=\"dataframe\">\n",
       "  <thead>\n",
       "    <tr style=\"text-align: right;\">\n",
       "      <th></th>\n",
       "      <th>Concepts Embedding</th>\n",
       "    </tr>\n",
       "  </thead>\n",
       "  <tbody>\n",
       "    <tr>\n",
       "      <th>0</th>\n",
       "      <td>[0.0484, 0.3576, -0.9482, -0.7079, -0.1311, 0....</td>\n",
       "    </tr>\n",
       "    <tr>\n",
       "      <th>1</th>\n",
       "      <td>[-0.3457, -0.0463, -0.5313, -0.0684, -0.4088, ...</td>\n",
       "    </tr>\n",
       "    <tr>\n",
       "      <th>2</th>\n",
       "      <td>[-0.1308, 0.36, -0.9123, -0.1759, -1.0825, -0....</td>\n",
       "    </tr>\n",
       "    <tr>\n",
       "      <th>3</th>\n",
       "      <td>[-0.4643, -0.0708, 0.1259, 0.3538, -0.9151, -0...</td>\n",
       "    </tr>\n",
       "    <tr>\n",
       "      <th>4</th>\n",
       "      <td>[-0.6656, -0.5116, -0.6724, 0.3429, -0.2628, 0...</td>\n",
       "    </tr>\n",
       "  </tbody>\n",
       "</table>\n",
       "</div>"
      ],
      "text/plain": [
       "                                  Concepts Embedding\n",
       "0  [0.0484, 0.3576, -0.9482, -0.7079, -0.1311, 0....\n",
       "1  [-0.3457, -0.0463, -0.5313, -0.0684, -0.4088, ...\n",
       "2  [-0.1308, 0.36, -0.9123, -0.1759, -1.0825, -0....\n",
       "3  [-0.4643, -0.0708, 0.1259, 0.3538, -0.9151, -0...\n",
       "4  [-0.6656, -0.5116, -0.6724, 0.3429, -0.2628, 0..."
      ]
     },
     "execution_count": 88,
     "metadata": {},
     "output_type": "execute_result"
    }
   ],
   "source": [
    "if methods[0] == 'embedd-er':\n",
    "    print('Using EMBEDD-ER to embed concepts...')\n",
    "    df_concepts = pd.read_csv(data_path + 'concepts.csv', sep = '|')\n",
    "    df_concepts_embeddings = pd.DataFrame()\n",
    "    df_concepts_embeddings['Concepts Embedding'] = df_concepts['Concept'].apply(lambda x : wikipedia2vec_embedding(wikipedia2vec, x.split('/')[-1], 300))\n",
    "    #df_concepts['Concepts Embedding'] = df_concepts_embeddings\n",
    "    df_concepts_embeddings.to_csv(embeddings_path + \"concepts_\" + methods[0] + \".csv\", sep = '|')\n",
    "\n",
    "df_concepts_embeddings.head()"
   ]
  },
  {
   "cell_type": "code",
   "execution_count": 95,
   "metadata": {},
   "outputs": [
    {
     "name": "stdout",
     "output_type": "stream",
     "text": [
      "Using BERT to embed concepts...\n"
     ]
    }
   ],
   "source": [
    "if methods[0] == 'BERT':\n",
    "    print('Using BERT to embed concepts...')\n",
    "    df_concepts = pd.read_csv(data_path + 'concepts.csv', sep = '|')\n",
    "    df_concepts['Concept'] = df_concepts['Concept'].apply(lambda x : x.split('/')[-1].replace('_', ' '))\n",
    "    df_concepts_embeddings = pd.DataFrame()\n",
    "    df_concepts_embeddings['Concepts Embedding'] = embeddings(df_concepts.Concept.values, df_concepts.Concept.values, methods, main_publisher, save = False)\n",
    "    df_concepts_embeddings.to_csv(embeddings_path + \"concepts_\" + methods[0] + \".csv\", sep = '|')\n",
    "    df_concepts_embeddings.head()\n"
   ]
  },
  {
   "cell_type": "code",
   "execution_count": 99,
   "metadata": {},
   "outputs": [
    {
     "data": {
      "text/html": [
       "<div>\n",
       "<style scoped>\n",
       "    .dataframe tbody tr th:only-of-type {\n",
       "        vertical-align: middle;\n",
       "    }\n",
       "\n",
       "    .dataframe tbody tr th {\n",
       "        vertical-align: top;\n",
       "    }\n",
       "\n",
       "    .dataframe thead th {\n",
       "        text-align: right;\n",
       "    }\n",
       "</style>\n",
       "<table border=\"1\" class=\"dataframe\">\n",
       "  <thead>\n",
       "    <tr style=\"text-align: right;\">\n",
       "      <th></th>\n",
       "      <th>Concept</th>\n",
       "      <th>Class</th>\n",
       "    </tr>\n",
       "  </thead>\n",
       "  <tbody>\n",
       "    <tr>\n",
       "      <th>0</th>\n",
       "      <td>Breast_cancer</td>\n",
       "      <td>http://www.w3.org/2002/07/owl#Thing</td>\n",
       "    </tr>\n",
       "    <tr>\n",
       "      <th>1</th>\n",
       "      <td>Breast_cancer</td>\n",
       "      <td>http://dbpedia.org/ontology/Disease</td>\n",
       "    </tr>\n",
       "    <tr>\n",
       "      <th>2</th>\n",
       "      <td>Gene</td>\n",
       "      <td>http://www.w3.org/2002/07/owl#Thing</td>\n",
       "    </tr>\n",
       "    <tr>\n",
       "      <th>3</th>\n",
       "      <td>Gene</td>\n",
       "      <td>http://dbpedia.org/ontology/Organisation</td>\n",
       "    </tr>\n",
       "    <tr>\n",
       "      <th>4</th>\n",
       "      <td>Gene_expression</td>\n",
       "      <td>http://www.w3.org/2002/07/owl#Thing</td>\n",
       "    </tr>\n",
       "  </tbody>\n",
       "</table>\n",
       "</div>"
      ],
      "text/plain": [
       "           Concept                                     Class\n",
       "0    Breast_cancer       http://www.w3.org/2002/07/owl#Thing\n",
       "1    Breast_cancer       http://dbpedia.org/ontology/Disease\n",
       "2             Gene       http://www.w3.org/2002/07/owl#Thing\n",
       "3             Gene  http://dbpedia.org/ontology/Organisation\n",
       "4  Gene_expression       http://www.w3.org/2002/07/owl#Thing"
      ]
     },
     "execution_count": 99,
     "metadata": {},
     "output_type": "execute_result"
    }
   ],
   "source": [
    "# Reading the concepts and classes files\n",
    "df_concepts = pd.read_csv(data_path + 'concepts.csv', sep = '|')\n",
    "df_concepts_classes = pd.read_csv(data_path + 'classes/' + class_file, sep = '|', index_col=0)\n",
    "df_concepts_classes.head()"
   ]
  },
  {
   "cell_type": "code",
   "execution_count": 36,
   "metadata": {},
   "outputs": [],
   "source": [
    "import re\n",
    "def camel_to_snake(word):\n",
    "    # Use a regular expression to find uppercase letters and insert an underscore before them\n",
    "    s1 = re.sub('(.)([A-Z][a-z]+)', r'\\1_\\2', word)\n",
    "    # Use a second regular expression to handle the case where there are multiple uppercase letters in a row\n",
    "    snake_case = re.sub('([a-z0-9])([A-Z])', r'\\1_\\2', s1).lower()\n",
    "    return snake_case.capitalize()\n",
    "\n",
    "def split_camel_case(s):\n",
    "    # Add spaces before capital letters\n",
    "    s = re.sub('([a-z])([A-Z])', r'\\1 \\2', s)\n",
    "    # Handle acronyms (consecutive capital letters followed by a lowercase letter)\n",
    "    s = re.sub('([A-Z]+)([A-Z][a-z])', r'\\1 \\2', s)\n",
    "    return s\n",
    "\n",
    "def split_snake_case(s):\n",
    "    return s.replace('_', ' ')"
   ]
  },
  {
   "cell_type": "code",
   "execution_count": 93,
   "metadata": {},
   "outputs": [
    {
     "name": "stdout",
     "output_type": "stream",
     "text": [
      "Using EMBEDD-ER to embed DCT classes...\n"
     ]
    }
   ],
   "source": [
    "if methods[0] == 'embedd-er':\n",
    "    if class_type == 'rdfs':\n",
    "        print('Using EMBEDD-ER to embed RDFS classes...')\n",
    "        df_concepts_classes['Class Name'] = df_concepts_classes['Class'].apply(lambda x : camel_to_snake(x.split('/')[-1].split('#')[-1]))\n",
    "        df_classes_embeddings = pd.DataFrame()\n",
    "        df_classes_embeddings['Embedding'] = df_concepts_classes['Class Name'].apply(lambda x : wikipedia2vec_embedding(wikipedia2vec, x, 300))\n",
    "    elif class_type == 'dct':\n",
    "        print('Using EMBEDD-ER to embed DCT classes...')\n",
    "        df_concepts_classes['Class Name'] = df_concepts_classes['Class'].apply(lambda x : x.split('/')[-1].split(':')[-1])\n",
    "        df_classes_embeddings = pd.DataFrame()\n",
    "        df_classes_embeddings['Embedding'] = df_concepts_classes['Class Name'].apply(lambda x : wikipedia2vec_embedding(wikipedia2vec, x, 300))\n",
    "    df_classes_embeddings.to_csv(embeddings_path + \"classes/\"+ class_type + '_' + methods[0] + \".csv\", sep = '|', index = True)\n",
    "    df_classes_embeddings.head()"
   ]
  },
  {
   "cell_type": "code",
   "execution_count": 100,
   "metadata": {},
   "outputs": [
    {
     "name": "stdout",
     "output_type": "stream",
     "text": [
      "Using BERT to embed RDFS classes...\n"
     ]
    }
   ],
   "source": [
    "if methods[0] == 'BERT':\n",
    "    if class_type == 'rdfs':\n",
    "        print('Using BERT to embed RDFS classes...')\n",
    "        df_concepts_classes['Class Name'] = df_concepts_classes['Class'].apply(lambda x : split_camel_case(x.split('/')[-1].split('#')[-1]))\n",
    "        df_classes_embeddings = pd.DataFrame()\n",
    "        df_classes_embeddings['Embedding'] = embeddings(df_concepts_classes['Class Name'].values, df_concepts_classes['Class Name'].values, methods, main_publisher, save = False)\n",
    "    elif class_type == 'dct':\n",
    "        print('Using BERT to embed DCT classes...')\n",
    "        df_concepts_classes['Class Name'] = df_concepts_classes['Class'].apply(lambda x : split_snake_case(x.split('/')[-1].split(':')[-1]))\n",
    "        df_classes_embeddings = pd.DataFrame()\n",
    "        df_classes_embeddings['Embedding'] = embeddings(df_concepts_classes['Class Name'].values, df_concepts_classes['Class Name'].values, methods, main_publisher, save = False)\n",
    "    df_classes_embeddings.to_csv(embeddings_path + \"classes/\"+ class_type + '_' + methods[0] + \".csv\", sep = '|', index = True)\n",
    "    df_classes_embeddings.head()"
   ]
  }
 ],
 "metadata": {
  "kernelspec": {
   "display_name": "clara-datasets",
   "language": "python",
   "name": "python3"
  },
  "language_info": {
   "codemirror_mode": {
    "name": "ipython",
    "version": 3
   },
   "file_extension": ".py",
   "mimetype": "text/x-python",
   "name": "python",
   "nbconvert_exporter": "python",
   "pygments_lexer": "ipython3",
   "version": "3.10.8"
  },
  "orig_nbformat": 4
 },
 "nbformat": 4,
 "nbformat_minor": 2
}
