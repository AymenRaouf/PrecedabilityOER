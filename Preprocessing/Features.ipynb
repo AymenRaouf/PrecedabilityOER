{
 "cells": [
  {
   "cell_type": "code",
   "execution_count": 66,
   "metadata": {},
   "outputs": [],
   "source": [
    "import os\n",
    "import pandas as pd\n",
    "#from embedding import embeddings\n",
    "\n",
    "main_publisher = 'OYC'\n",
    "methods = ['embedd-er']\n",
    "class_type = 'dct' #dct or rdfs\n",
    "class_file = class_type + \".csv\"\n",
    "\n",
    "script_dir = os.path.dirname(os.path.realpath('__file__'))\n",
    "data_path = os.path.join(script_dir, '../Data/' + main_publisher + '/data/')\n",
    "embeddings_path = os.path.join(script_dir, '../Data/' + main_publisher + '/embeddings/')\n",
    "df_chapters = pd.read_csv(data_path + 'chapters.csv', sep = '|')\n",
    "df_chapters['Title'] = df_chapters['Title'].astype(str)\n",
    "df_chapters['Title'] = df_chapters['Title'].apply(lambda x: ' ' if x=='nan' else x)\n",
    "\n",
    "df_chapters['Text'] = df_chapters['Text'].astype(str)\n",
    "df_chapters['Text'] = df_chapters['Text'].apply(lambda x: ' ' if x=='nan' else x)\n",
    "\n",
    "df_chapters['Type'] = df_chapters['Text'].apply(lambda x: str(type(x)))\n",
    "#df_chapters[df_chapters['Text'] == ' '].head()\n"
   ]
  },
  {
   "cell_type": "code",
   "execution_count": 3,
   "metadata": {},
   "outputs": [
    {
     "name": "stderr",
     "output_type": "stream",
     "text": [
      "/home/abazouzi/Documents/Code/PrecedabilityACM/clara-datasets/lib64/python3.10/site-packages/tqdm/auto.py:21: TqdmWarning: IProgress not found. Please update jupyter and ipywidgets. See https://ipywidgets.readthedocs.io/en/stable/user_install.html\n",
      "  from .autonotebook import tqdm as notebook_tqdm\n"
     ]
    },
    {
     "name": "stdout",
     "output_type": "stream",
     "text": [
      "Loading 300 model ...\n",
      "Loaded 300 model ...\n"
     ]
    }
   ],
   "source": [
    "from embedding import load_model, wikipedia2vec_embedding\n",
    "\n",
    "wikipedia2vec = load_model(\"../Models/enwiki_20180420_300d.txt\", 300)"
   ]
  },
  {
   "cell_type": "code",
   "execution_count": 47,
   "metadata": {},
   "outputs": [],
   "source": [
    "import pandas as pd\n",
    "from simpletransformers.language_representation import RepresentationModel\n",
    "from gensim.models import KeyedVectors\n",
    "from gensim.models import FastText\n",
    "from gensim.test.utils import common_texts\n",
    "import numpy as np\n",
    "import rdflib\n",
    "import os\n",
    "\n",
    "def symbols_filter(word):\n",
    "    word = word.replace(\"%e2%80%93\",\"-\")\n",
    "    word = word.replace(\"%27\", \"'\")\n",
    "    word = word.replace(\"%2f\", \"/\")\n",
    "    word = word.replace(\"%e2%80%94\", \"-\")\n",
    "    word = word.replace(\"%2e\", \".\")\n",
    "    word = word.replace(\"%26\", '&')\n",
    "    return word\n",
    "\n",
    "\n",
    "def load_model(path, name = 'wikipedia2vec'):\n",
    "    # dimensions = [\"100\", \"300\", \"500\"]\n",
    "    print(f\"Loading {name} model ...\")\n",
    "    wikipedia2vec = KeyedVectors.load_word2vec_format(path, binary = False)\n",
    "    print(f\"Loaded {name} model ...\")\n",
    "    return wikipedia2vec\n",
    "\n",
    "\n",
    "def wikipedia2vec_embedding(model, concept, d):\n",
    "    try :\n",
    "        return model['ENTITY/'+concept]\n",
    "    except KeyError:\n",
    "        return np.zeros((d))\n",
    "        \n",
    "        \n",
    "def node_embeddings(model, g, d, method = 'wikipedia2vec'):\n",
    "    embeddings_concepts = {}\n",
    "    concepts = []\n",
    "    missing_concepts = []\n",
    "    if method == 'wikipedia2vec':\n",
    "        for s, p, o in g:\n",
    "            concept = symbols_filter(s.split('/')[-1])\n",
    "            if str(p) == 'https://univ-nantes.fr/ontology/pageRank' :\n",
    "                embedding = wikipedia2vec_embedding(model, concept, d)\n",
    "                if len(embedding) != 0:\n",
    "                    embeddings_concepts[concept] = {}\n",
    "                    embeddings_concepts[concept]['list'] = embedding\n",
    "                    embeddings_concepts[concept]['pageRank'] = float(o)\n",
    "                    concepts.append(concept)\n",
    "                else :\n",
    "                    missing_concepts.append(concept)\n",
    "\n",
    "    return {\n",
    "        'embeddings' : embeddings_concepts,\n",
    "        'concepts' : concepts,\n",
    "        'missing_concepts' : missing_concepts\n",
    "    }\n",
    "    \n",
    "\n",
    "def embedder_embeddings(resources, publisher, model = None, d = 300):\n",
    "    if model is None:\n",
    "        path = \"../Models/enwiki_20180420_\"+str(d)+\"d.txt\"\n",
    "        model = load_model(path, d)\n",
    "    script_dir = os.path.dirname(os.path.realpath('__file__'))\n",
    "    concepts = []\n",
    "    missing_concepts = []\n",
    "    sentences_embedder = []\n",
    "    for c in resources:\n",
    "        embeddings_concepts = []\n",
    "        current_concepts = []\n",
    "        \n",
    "        g = rdflib.Graph()\n",
    "        g_path = os.path.join(script_dir, '../Output/Graphs/v01/' + publisher + '/' + str(c) + '.ttl')\n",
    "        try :\n",
    "            g.parse(g_path, format='turtle')\n",
    "\n",
    "            embeddings = node_embeddings(model, g, d, method='wikipedia2vec')\n",
    "\n",
    "            embeddings_concepts = embeddings['embeddings']\n",
    "            missing_concepts.append(embeddings['missing_concepts'])\n",
    "            current_concepts = embeddings['concepts']\n",
    "            concepts.append(current_concepts)\n",
    "            pageRankSum = np.sum([embeddings_concepts[k]['pageRank'] for k in embeddings_concepts], 0)\n",
    "            embeddingsSum = np.sum([np.dot(embeddings_concepts[k]['list'], embeddings_concepts[k]['pageRank']) for k in embeddings_concepts], 0)\n",
    "            sentences_embedder.append(embeddingsSum / pageRankSum)\n",
    "        except:\n",
    "            embeddingsSum = np.zeros((1,d))\n",
    "            pageRankSum = np.ones((1,1))\n",
    "            print(c, \"not found\")\n",
    "            sentences_embedder.append((embeddingsSum / pageRankSum)[0])\n",
    "\n",
    "    return sentences_embedder\n",
    "\n",
    "def bert_embeddings(sentences):\n",
    "    model_bert = RepresentationModel(\n",
    "        model_type = \"bert\",\n",
    "        model_name = \"bert-base-uncased\",\n",
    "        use_cuda = False\n",
    "    )\n",
    "    sentences_vector_bert = list(model_bert.encode_sentences(sentences, combine_strategy = \"mean\"))\n",
    "    \n",
    "    return sentences_vector_bert\n",
    "\n",
    "def fasttext_embeddings(sentences, n_gram, window, size, epochs):\n",
    "    fasttext = FastText(vector_size = size, window = window, min_count = 1, min_n = n_gram, sentences = common_texts, epochs = 10)\n",
    "    sentences_vector_fasttext = list(fasttext.wv[sentences])\n",
    "    return sentences_vector_fasttext\n",
    "\n",
    "def embeddings(sentences, resources, methods, publisher, model = None, save = False, path = ''):\n",
    "\n",
    "    embeddings_df = pd.DataFrame()\n",
    "\n",
    "    if 'BERT' in methods:\n",
    "        embeddings_df['BERT'] = bert_embeddings(sentences)\n",
    "    if 'embedd-er' in methods:\n",
    "        embeddings_df['EMBEDD-ER'] = embedder_embeddings(resources, publisher, model, d = 300)\n",
    "    if 'FastText' in methods:\n",
    "        embeddings_df['FastText'] = fasttext_embeddings(sentences, n_gram = 3, window = 5, size = 300, epochs = 10)\n",
    "\n",
    "    if save:\n",
    "        embeddings_df.to_csv(path+\"embeddings.csv\", sep = '|')\n",
    "\n",
    "    return embeddings_df\n"
   ]
  },
  {
   "cell_type": "code",
   "execution_count": 17,
   "metadata": {},
   "outputs": [
    {
     "data": {
      "text/plain": [
       "(1039, 9)"
      ]
     },
     "execution_count": 17,
     "metadata": {},
     "output_type": "execute_result"
    }
   ],
   "source": [
    "df_chapters.shape"
   ]
  },
  {
   "cell_type": "code",
   "execution_count": 59,
   "metadata": {},
   "outputs": [],
   "source": [
    "# For both BERT & EMBEDD-ER\n",
    "df_chapters_embeddings = pd.DataFrame()\n",
    "df_chapters_embeddings[\"Chapters Embeddings\"] = embeddings(df_chapters.Text.values, df_chapters.Cid.values, methods, main_publisher, wikipedia2vec, save = False)"
   ]
  },
  {
   "cell_type": "code",
   "execution_count": 61,
   "metadata": {},
   "outputs": [],
   "source": [
    "df_chapters_embeddings.to_csv(embeddings_path + \"chapters_\" + methods[0] + \".csv\", sep = '|')"
   ]
  },
  {
   "cell_type": "code",
   "execution_count": 62,
   "metadata": {},
   "outputs": [
    {
     "name": "stdout",
     "output_type": "stream",
     "text": [
      "Using EMBEDD-ER to embed concepts...\n"
     ]
    },
    {
     "data": {
      "text/html": [
       "<div>\n",
       "<style scoped>\n",
       "    .dataframe tbody tr th:only-of-type {\n",
       "        vertical-align: middle;\n",
       "    }\n",
       "\n",
       "    .dataframe tbody tr th {\n",
       "        vertical-align: top;\n",
       "    }\n",
       "\n",
       "    .dataframe thead th {\n",
       "        text-align: right;\n",
       "    }\n",
       "</style>\n",
       "<table border=\"1\" class=\"dataframe\">\n",
       "  <thead>\n",
       "    <tr style=\"text-align: right;\">\n",
       "      <th></th>\n",
       "      <th>Concepts Embeddings</th>\n",
       "    </tr>\n",
       "  </thead>\n",
       "  <tbody>\n",
       "    <tr>\n",
       "      <th>0</th>\n",
       "      <td>[0.0, 0.0, 0.0, 0.0, 0.0, 0.0, 0.0, 0.0, 0.0, ...</td>\n",
       "    </tr>\n",
       "    <tr>\n",
       "      <th>1</th>\n",
       "      <td>[0.0537, -0.4817, -0.0068, -0.0026, 0.1848, 0....</td>\n",
       "    </tr>\n",
       "    <tr>\n",
       "      <th>2</th>\n",
       "      <td>[-0.8953, -0.0139, -0.1495, 0.4391, 0.0186, 0....</td>\n",
       "    </tr>\n",
       "    <tr>\n",
       "      <th>3</th>\n",
       "      <td>[-0.2859, -0.7587, -1.1472, 1.0824, 0.1735, -0...</td>\n",
       "    </tr>\n",
       "    <tr>\n",
       "      <th>4</th>\n",
       "      <td>[-0.0052, -0.1101, 0.3223, 0.8715, 0.5889, -0....</td>\n",
       "    </tr>\n",
       "  </tbody>\n",
       "</table>\n",
       "</div>"
      ],
      "text/plain": [
       "                                 Concepts Embeddings\n",
       "0  [0.0, 0.0, 0.0, 0.0, 0.0, 0.0, 0.0, 0.0, 0.0, ...\n",
       "1  [0.0537, -0.4817, -0.0068, -0.0026, 0.1848, 0....\n",
       "2  [-0.8953, -0.0139, -0.1495, 0.4391, 0.0186, 0....\n",
       "3  [-0.2859, -0.7587, -1.1472, 1.0824, 0.1735, -0...\n",
       "4  [-0.0052, -0.1101, 0.3223, 0.8715, 0.5889, -0...."
      ]
     },
     "execution_count": 62,
     "metadata": {},
     "output_type": "execute_result"
    }
   ],
   "source": [
    "if methods[0] == 'embedd-er':\n",
    "    print('Using EMBEDD-ER to embed concepts...')\n",
    "    df_concepts = pd.read_csv(data_path + 'concepts.csv', sep = '|')\n",
    "    df_concepts_embeddings = pd.DataFrame()\n",
    "    df_concepts_embeddings['Concepts Embeddings'] = df_concepts['Concept'].apply(lambda x : wikipedia2vec_embedding(wikipedia2vec, x.split('/')[-1], 300))\n",
    "    #df_concepts['Concepts Embedding'] = df_concepts_embeddings\n",
    "    df_concepts_embeddings.to_csv(embeddings_path + \"concepts_\" + methods[0] + \".csv\", sep = '|')\n",
    "\n",
    "df_concepts_embeddings.head()"
   ]
  },
  {
   "cell_type": "code",
   "execution_count": 39,
   "metadata": {},
   "outputs": [
    {
     "name": "stdout",
     "output_type": "stream",
     "text": [
      "Using BERT to embed concepts...\n"
     ]
    }
   ],
   "source": [
    "if methods[0] == 'BERT':\n",
    "    print('Using BERT to embed concepts...')\n",
    "    df_concepts = pd.read_csv(data_path + 'concepts.csv', sep = '|')\n",
    "    df_concepts['Concept'] = df_concepts['Concept'].apply(lambda x : x.split('/')[-1].replace('_', ' '))\n",
    "    df_concepts_embeddings = pd.DataFrame()\n",
    "    df_concepts_embeddings['Concepts Embeddings'] = embeddings(df_concepts.Concept.values, df_concepts.Concept.values, methods, main_publisher, save = False)\n",
    "    df_concepts_embeddings.to_csv(embeddings_path + \"concepts_\" + methods[0] + \".csv\", sep = '|')\n",
    "    df_concepts_embeddings.head()\n"
   ]
  },
  {
   "cell_type": "code",
   "execution_count": 67,
   "metadata": {},
   "outputs": [
    {
     "data": {
      "text/html": [
       "<div>\n",
       "<style scoped>\n",
       "    .dataframe tbody tr th:only-of-type {\n",
       "        vertical-align: middle;\n",
       "    }\n",
       "\n",
       "    .dataframe tbody tr th {\n",
       "        vertical-align: top;\n",
       "    }\n",
       "\n",
       "    .dataframe thead th {\n",
       "        text-align: right;\n",
       "    }\n",
       "</style>\n",
       "<table border=\"1\" class=\"dataframe\">\n",
       "  <thead>\n",
       "    <tr style=\"text-align: right;\">\n",
       "      <th></th>\n",
       "      <th>Concept</th>\n",
       "      <th>Class</th>\n",
       "    </tr>\n",
       "  </thead>\n",
       "  <tbody>\n",
       "    <tr>\n",
       "      <th>0</th>\n",
       "      <td>Race_and_ethnicity_in_the_United_States_census</td>\n",
       "      <td>http://dbpedia.org/resource/Category:Race_in_t...</td>\n",
       "    </tr>\n",
       "    <tr>\n",
       "      <th>1</th>\n",
       "      <td>Race_and_ethnicity_in_the_United_States_census</td>\n",
       "      <td>http://dbpedia.org/resource/Category:United_St...</td>\n",
       "    </tr>\n",
       "    <tr>\n",
       "      <th>2</th>\n",
       "      <td>Race_and_ethnicity_in_the_United_States_census</td>\n",
       "      <td>http://dbpedia.org/resource/Category:Demograph...</td>\n",
       "    </tr>\n",
       "    <tr>\n",
       "      <th>3</th>\n",
       "      <td>Race_and_ethnicity_in_the_United_States_census</td>\n",
       "      <td>http://dbpedia.org/resource/Category:Ethnic_gr...</td>\n",
       "    </tr>\n",
       "    <tr>\n",
       "      <th>4</th>\n",
       "      <td>African_Americans</td>\n",
       "      <td>http://dbpedia.org/resource/Category:History_o...</td>\n",
       "    </tr>\n",
       "  </tbody>\n",
       "</table>\n",
       "</div>"
      ],
      "text/plain": [
       "                                          Concept   \n",
       "0  Race_and_ethnicity_in_the_United_States_census  \\\n",
       "1  Race_and_ethnicity_in_the_United_States_census   \n",
       "2  Race_and_ethnicity_in_the_United_States_census   \n",
       "3  Race_and_ethnicity_in_the_United_States_census   \n",
       "4                               African_Americans   \n",
       "\n",
       "                                               Class  \n",
       "0  http://dbpedia.org/resource/Category:Race_in_t...  \n",
       "1  http://dbpedia.org/resource/Category:United_St...  \n",
       "2  http://dbpedia.org/resource/Category:Demograph...  \n",
       "3  http://dbpedia.org/resource/Category:Ethnic_gr...  \n",
       "4  http://dbpedia.org/resource/Category:History_o...  "
      ]
     },
     "execution_count": 67,
     "metadata": {},
     "output_type": "execute_result"
    }
   ],
   "source": [
    "# Reading the concepts and classes files\n",
    "df_concepts = pd.read_csv(data_path + 'concepts.csv', sep = '|')\n",
    "df_concepts_classes = pd.read_csv(data_path + 'classes/' + class_file, sep = '|', index_col=0)\n",
    "df_concepts_classes.head()"
   ]
  },
  {
   "cell_type": "code",
   "execution_count": 64,
   "metadata": {},
   "outputs": [],
   "source": [
    "import re\n",
    "def camel_to_snake(word):\n",
    "    # Use a regular expression to find uppercase letters and insert an underscore before them\n",
    "    s1 = re.sub('(.)([A-Z][a-z]+)', r'\\1_\\2', word)\n",
    "    # Use a second regular expression to handle the case where there are multiple uppercase letters in a row\n",
    "    snake_case = re.sub('([a-z0-9])([A-Z])', r'\\1_\\2', s1).lower()\n",
    "    return snake_case.capitalize()\n",
    "\n",
    "def split_camel_case(s):\n",
    "    # Add spaces before capital letters\n",
    "    s = re.sub('([a-z])([A-Z])', r'\\1 \\2', s)\n",
    "    # Handle acronyms (consecutive capital letters followed by a lowercase letter)\n",
    "    s = re.sub('([A-Z]+)([A-Z][a-z])', r'\\1 \\2', s)\n",
    "    return s\n",
    "\n",
    "def split_snake_case(s):\n",
    "    return s.replace('_', ' ')"
   ]
  },
  {
   "cell_type": "code",
   "execution_count": 68,
   "metadata": {},
   "outputs": [
    {
     "name": "stdout",
     "output_type": "stream",
     "text": [
      "Using EMBEDD-ER to embed DCT classes...\n"
     ]
    }
   ],
   "source": [
    "if methods[0] == 'embedd-er':\n",
    "    if class_type == 'rdfs':\n",
    "        print('Using EMBEDD-ER to embed RDFS classes...')\n",
    "        df_concepts_classes['Class Name'] = df_concepts_classes['Class'].apply(lambda x : camel_to_snake(x.split('/')[-1].split('#')[-1]))\n",
    "        df_classes_embeddings = pd.DataFrame()\n",
    "        df_classes_embeddings['Classes Embeddings'] = df_concepts_classes['Class Name'].apply(lambda x : wikipedia2vec_embedding(wikipedia2vec, x, 300))\n",
    "    elif class_type == 'dct':\n",
    "        print('Using EMBEDD-ER to embed DCT classes...')\n",
    "        df_concepts_classes['Class Name'] = df_concepts_classes['Class'].apply(lambda x : x.split('/')[-1].split(':')[-1])\n",
    "        df_classes_embeddings = pd.DataFrame()\n",
    "        df_classes_embeddings['Classes Embeddings'] = df_concepts_classes['Class Name'].apply(lambda x : wikipedia2vec_embedding(wikipedia2vec, x, 300))\n",
    "    df_classes_embeddings.to_csv(embeddings_path + \"classes/\"+ class_type + '_' + methods[0] + \".csv\", sep = '|')\n",
    "    df_classes_embeddings.head()"
   ]
  },
  {
   "cell_type": "code",
   "execution_count": 45,
   "metadata": {},
   "outputs": [
    {
     "name": "stdout",
     "output_type": "stream",
     "text": [
      "Using BERT to embed RDFS classes...\n"
     ]
    }
   ],
   "source": [
    "if methods[0] == 'BERT':\n",
    "    if class_type == 'rdfs':\n",
    "        print('Using BERT to embed RDFS classes...')\n",
    "        df_concepts_classes['Class Name'] = df_concepts_classes['Class'].apply(lambda x : split_camel_case(x.split('/')[-1].split('#')[-1]))\n",
    "        df_classes_embeddings = pd.DataFrame()\n",
    "        df_classes_embeddings['Classes Embeddings'] = embeddings(df_concepts_classes['Class Name'].values, df_concepts_classes['Class Name'].values, methods, main_publisher, save = False)\n",
    "    elif class_type == 'dct':\n",
    "        print('Using BERT to embed DCT classes...')\n",
    "        df_concepts_classes['Class Name'] = df_concepts_classes['Class'].apply(lambda x : split_snake_case(x.split('/')[-1].split(':')[-1]))\n",
    "        df_classes_embeddings = pd.DataFrame()\n",
    "        df_classes_embeddings['Classes Embeddings'] = embeddings(df_concepts_classes['Class Name'].values, df_concepts_classes['Class Name'].values, methods, main_publisher, save = False)\n",
    "    df_classes_embeddings.to_csv(embeddings_path + \"classes/\"+ class_type + '_' + methods[0] + \".csv\", sep = '|')\n",
    "    df_classes_embeddings.head()"
   ]
  },
  {
   "cell_type": "code",
   "execution_count": 6,
   "metadata": {},
   "outputs": [
    {
     "data": {
      "text/html": [
       "<div>\n",
       "<style scoped>\n",
       "    .dataframe tbody tr th:only-of-type {\n",
       "        vertical-align: middle;\n",
       "    }\n",
       "\n",
       "    .dataframe tbody tr th {\n",
       "        vertical-align: top;\n",
       "    }\n",
       "\n",
       "    .dataframe thead th {\n",
       "        text-align: right;\n",
       "    }\n",
       "</style>\n",
       "<table border=\"1\" class=\"dataframe\">\n",
       "  <thead>\n",
       "    <tr style=\"text-align: right;\">\n",
       "      <th></th>\n",
       "      <th>Concept</th>\n",
       "      <th>Class</th>\n",
       "    </tr>\n",
       "  </thead>\n",
       "  <tbody>\n",
       "    <tr>\n",
       "      <th>0</th>\n",
       "      <td>Antibiotic</td>\n",
       "      <td>http://dbpedia.org/resource/Category:Anti-infe...</td>\n",
       "    </tr>\n",
       "    <tr>\n",
       "      <th>1</th>\n",
       "      <td>Antibiotic</td>\n",
       "      <td>http://dbpedia.org/resource/Category:Antibiotics</td>\n",
       "    </tr>\n",
       "    <tr>\n",
       "      <th>2</th>\n",
       "      <td>Antibiotic</td>\n",
       "      <td>http://dbpedia.org/resource/Category:Bactericides</td>\n",
       "    </tr>\n",
       "    <tr>\n",
       "      <th>3</th>\n",
       "      <td>Antimicrobial_resistance</td>\n",
       "      <td>http://dbpedia.org/resource/Category:Veterinar...</td>\n",
       "    </tr>\n",
       "    <tr>\n",
       "      <th>4</th>\n",
       "      <td>Antimicrobial_resistance</td>\n",
       "      <td>http://dbpedia.org/resource/Category:Global_is...</td>\n",
       "    </tr>\n",
       "    <tr>\n",
       "      <th>5</th>\n",
       "      <td>Antimicrobial_resistance</td>\n",
       "      <td>http://dbpedia.org/resource/Category:Health_di...</td>\n",
       "    </tr>\n",
       "    <tr>\n",
       "      <th>6</th>\n",
       "      <td>Antimicrobial_resistance</td>\n",
       "      <td>http://dbpedia.org/resource/Category:Pharmaceu...</td>\n",
       "    </tr>\n",
       "    <tr>\n",
       "      <th>7</th>\n",
       "      <td>Antimicrobial_resistance</td>\n",
       "      <td>http://dbpedia.org/resource/Category:Evolution...</td>\n",
       "    </tr>\n",
       "    <tr>\n",
       "      <th>8</th>\n",
       "      <td>Antimicrobial_resistance</td>\n",
       "      <td>http://dbpedia.org/resource/Category:Antimicro...</td>\n",
       "    </tr>\n",
       "    <tr>\n",
       "      <th>9</th>\n",
       "      <td>Ape</td>\n",
       "      <td>http://dbpedia.org/resource/Category:Apes</td>\n",
       "    </tr>\n",
       "    <tr>\n",
       "      <th>10</th>\n",
       "      <td>Ape</td>\n",
       "      <td>http://dbpedia.org/resource/Category:Extant_Ch...</td>\n",
       "    </tr>\n",
       "    <tr>\n",
       "      <th>11</th>\n",
       "      <td>Ape</td>\n",
       "      <td>http://dbpedia.org/resource/Category:Taxa_name...</td>\n",
       "    </tr>\n",
       "    <tr>\n",
       "      <th>12</th>\n",
       "      <td>Bacteria</td>\n",
       "      <td>http://dbpedia.org/resource/Category:Domains_(...</td>\n",
       "    </tr>\n",
       "    <tr>\n",
       "      <th>13</th>\n",
       "      <td>Bacteria</td>\n",
       "      <td>http://dbpedia.org/resource/Category:Bacteria</td>\n",
       "    </tr>\n",
       "    <tr>\n",
       "      <th>14</th>\n",
       "      <td>Bacteria</td>\n",
       "      <td>http://dbpedia.org/resource/Category:Bacteriology</td>\n",
       "    </tr>\n",
       "    <tr>\n",
       "      <th>15</th>\n",
       "      <td>DNA</td>\n",
       "      <td>http://dbpedia.org/resource/Category:Biotechno...</td>\n",
       "    </tr>\n",
       "    <tr>\n",
       "      <th>16</th>\n",
       "      <td>DNA</td>\n",
       "      <td>http://dbpedia.org/resource/Category:DNA</td>\n",
       "    </tr>\n",
       "    <tr>\n",
       "      <th>17</th>\n",
       "      <td>DNA</td>\n",
       "      <td>http://dbpedia.org/resource/Category:Helices</td>\n",
       "    </tr>\n",
       "    <tr>\n",
       "      <th>18</th>\n",
       "      <td>DNA</td>\n",
       "      <td>http://dbpedia.org/resource/Category:Nucleic_a...</td>\n",
       "    </tr>\n",
       "    <tr>\n",
       "      <th>19</th>\n",
       "      <td>Immune_system</td>\n",
       "      <td>http://dbpedia.org/resource/Category:Immune_sy...</td>\n",
       "    </tr>\n",
       "  </tbody>\n",
       "</table>\n",
       "</div>"
      ],
      "text/plain": [
       "                     Concept   \n",
       "0                 Antibiotic  \\\n",
       "1                 Antibiotic   \n",
       "2                 Antibiotic   \n",
       "3   Antimicrobial_resistance   \n",
       "4   Antimicrobial_resistance   \n",
       "5   Antimicrobial_resistance   \n",
       "6   Antimicrobial_resistance   \n",
       "7   Antimicrobial_resistance   \n",
       "8   Antimicrobial_resistance   \n",
       "9                        Ape   \n",
       "10                       Ape   \n",
       "11                       Ape   \n",
       "12                  Bacteria   \n",
       "13                  Bacteria   \n",
       "14                  Bacteria   \n",
       "15                       DNA   \n",
       "16                       DNA   \n",
       "17                       DNA   \n",
       "18                       DNA   \n",
       "19             Immune_system   \n",
       "\n",
       "                                                Class  \n",
       "0   http://dbpedia.org/resource/Category:Anti-infe...  \n",
       "1    http://dbpedia.org/resource/Category:Antibiotics  \n",
       "2   http://dbpedia.org/resource/Category:Bactericides  \n",
       "3   http://dbpedia.org/resource/Category:Veterinar...  \n",
       "4   http://dbpedia.org/resource/Category:Global_is...  \n",
       "5   http://dbpedia.org/resource/Category:Health_di...  \n",
       "6   http://dbpedia.org/resource/Category:Pharmaceu...  \n",
       "7   http://dbpedia.org/resource/Category:Evolution...  \n",
       "8   http://dbpedia.org/resource/Category:Antimicro...  \n",
       "9           http://dbpedia.org/resource/Category:Apes  \n",
       "10  http://dbpedia.org/resource/Category:Extant_Ch...  \n",
       "11  http://dbpedia.org/resource/Category:Taxa_name...  \n",
       "12  http://dbpedia.org/resource/Category:Domains_(...  \n",
       "13      http://dbpedia.org/resource/Category:Bacteria  \n",
       "14  http://dbpedia.org/resource/Category:Bacteriology  \n",
       "15  http://dbpedia.org/resource/Category:Biotechno...  \n",
       "16           http://dbpedia.org/resource/Category:DNA  \n",
       "17       http://dbpedia.org/resource/Category:Helices  \n",
       "18  http://dbpedia.org/resource/Category:Nucleic_a...  \n",
       "19  http://dbpedia.org/resource/Category:Immune_sy...  "
      ]
     },
     "execution_count": 6,
     "metadata": {},
     "output_type": "execute_result"
    }
   ],
   "source": [
    "df_concepts_classes.head(20)"
   ]
  },
  {
   "cell_type": "code",
   "execution_count": 175,
   "metadata": {},
   "outputs": [],
   "source": [
    "main_publisher = \"Stanford\"\n",
    "methods = ['embedd-er']\n",
    "\n",
    "embeddings_path = os.path.join(script_dir, '../Data/' + main_publisher + '/embeddings/')"
   ]
  },
  {
   "cell_type": "code",
   "execution_count": null,
   "metadata": {},
   "outputs": [],
   "source": [
    "df_chapters_embeddings = pd.read_csv(embeddings_path + \"chapters_\" + methods[0] + \".csv\", sep = '|', index_col=0)\n",
    "df_chapters_embeddings.head()"
   ]
  },
  {
   "cell_type": "code",
   "execution_count": null,
   "metadata": {},
   "outputs": [],
   "source": [
    "df_chapters_embeddings = df_chapters_embeddings.rename(columns={'EMBEDD-ER' : 'Chapters Embeddings'})\n",
    "df_chapters_embeddings.head()"
   ]
  },
  {
   "cell_type": "code",
   "execution_count": 105,
   "metadata": {},
   "outputs": [],
   "source": [
    "df_chapters_embeddings.to_csv(embeddings_path + \"chapters_\" + methods[0] + \".csv\", sep = '|')"
   ]
  },
  {
   "cell_type": "code",
   "execution_count": null,
   "metadata": {},
   "outputs": [],
   "source": [
    "df_concepts_embeddings = pd.read_csv(embeddings_path + \"concepts_\" + methods[0] + \".csv\", sep = '|', index_col=0)\n",
    "df_concepts_embeddings.head()"
   ]
  },
  {
   "cell_type": "code",
   "execution_count": null,
   "metadata": {},
   "outputs": [],
   "source": [
    "df_concepts_embeddings = df_concepts_embeddings.rename(columns={'Concepts Embedding' : 'Concepts Embeddings'})\n",
    "df_concepts_embeddings.head()"
   ]
  },
  {
   "cell_type": "code",
   "execution_count": 132,
   "metadata": {},
   "outputs": [],
   "source": [
    "df_concepts_embeddings.to_csv(embeddings_path + \"concepts_\" + methods[0] + \".csv\", sep = '|')"
   ]
  },
  {
   "cell_type": "code",
   "execution_count": 179,
   "metadata": {},
   "outputs": [
    {
     "data": {
      "text/html": [
       "<div>\n",
       "<style scoped>\n",
       "    .dataframe tbody tr th:only-of-type {\n",
       "        vertical-align: middle;\n",
       "    }\n",
       "\n",
       "    .dataframe tbody tr th {\n",
       "        vertical-align: top;\n",
       "    }\n",
       "\n",
       "    .dataframe thead th {\n",
       "        text-align: right;\n",
       "    }\n",
       "</style>\n",
       "<table border=\"1\" class=\"dataframe\">\n",
       "  <thead>\n",
       "    <tr style=\"text-align: right;\">\n",
       "      <th></th>\n",
       "      <th>Embedding</th>\n",
       "    </tr>\n",
       "  </thead>\n",
       "  <tbody>\n",
       "    <tr>\n",
       "      <th>0</th>\n",
       "      <td>[[0. 0. 0. 0. 0. 0. 0. 0. 0. 0. 0. 0. 0. 0. 0....</td>\n",
       "    </tr>\n",
       "    <tr>\n",
       "      <th>1</th>\n",
       "      <td>[-0.0893 -0.2376 -0.5768 -0.2991 -0.4358 -0.88...</td>\n",
       "    </tr>\n",
       "    <tr>\n",
       "      <th>2</th>\n",
       "      <td>[[0. 0. 0. 0. 0. 0. 0. 0. 0. 0. 0. 0. 0. 0. 0....</td>\n",
       "    </tr>\n",
       "    <tr>\n",
       "      <th>3</th>\n",
       "      <td>[[0. 0. 0. 0. 0. 0. 0. 0. 0. 0. 0. 0. 0. 0. 0....</td>\n",
       "    </tr>\n",
       "    <tr>\n",
       "      <th>4</th>\n",
       "      <td>[[0. 0. 0. 0. 0. 0. 0. 0. 0. 0. 0. 0. 0. 0. 0....</td>\n",
       "    </tr>\n",
       "  </tbody>\n",
       "</table>\n",
       "</div>"
      ],
      "text/plain": [
       "                                           Embedding\n",
       "0  [[0. 0. 0. 0. 0. 0. 0. 0. 0. 0. 0. 0. 0. 0. 0....\n",
       "1  [-0.0893 -0.2376 -0.5768 -0.2991 -0.4358 -0.88...\n",
       "2  [[0. 0. 0. 0. 0. 0. 0. 0. 0. 0. 0. 0. 0. 0. 0....\n",
       "3  [[0. 0. 0. 0. 0. 0. 0. 0. 0. 0. 0. 0. 0. 0. 0....\n",
       "4  [[0. 0. 0. 0. 0. 0. 0. 0. 0. 0. 0. 0. 0. 0. 0...."
      ]
     },
     "execution_count": 179,
     "metadata": {},
     "output_type": "execute_result"
    }
   ],
   "source": [
    "class_type = 'rdfs' #dct or rdfs\n",
    "class_file = class_type + \".csv\"\n",
    "df_classes_embeddings = pd.read_csv(embeddings_path + \"classes/\"+ class_type + '_' + methods[0] + \".csv\", sep = '|', index_col=0)\n",
    "df_classes_embeddings.head()"
   ]
  },
  {
   "cell_type": "code",
   "execution_count": 180,
   "metadata": {},
   "outputs": [
    {
     "data": {
      "text/html": [
       "<div>\n",
       "<style scoped>\n",
       "    .dataframe tbody tr th:only-of-type {\n",
       "        vertical-align: middle;\n",
       "    }\n",
       "\n",
       "    .dataframe tbody tr th {\n",
       "        vertical-align: top;\n",
       "    }\n",
       "\n",
       "    .dataframe thead th {\n",
       "        text-align: right;\n",
       "    }\n",
       "</style>\n",
       "<table border=\"1\" class=\"dataframe\">\n",
       "  <thead>\n",
       "    <tr style=\"text-align: right;\">\n",
       "      <th></th>\n",
       "      <th>Classes Embeddings</th>\n",
       "    </tr>\n",
       "  </thead>\n",
       "  <tbody>\n",
       "    <tr>\n",
       "      <th>0</th>\n",
       "      <td>[[0. 0. 0. 0. 0. 0. 0. 0. 0. 0. 0. 0. 0. 0. 0....</td>\n",
       "    </tr>\n",
       "    <tr>\n",
       "      <th>1</th>\n",
       "      <td>[-0.0893 -0.2376 -0.5768 -0.2991 -0.4358 -0.88...</td>\n",
       "    </tr>\n",
       "    <tr>\n",
       "      <th>2</th>\n",
       "      <td>[[0. 0. 0. 0. 0. 0. 0. 0. 0. 0. 0. 0. 0. 0. 0....</td>\n",
       "    </tr>\n",
       "    <tr>\n",
       "      <th>3</th>\n",
       "      <td>[[0. 0. 0. 0. 0. 0. 0. 0. 0. 0. 0. 0. 0. 0. 0....</td>\n",
       "    </tr>\n",
       "    <tr>\n",
       "      <th>4</th>\n",
       "      <td>[[0. 0. 0. 0. 0. 0. 0. 0. 0. 0. 0. 0. 0. 0. 0....</td>\n",
       "    </tr>\n",
       "  </tbody>\n",
       "</table>\n",
       "</div>"
      ],
      "text/plain": [
       "                                  Classes Embeddings\n",
       "0  [[0. 0. 0. 0. 0. 0. 0. 0. 0. 0. 0. 0. 0. 0. 0....\n",
       "1  [-0.0893 -0.2376 -0.5768 -0.2991 -0.4358 -0.88...\n",
       "2  [[0. 0. 0. 0. 0. 0. 0. 0. 0. 0. 0. 0. 0. 0. 0....\n",
       "3  [[0. 0. 0. 0. 0. 0. 0. 0. 0. 0. 0. 0. 0. 0. 0....\n",
       "4  [[0. 0. 0. 0. 0. 0. 0. 0. 0. 0. 0. 0. 0. 0. 0...."
      ]
     },
     "execution_count": 180,
     "metadata": {},
     "output_type": "execute_result"
    }
   ],
   "source": [
    "df_classes_embeddings = df_classes_embeddings.rename(columns={'Embedding' : 'Classes Embeddings'})\n",
    "df_classes_embeddings.head()"
   ]
  },
  {
   "cell_type": "code",
   "execution_count": 181,
   "metadata": {},
   "outputs": [],
   "source": [
    "df_classes_embeddings.to_csv(embeddings_path + \"classes/\"+ class_type + '_' + methods[0] + \".csv\", sep = '|')\n"
   ]
  }
 ],
 "metadata": {
  "kernelspec": {
   "display_name": "clara-datasets",
   "language": "python",
   "name": "python3"
  },
  "language_info": {
   "codemirror_mode": {
    "name": "ipython",
    "version": 3
   },
   "file_extension": ".py",
   "mimetype": "text/x-python",
   "name": "python",
   "nbconvert_exporter": "python",
   "pygments_lexer": "ipython3",
   "version": "3.10.8"
  },
  "orig_nbformat": 4
 },
 "nbformat": 4,
 "nbformat_minor": 2
}
