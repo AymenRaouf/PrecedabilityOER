{
 "cells": [
  {
   "cell_type": "code",
   "execution_count": 1,
   "metadata": {},
   "outputs": [
    {
     "name": "stdout",
     "output_type": "stream",
     "text": [
      "Test: Unicité des identifiants sid - PASS\n",
      "Test: Unicité des identifiants eid - PASS\n",
      "Test: Unicité des identifiants cid - PASS\n",
      "Test: Logique des identifiants cid, eid et sid - PASS\n",
      "Test:Les transcriptions sont correctes - PASS\n"
     ]
    }
   ],
   "source": [
    "import os\n",
    "from tests import *\n",
    "\n",
    "main_publisher = 'Merged'\n",
    "script_dir = os.path.dirname(os.path.realpath('__file__'))\n",
    "path = os.path.join(script_dir, '../Data/'+ main_publisher + '/')\n",
    "\n",
    "test_id_logic(path + 'series.csv',\n",
    "              path + 'episodes.csv',\n",
    "              path + 'chapters.csv')\n",
    "\n",
    "test_transcripts(path + 'chapters.csv')"
   ]
  }
 ],
 "metadata": {
  "kernelspec": {
   "display_name": "clara-datasets",
   "language": "python",
   "name": "python3"
  },
  "language_info": {
   "codemirror_mode": {
    "name": "ipython",
    "version": 3
   },
   "file_extension": ".py",
   "mimetype": "text/x-python",
   "name": "python",
   "nbconvert_exporter": "python",
   "pygments_lexer": "ipython3",
   "version": "3.10.8"
  },
  "orig_nbformat": 4
 },
 "nbformat": 4,
 "nbformat_minor": 2
}
