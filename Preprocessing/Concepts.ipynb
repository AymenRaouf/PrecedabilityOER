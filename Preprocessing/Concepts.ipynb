{
 "cells": [
  {
   "cell_type": "code",
   "execution_count": 2,
   "metadata": {},
   "outputs": [
    {
     "data": {
      "text/html": [
       "<div>\n",
       "<style scoped>\n",
       "    .dataframe tbody tr th:only-of-type {\n",
       "        vertical-align: middle;\n",
       "    }\n",
       "\n",
       "    .dataframe tbody tr th {\n",
       "        vertical-align: top;\n",
       "    }\n",
       "\n",
       "    .dataframe thead th {\n",
       "        text-align: right;\n",
       "    }\n",
       "</style>\n",
       "<table border=\"1\" class=\"dataframe\">\n",
       "  <thead>\n",
       "    <tr style=\"text-align: right;\">\n",
       "      <th></th>\n",
       "      <th>Cid</th>\n",
       "      <th>Eid</th>\n",
       "      <th>Sid</th>\n",
       "      <th>PartN</th>\n",
       "      <th>Text</th>\n",
       "      <th>Title</th>\n",
       "      <th>BeginTimestamp</th>\n",
       "      <th>EndTimestamp</th>\n",
       "      <th>Corpus</th>\n",
       "    </tr>\n",
       "  </thead>\n",
       "  <tbody>\n",
       "    <tr>\n",
       "      <th>0</th>\n",
       "      <td>0</td>\n",
       "      <td>0</td>\n",
       "      <td>0</td>\n",
       "      <td>0</td>\n",
       "      <td>Professor Jonathan Holloway :  \\n “Fellow citi...</td>\n",
       "      <td>Chapter 1. Frederick Douglass’ Speech, Deliver...</td>\n",
       "      <td>00:00:00</td>\n",
       "      <td>00:04:44</td>\n",
       "      <td>yaleocw</td>\n",
       "    </tr>\n",
       "    <tr>\n",
       "      <th>1</th>\n",
       "      <td>1</td>\n",
       "      <td>0</td>\n",
       "      <td>0</td>\n",
       "      <td>1</td>\n",
       "      <td>This class is about the post-emancipation Afri...</td>\n",
       "      <td>Chapter 2. What does it mean to be American?</td>\n",
       "      <td>00:04:44</td>\n",
       "      <td>00:07:56</td>\n",
       "      <td>yaleocw</td>\n",
       "    </tr>\n",
       "    <tr>\n",
       "      <th>2</th>\n",
       "      <td>2</td>\n",
       "      <td>0</td>\n",
       "      <td>0</td>\n",
       "      <td>2</td>\n",
       "      <td>Near the Minuteman Park, there’s also a cemete...</td>\n",
       "      <td>Chapter 3. The Story of John Jack</td>\n",
       "      <td>00:07:56</td>\n",
       "      <td>00:15:43</td>\n",
       "      <td>yaleocw</td>\n",
       "    </tr>\n",
       "    <tr>\n",
       "      <th>3</th>\n",
       "      <td>3</td>\n",
       "      <td>0</td>\n",
       "      <td>0</td>\n",
       "      <td>3</td>\n",
       "      <td>Two hundred years later, after John Jack’s att...</td>\n",
       "      <td>Chapter 4. The Linkage between Freedom and Cit...</td>\n",
       "      <td>00:15:43</td>\n",
       "      <td>00:19:25</td>\n",
       "      <td>yaleocw</td>\n",
       "    </tr>\n",
       "    <tr>\n",
       "      <th>4</th>\n",
       "      <td>4</td>\n",
       "      <td>0</td>\n",
       "      <td>0</td>\n",
       "      <td>4</td>\n",
       "      <td>We’re going to look for stories like this in a...</td>\n",
       "      <td>Chapter 5. The History of the Post-Emancipatio...</td>\n",
       "      <td>00:19:25</td>\n",
       "      <td>00:24:26</td>\n",
       "      <td>yaleocw</td>\n",
       "    </tr>\n",
       "  </tbody>\n",
       "</table>\n",
       "</div>"
      ],
      "text/plain": [
       "   Cid  Eid  Sid  PartN                                               Text   \n",
       "0    0    0    0      0  Professor Jonathan Holloway :  \\n “Fellow citi...  \\\n",
       "1    1    0    0      1  This class is about the post-emancipation Afri...   \n",
       "2    2    0    0      2  Near the Minuteman Park, there’s also a cemete...   \n",
       "3    3    0    0      3  Two hundred years later, after John Jack’s att...   \n",
       "4    4    0    0      4  We’re going to look for stories like this in a...   \n",
       "\n",
       "                                               Title BeginTimestamp   \n",
       "0  Chapter 1. Frederick Douglass’ Speech, Deliver...       00:00:00  \\\n",
       "1      Chapter 2. What does it mean to be American?        00:04:44   \n",
       "2                 Chapter 3. The Story of John Jack        00:07:56   \n",
       "3  Chapter 4. The Linkage between Freedom and Cit...       00:15:43   \n",
       "4  Chapter 5. The History of the Post-Emancipatio...       00:19:25   \n",
       "\n",
       "  EndTimestamp   Corpus  \n",
       "0     00:04:44  yaleocw  \n",
       "1     00:07:56  yaleocw  \n",
       "2     00:15:43  yaleocw  \n",
       "3     00:19:25  yaleocw  \n",
       "4     00:24:26  yaleocw  "
      ]
     },
     "execution_count": 2,
     "metadata": {},
     "output_type": "execute_result"
    }
   ],
   "source": [
    "import os\n",
    "import pandas as pd\n",
    "\n",
    "version = \"v01\"\n",
    "main_publisher = 'OYC'\n",
    "\n",
    "script_dir = os.path.dirname(os.path.realpath('__file__'))\n",
    "data_path = os.path.join(script_dir, '../Data/' + main_publisher + '/data/')\n",
    "\n",
    "df_chapters = pd.read_csv(data_path + 'chapters.csv', sep = '|')\n",
    "df_chapters.head()"
   ]
  },
  {
   "cell_type": "code",
   "execution_count": 3,
   "metadata": {},
   "outputs": [
    {
     "data": {
      "text/plain": [
       "2550"
      ]
     },
     "execution_count": 3,
     "metadata": {},
     "output_type": "execute_result"
    }
   ],
   "source": [
    "len(df_chapters)"
   ]
  },
  {
   "cell_type": "code",
   "execution_count": 4,
   "metadata": {},
   "outputs": [
    {
     "name": "stdout",
     "output_type": "stream",
     "text": [
      "<class 'pandas.core.frame.DataFrame'>\n",
      "RangeIndex: 2550 entries, 0 to 2549\n",
      "Data columns (total 9 columns):\n",
      " #   Column          Non-Null Count  Dtype \n",
      "---  ------          --------------  ----- \n",
      " 0   Cid             2550 non-null   int64 \n",
      " 1   Eid             2550 non-null   int64 \n",
      " 2   Sid             2550 non-null   int64 \n",
      " 3   PartN           2550 non-null   int64 \n",
      " 4   Text            2550 non-null   object\n",
      " 5   Title           2531 non-null   object\n",
      " 6   BeginTimestamp  2550 non-null   object\n",
      " 7   EndTimestamp    2550 non-null   object\n",
      " 8   Corpus          2550 non-null   object\n",
      "dtypes: int64(4), object(5)\n",
      "memory usage: 179.4+ KB\n"
     ]
    }
   ],
   "source": [
    "df_chapters.info()"
   ]
  },
  {
   "cell_type": "code",
   "execution_count": 9,
   "metadata": {},
   "outputs": [
    {
     "name": "stdout",
     "output_type": "stream",
     "text": [
      "Wikification for : 4\n",
      "Graph generation for : 4\n",
      "Saved in  ../Output/Graphs/v01/OYC/4.ttl\n",
      "Wikification for : 5\n",
      "Graph generation for : 5\n",
      "Saved in  ../Output/Graphs/v01/OYC/5.ttl\n"
     ]
    },
    {
     "data": {
      "text/plain": [
       "4    ((http://example.org/Chapter, http://purl.org/...\n",
       "5    ((http://example.org/Chapter, http://purl.org/...\n",
       "dtype: object"
      ]
     },
     "execution_count": 9,
     "metadata": {},
     "output_type": "execute_result"
    }
   ],
   "source": [
    "from concepts import text2RDF\n",
    "\n",
    "df_chapters[4:6].dropna().apply(lambda x : text2RDF(x['Text'], \"../Output/Graphs/\"+ version + \"/\"+ main_publisher + \"/\" + str(x['Cid'])), axis = 1)"
   ]
  },
  {
   "cell_type": "code",
   "execution_count": 5,
   "metadata": {},
   "outputs": [
    {
     "name": "stdout",
     "output_type": "stream",
     "text": [
      "(350080, 3)\n"
     ]
    }
   ],
   "source": [
    "from rdflib import Graph\n",
    "\n",
    "chapters = df_chapters['Cid'].values\n",
    "df_concepts = pd.DataFrame()\n",
    "missing = []\n",
    "for c in chapters:\n",
    "    concepts = []\n",
    "    path_graph = f'../Output/Graphs/{version}/{main_publisher}/{c}.ttl'\n",
    "    g = Graph()\n",
    "    try :\n",
    "        g.parse(path_graph, format='turtle')\n",
    "    except (FileNotFoundError, IOError):\n",
    "        print(f'Chapter {c} file not found !')\n",
    "        missing.append(c)\n",
    "        continue\n",
    "    concepts_query = \"\"\"\n",
    "            SELECT ?concept ?pr WHERE\n",
    "            {\n",
    "                ?ER dct:subject ?concept.\n",
    "                ?concept ns1:pageRank ?pr.\n",
    "            }\n",
    "    \"\"\"\n",
    "    result = g.query(concepts_query)\n",
    "    for row in result:\n",
    "        concept_dict = {\n",
    "            'OER' : c,\n",
    "            'Concept' : str(row.concept),\n",
    "            'PR' : float(str(row.pr))\n",
    "        }\n",
    "        concepts.append(concept_dict)\n",
    "    df_concepts = pd.concat([df_concepts, pd.DataFrame(concepts)], ignore_index = True)\n",
    "print(df_concepts.shape)\n",
    "df_concepts.to_csv(path + 'concepts.csv', sep = '|', index = False)"
   ]
  },
  {
   "cell_type": "code",
   "execution_count": 6,
   "metadata": {},
   "outputs": [
    {
     "name": "stdout",
     "output_type": "stream",
     "text": [
      "350080 \tNUM of concepts\n",
      "16133 \tNUM of concepts w filter on PR =  0.005\n",
      "21.7 \t% Compression after filtering\n",
      "15 \tAVG concepts per chapter\n",
      "15 \tMEDIAN concepts per chapter\n",
      "52 \tMAX concepts per chapter\n",
      "1 \tMIN concepts per chapter\n"
     ]
    }
   ],
   "source": [
    "pr_filter = 0.005\n",
    "df_concepts_bis = df_concepts[df_concepts['PR'] > pr_filter]\n",
    "\n",
    "print(len(df_concepts), '\\tNUM of concepts')\n",
    "print(len(df_concepts_bis), '\\tNUM of concepts w filter on PR = ',pr_filter)\n",
    "print(round(len(df_concepts)/len(df_concepts_bis), 2), \"\\t% Compression after filtering\")\n",
    "\n",
    "value_counts = df_concepts_bis['OER'].value_counts()\n",
    "rec_value_mean = int(value_counts.mean())\n",
    "print(rec_value_mean, '\\tAVG concepts per chapter')\n",
    "\n",
    "rec_value_median = int(value_counts.median())\n",
    "print(rec_value_median, '\\tMEDIAN concepts per chapter')\n",
    "\n",
    "rec_value_max = value_counts.max()\n",
    "print(rec_value_max, '\\tMAX concepts per chapter')\n",
    "\n",
    "rec_value_min = value_counts.min()\n",
    "print(rec_value_min, '\\tMIN concepts per chapter')\n",
    "\n",
    "df_concepts_bis.to_csv(path + 'concepts_bis.csv', sep = '|', index = False)"
   ]
  }
 ],
 "metadata": {
  "kernelspec": {
   "display_name": "clara-datasets",
   "language": "python",
   "name": "python3"
  },
  "language_info": {
   "codemirror_mode": {
    "name": "ipython",
    "version": 3
   },
   "file_extension": ".py",
   "mimetype": "text/x-python",
   "name": "python",
   "nbconvert_exporter": "python",
   "pygments_lexer": "ipython3",
   "version": "3.10.8"
  },
  "orig_nbformat": 4
 },
 "nbformat": 4,
 "nbformat_minor": 2
}
