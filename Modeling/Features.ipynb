{
 "cells": [
  {
   "cell_type": "code",
   "execution_count": 5,
   "metadata": {},
   "outputs": [
    {
     "data": {
      "text/html": [
       "<div>\n",
       "<style scoped>\n",
       "    .dataframe tbody tr th:only-of-type {\n",
       "        vertical-align: middle;\n",
       "    }\n",
       "\n",
       "    .dataframe tbody tr th {\n",
       "        vertical-align: top;\n",
       "    }\n",
       "\n",
       "    .dataframe thead th {\n",
       "        text-align: right;\n",
       "    }\n",
       "</style>\n",
       "<table border=\"1\" class=\"dataframe\">\n",
       "  <thead>\n",
       "    <tr style=\"text-align: right;\">\n",
       "      <th></th>\n",
       "      <th>Cid</th>\n",
       "      <th>Eid</th>\n",
       "      <th>Sid</th>\n",
       "      <th>Text</th>\n",
       "      <th>Title</th>\n",
       "      <th>BeginTimestamp</th>\n",
       "      <th>EndTimestamp</th>\n",
       "      <th>Corpus</th>\n",
       "    </tr>\n",
       "  </thead>\n",
       "  <tbody>\n",
       "    <tr>\n",
       "      <th>0</th>\n",
       "      <td>0</td>\n",
       "      <td>0</td>\n",
       "      <td>0</td>\n",
       "      <td>Professor Jonathan Holloway :  \\n “Fellow citi...</td>\n",
       "      <td>Chapter 1. Frederick Douglass’ Speech, Deliver...</td>\n",
       "      <td>00:00:00</td>\n",
       "      <td>00:04:44</td>\n",
       "      <td>yaleocw</td>\n",
       "    </tr>\n",
       "    <tr>\n",
       "      <th>1</th>\n",
       "      <td>1</td>\n",
       "      <td>0</td>\n",
       "      <td>0</td>\n",
       "      <td>This class is about the post-emancipation Afri...</td>\n",
       "      <td>Chapter 2. What does it mean to be American?</td>\n",
       "      <td>00:04:44</td>\n",
       "      <td>00:07:56</td>\n",
       "      <td>yaleocw</td>\n",
       "    </tr>\n",
       "    <tr>\n",
       "      <th>2</th>\n",
       "      <td>2</td>\n",
       "      <td>0</td>\n",
       "      <td>0</td>\n",
       "      <td>Near the Minuteman Park, there’s also a cemete...</td>\n",
       "      <td>Chapter 3. The Story of John Jack</td>\n",
       "      <td>00:07:56</td>\n",
       "      <td>00:15:43</td>\n",
       "      <td>yaleocw</td>\n",
       "    </tr>\n",
       "    <tr>\n",
       "      <th>3</th>\n",
       "      <td>3</td>\n",
       "      <td>0</td>\n",
       "      <td>0</td>\n",
       "      <td>Two hundred years later, after John Jack’s att...</td>\n",
       "      <td>Chapter 4. The Linkage between Freedom and Cit...</td>\n",
       "      <td>00:15:43</td>\n",
       "      <td>00:19:25</td>\n",
       "      <td>yaleocw</td>\n",
       "    </tr>\n",
       "    <tr>\n",
       "      <th>4</th>\n",
       "      <td>4</td>\n",
       "      <td>0</td>\n",
       "      <td>0</td>\n",
       "      <td>We’re going to look for stories like this in a...</td>\n",
       "      <td>Chapter 5. The History of the Post-Emancipatio...</td>\n",
       "      <td>00:19:25</td>\n",
       "      <td>00:24:26</td>\n",
       "      <td>yaleocw</td>\n",
       "    </tr>\n",
       "  </tbody>\n",
       "</table>\n",
       "</div>"
      ],
      "text/plain": [
       "   Cid  Eid  Sid                                               Text   \n",
       "0    0    0    0  Professor Jonathan Holloway :  \\n “Fellow citi...  \\\n",
       "1    1    0    0  This class is about the post-emancipation Afri...   \n",
       "2    2    0    0  Near the Minuteman Park, there’s also a cemete...   \n",
       "3    3    0    0  Two hundred years later, after John Jack’s att...   \n",
       "4    4    0    0  We’re going to look for stories like this in a...   \n",
       "\n",
       "                                               Title BeginTimestamp   \n",
       "0  Chapter 1. Frederick Douglass’ Speech, Deliver...       00:00:00  \\\n",
       "1      Chapter 2. What does it mean to be American?        00:04:44   \n",
       "2                 Chapter 3. The Story of John Jack        00:07:56   \n",
       "3  Chapter 4. The Linkage between Freedom and Cit...       00:15:43   \n",
       "4  Chapter 5. The History of the Post-Emancipatio...       00:19:25   \n",
       "\n",
       "  EndTimestamp   Corpus  \n",
       "0     00:04:44  yaleocw  \n",
       "1     00:07:56  yaleocw  \n",
       "2     00:15:43  yaleocw  \n",
       "3     00:19:25  yaleocw  \n",
       "4     00:24:26  yaleocw  "
      ]
     },
     "execution_count": 5,
     "metadata": {},
     "output_type": "execute_result"
    }
   ],
   "source": [
    "import os\n",
    "import pandas as pd\n",
    "from bert import embeddings\n",
    "\n",
    "main_publisher = 'Merged'\n",
    "methods = ['BERT']\n",
    "\n",
    "script_dir = os.path.dirname(os.path.realpath('__file__'))\n",
    "path = os.path.join(script_dir, '../Data/' + main_publisher + '/')\n",
    "df_chapters = pd.read_csv(path + 'chapters.csv', sep = '|')\n",
    "df_chapters.head()"
   ]
  },
  {
   "cell_type": "code",
   "execution_count": 9,
   "metadata": {},
   "outputs": [
    {
     "name": "stderr",
     "output_type": "stream",
     "text": [
      "/home/abazouzi/Documents/Code/PrerequisiteLearning/clara-datasets/lib64/python3.10/site-packages/tqdm/auto.py:21: TqdmWarning: IProgress not found. Please update jupyter and ipywidgets. See https://ipywidgets.readthedocs.io/en/stable/user_install.html\n",
      "  from .autonotebook import tqdm as notebook_tqdm\n",
      "Downloading model.safetensors: 100%|██████████| 440M/440M [04:10<00:00, 1.76MB/s] \n"
     ]
    },
    {
     "data": {
      "text/html": [
       "<div>\n",
       "<style scoped>\n",
       "    .dataframe tbody tr th:only-of-type {\n",
       "        vertical-align: middle;\n",
       "    }\n",
       "\n",
       "    .dataframe tbody tr th {\n",
       "        vertical-align: top;\n",
       "    }\n",
       "\n",
       "    .dataframe thead th {\n",
       "        text-align: right;\n",
       "    }\n",
       "</style>\n",
       "<table border=\"1\" class=\"dataframe\">\n",
       "  <thead>\n",
       "    <tr style=\"text-align: right;\">\n",
       "      <th></th>\n",
       "      <th>BERT</th>\n",
       "    </tr>\n",
       "  </thead>\n",
       "  <tbody>\n",
       "    <tr>\n",
       "      <th>0</th>\n",
       "      <td>[0.052457463, 0.47599125, 0.05521268, -0.28553...</td>\n",
       "    </tr>\n",
       "    <tr>\n",
       "      <th>1</th>\n",
       "      <td>[-0.012200231, 0.24475642, 0.11507651, -0.2445...</td>\n",
       "    </tr>\n",
       "    <tr>\n",
       "      <th>2</th>\n",
       "      <td>[0.0950356, 0.22532578, 0.17159453, -0.0779241...</td>\n",
       "    </tr>\n",
       "    <tr>\n",
       "      <th>3</th>\n",
       "      <td>[0.03151487, 0.44307682, 0.12105083, -0.171348...</td>\n",
       "    </tr>\n",
       "    <tr>\n",
       "      <th>4</th>\n",
       "      <td>[-0.03276513, 0.1495071, 0.1283632, -0.0709260...</td>\n",
       "    </tr>\n",
       "  </tbody>\n",
       "</table>\n",
       "</div>"
      ],
      "text/plain": [
       "                                                BERT\n",
       "0  [0.052457463, 0.47599125, 0.05521268, -0.28553...\n",
       "1  [-0.012200231, 0.24475642, 0.11507651, -0.2445...\n",
       "2  [0.0950356, 0.22532578, 0.17159453, -0.0779241...\n",
       "3  [0.03151487, 0.44307682, 0.12105083, -0.171348...\n",
       "4  [-0.03276513, 0.1495071, 0.1283632, -0.0709260..."
      ]
     },
     "execution_count": 9,
     "metadata": {},
     "output_type": "execute_result"
    }
   ],
   "source": [
    "df_embeddings = embeddings(df_chapters.Text.values, methods, save = True, path = path)\n",
    "df_embeddings.head()"
   ]
  },
  {
   "cell_type": "code",
   "execution_count": 6,
   "metadata": {},
   "outputs": [
    {
     "data": {
      "text/html": [
       "<div>\n",
       "<style scoped>\n",
       "    .dataframe tbody tr th:only-of-type {\n",
       "        vertical-align: middle;\n",
       "    }\n",
       "\n",
       "    .dataframe tbody tr th {\n",
       "        vertical-align: top;\n",
       "    }\n",
       "\n",
       "    .dataframe thead th {\n",
       "        text-align: right;\n",
       "    }\n",
       "</style>\n",
       "<table border=\"1\" class=\"dataframe\">\n",
       "  <thead>\n",
       "    <tr style=\"text-align: right;\">\n",
       "      <th></th>\n",
       "      <th>BERT</th>\n",
       "    </tr>\n",
       "  </thead>\n",
       "  <tbody>\n",
       "    <tr>\n",
       "      <th>0</th>\n",
       "      <td>[-0.94547343, -0.1625015, 0.14259385, -0.01095...</td>\n",
       "    </tr>\n",
       "    <tr>\n",
       "      <th>1</th>\n",
       "      <td>[-0.6349313, -0.15997009, 0.030811118, 0.04047...</td>\n",
       "    </tr>\n",
       "    <tr>\n",
       "      <th>2</th>\n",
       "      <td>[-0.3411792, 0.24343413, 0.28454694, -0.174622...</td>\n",
       "    </tr>\n",
       "    <tr>\n",
       "      <th>3</th>\n",
       "      <td>[0.1459335, 0.10399005, 0.3314292, -0.23018344...</td>\n",
       "    </tr>\n",
       "    <tr>\n",
       "      <th>4</th>\n",
       "      <td>[-0.22689115, 0.09236799, -0.1093656, -0.41396...</td>\n",
       "    </tr>\n",
       "  </tbody>\n",
       "</table>\n",
       "</div>"
      ],
      "text/plain": [
       "                                                BERT\n",
       "0  [-0.94547343, -0.1625015, 0.14259385, -0.01095...\n",
       "1  [-0.6349313, -0.15997009, 0.030811118, 0.04047...\n",
       "2  [-0.3411792, 0.24343413, 0.28454694, -0.174622...\n",
       "3  [0.1459335, 0.10399005, 0.3314292, -0.23018344...\n",
       "4  [-0.22689115, 0.09236799, -0.1093656, -0.41396..."
      ]
     },
     "execution_count": 6,
     "metadata": {},
     "output_type": "execute_result"
    }
   ],
   "source": [
    "df_concepts = pd.read_csv(path + 'concepts.csv', sep = '|')\n",
    "df_concepts['Concept'] = df_concepts['Concept'].apply(lambda x : x.split('/')[-1].replace('_', ' '))\n",
    "df_embeddings_concepts = embeddings(df_concepts.Concept.values, methods)\n",
    "df_embeddings_concepts.head()"
   ]
  },
  {
   "cell_type": "code",
   "execution_count": 7,
   "metadata": {},
   "outputs": [],
   "source": [
    "df_embeddings_concepts.to_csv(path + \"embeddings_concepts.csv\", sep = '|')"
   ]
  },
  {
   "cell_type": "code",
   "execution_count": 9,
   "metadata": {},
   "outputs": [
    {
     "data": {
      "text/html": [
       "<div>\n",
       "<style scoped>\n",
       "    .dataframe tbody tr th:only-of-type {\n",
       "        vertical-align: middle;\n",
       "    }\n",
       "\n",
       "    .dataframe tbody tr th {\n",
       "        vertical-align: top;\n",
       "    }\n",
       "\n",
       "    .dataframe thead th {\n",
       "        text-align: right;\n",
       "    }\n",
       "</style>\n",
       "<table border=\"1\" class=\"dataframe\">\n",
       "  <thead>\n",
       "    <tr style=\"text-align: right;\">\n",
       "      <th></th>\n",
       "      <th>BERT</th>\n",
       "    </tr>\n",
       "  </thead>\n",
       "  <tbody>\n",
       "    <tr>\n",
       "      <th>0</th>\n",
       "      <td>[0.0803655, -0.053174503, -0.42212963, -0.4143...</td>\n",
       "    </tr>\n",
       "    <tr>\n",
       "      <th>1</th>\n",
       "      <td>[0.08543151, -0.17890522, -0.30755234, -0.0417...</td>\n",
       "    </tr>\n",
       "    <tr>\n",
       "      <th>2</th>\n",
       "      <td>[-0.43576244, -0.003321135, 0.083635025, -0.11...</td>\n",
       "    </tr>\n",
       "    <tr>\n",
       "      <th>3</th>\n",
       "      <td>[0.36499563, -0.21680821, -0.25889257, -0.2903...</td>\n",
       "    </tr>\n",
       "    <tr>\n",
       "      <th>4</th>\n",
       "      <td>[-0.10854881, -0.122201405, -0.52367646, -0.16...</td>\n",
       "    </tr>\n",
       "  </tbody>\n",
       "</table>\n",
       "</div>"
      ],
      "text/plain": [
       "                                                BERT\n",
       "0  [0.0803655, -0.053174503, -0.42212963, -0.4143...\n",
       "1  [0.08543151, -0.17890522, -0.30755234, -0.0417...\n",
       "2  [-0.43576244, -0.003321135, 0.083635025, -0.11...\n",
       "3  [0.36499563, -0.21680821, -0.25889257, -0.2903...\n",
       "4  [-0.10854881, -0.122201405, -0.52367646, -0.16..."
      ]
     },
     "execution_count": 9,
     "metadata": {},
     "output_type": "execute_result"
    }
   ],
   "source": [
    "df_concepts = pd.read_csv(path + 'concepts_bis.csv', sep = '|')\n",
    "df_concepts['Concept'] = df_concepts['Concept'].apply(lambda x : x.split('/')[-1].replace('_', ' '))\n",
    "df_embeddings_concepts = embeddings(df_concepts.Concept.values, methods)\n",
    "df_embeddings_concepts.head()"
   ]
  },
  {
   "cell_type": "code",
   "execution_count": 10,
   "metadata": {},
   "outputs": [],
   "source": [
    "df_embeddings_concepts.to_csv(path + \"embeddings_concepts_bis.csv\", sep = '|')"
   ]
  },
  {
   "cell_type": "code",
   "execution_count": 11,
   "metadata": {},
   "outputs": [
    {
     "data": {
      "text/plain": [
       "(24347, 1)"
      ]
     },
     "execution_count": 11,
     "metadata": {},
     "output_type": "execute_result"
    }
   ],
   "source": [
    "df_embeddings_concepts.shape"
   ]
  }
 ],
 "metadata": {
  "kernelspec": {
   "display_name": "clara-datasets",
   "language": "python",
   "name": "python3"
  },
  "language_info": {
   "codemirror_mode": {
    "name": "ipython",
    "version": 3
   },
   "file_extension": ".py",
   "mimetype": "text/x-python",
   "name": "python",
   "nbconvert_exporter": "python",
   "pygments_lexer": "ipython3",
   "version": "3.10.8"
  },
  "orig_nbformat": 4
 },
 "nbformat": 4,
 "nbformat_minor": 2
}
