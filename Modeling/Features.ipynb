{
 "cells": [
  {
   "cell_type": "code",
   "execution_count": 1,
   "metadata": {},
   "outputs": [
    {
     "name": "stderr",
     "output_type": "stream",
     "text": [
      "/home/abazouzi/Documents/Code/PrerequisiteLearning/clara-datasets/lib64/python3.10/site-packages/tqdm/auto.py:21: TqdmWarning: IProgress not found. Please update jupyter and ipywidgets. See https://ipywidgets.readthedocs.io/en/stable/user_install.html\n",
      "  from .autonotebook import tqdm as notebook_tqdm\n"
     ]
    },
    {
     "data": {
      "text/html": [
       "<div>\n",
       "<style scoped>\n",
       "    .dataframe tbody tr th:only-of-type {\n",
       "        vertical-align: middle;\n",
       "    }\n",
       "\n",
       "    .dataframe tbody tr th {\n",
       "        vertical-align: top;\n",
       "    }\n",
       "\n",
       "    .dataframe thead th {\n",
       "        text-align: right;\n",
       "    }\n",
       "</style>\n",
       "<table border=\"1\" class=\"dataframe\">\n",
       "  <thead>\n",
       "    <tr style=\"text-align: right;\">\n",
       "      <th></th>\n",
       "      <th>Cid</th>\n",
       "      <th>Eid</th>\n",
       "      <th>Sid</th>\n",
       "      <th>Title</th>\n",
       "      <th>Text</th>\n",
       "      <th>BeginTimestamp</th>\n",
       "      <th>EndTimestamp</th>\n",
       "      <th>Corpus</th>\n",
       "      <th>Type</th>\n",
       "    </tr>\n",
       "  </thead>\n",
       "  <tbody>\n",
       "  </tbody>\n",
       "</table>\n",
       "</div>"
      ],
      "text/plain": [
       "Empty DataFrame\n",
       "Columns: [Cid, Eid, Sid, Title, Text, BeginTimestamp, EndTimestamp, Corpus, Type]\n",
       "Index: []"
      ]
     },
     "execution_count": 1,
     "metadata": {},
     "output_type": "execute_result"
    }
   ],
   "source": [
    "import os\n",
    "import pandas as pd\n",
    "from embedding import embeddings\n",
    "\n",
    "main_publisher = 'Stanford'\n",
    "methods = ['BERT']\n",
    "\n",
    "script_dir = os.path.dirname(os.path.realpath('__file__'))\n",
    "path = os.path.join(script_dir, '../Data/' + main_publisher + '/')\n",
    "df_chapters = pd.read_csv(path + 'chapters.csv', sep = '|')\n",
    "df_chapters['Title'] = df_chapters['Title'].astype(str)\n",
    "df_chapters['Title'] = df_chapters['Title'].apply(lambda x: ' ' if x=='nan' else x)\n",
    "\n",
    "df_chapters['Text'] = df_chapters['Text'].astype(str)\n",
    "df_chapters['Text'] = df_chapters['Text'].apply(lambda x: ' ' if x=='nan' else x)\n",
    "\n",
    "df_chapters['Type'] = df_chapters['Text'].apply(lambda x: str(type(x)))\n",
    "df_chapters[df_chapters['Text'] == ' '].head()\n"
   ]
  },
  {
   "cell_type": "code",
   "execution_count": 2,
   "metadata": {},
   "outputs": [
    {
     "data": {
      "text/html": [
       "<div>\n",
       "<style scoped>\n",
       "    .dataframe tbody tr th:only-of-type {\n",
       "        vertical-align: middle;\n",
       "    }\n",
       "\n",
       "    .dataframe tbody tr th {\n",
       "        vertical-align: top;\n",
       "    }\n",
       "\n",
       "    .dataframe thead th {\n",
       "        text-align: right;\n",
       "    }\n",
       "</style>\n",
       "<table border=\"1\" class=\"dataframe\">\n",
       "  <thead>\n",
       "    <tr style=\"text-align: right;\">\n",
       "      <th></th>\n",
       "      <th>BERT</th>\n",
       "    </tr>\n",
       "  </thead>\n",
       "  <tbody>\n",
       "    <tr>\n",
       "      <th>0</th>\n",
       "      <td>[-0.028438192, 0.06574503, 0.27872306, -0.0405...</td>\n",
       "    </tr>\n",
       "    <tr>\n",
       "      <th>1</th>\n",
       "      <td>[0.08236879, -0.030180156, 0.54893965, -0.0544...</td>\n",
       "    </tr>\n",
       "    <tr>\n",
       "      <th>2</th>\n",
       "      <td>[-0.13332342, 0.016858434, 0.3161581, -0.28361...</td>\n",
       "    </tr>\n",
       "    <tr>\n",
       "      <th>3</th>\n",
       "      <td>[-0.15141454, -0.16294053, 0.2395207, 0.011458...</td>\n",
       "    </tr>\n",
       "    <tr>\n",
       "      <th>4</th>\n",
       "      <td>[0.0025563724, -0.009716595, 0.33443743, 0.116...</td>\n",
       "    </tr>\n",
       "  </tbody>\n",
       "</table>\n",
       "</div>"
      ],
      "text/plain": [
       "                                                BERT\n",
       "0  [-0.028438192, 0.06574503, 0.27872306, -0.0405...\n",
       "1  [0.08236879, -0.030180156, 0.54893965, -0.0544...\n",
       "2  [-0.13332342, 0.016858434, 0.3161581, -0.28361...\n",
       "3  [-0.15141454, -0.16294053, 0.2395207, 0.011458...\n",
       "4  [0.0025563724, -0.009716595, 0.33443743, 0.116..."
      ]
     },
     "execution_count": 2,
     "metadata": {},
     "output_type": "execute_result"
    }
   ],
   "source": [
    "df_embeddings = embeddings(df_chapters.Text.values, df_chapters.Cid.values, methods, save = True, path = path)\n",
    "df_embeddings.head()"
   ]
  },
  {
   "cell_type": "code",
   "execution_count": 3,
   "metadata": {},
   "outputs": [],
   "source": [
    "df_embeddings.to_csv(path + \"embeddings_chapters.csv\", sep = '|')"
   ]
  },
  {
   "cell_type": "code",
   "execution_count": 6,
   "metadata": {},
   "outputs": [
    {
     "data": {
      "text/html": [
       "<div>\n",
       "<style scoped>\n",
       "    .dataframe tbody tr th:only-of-type {\n",
       "        vertical-align: middle;\n",
       "    }\n",
       "\n",
       "    .dataframe tbody tr th {\n",
       "        vertical-align: top;\n",
       "    }\n",
       "\n",
       "    .dataframe thead th {\n",
       "        text-align: right;\n",
       "    }\n",
       "</style>\n",
       "<table border=\"1\" class=\"dataframe\">\n",
       "  <thead>\n",
       "    <tr style=\"text-align: right;\">\n",
       "      <th></th>\n",
       "      <th>BERT</th>\n",
       "    </tr>\n",
       "  </thead>\n",
       "  <tbody>\n",
       "    <tr>\n",
       "      <th>0</th>\n",
       "      <td>[-0.94547343, -0.1625015, 0.14259385, -0.01095...</td>\n",
       "    </tr>\n",
       "    <tr>\n",
       "      <th>1</th>\n",
       "      <td>[-0.6349313, -0.15997009, 0.030811118, 0.04047...</td>\n",
       "    </tr>\n",
       "    <tr>\n",
       "      <th>2</th>\n",
       "      <td>[-0.3411792, 0.24343413, 0.28454694, -0.174622...</td>\n",
       "    </tr>\n",
       "    <tr>\n",
       "      <th>3</th>\n",
       "      <td>[0.1459335, 0.10399005, 0.3314292, -0.23018344...</td>\n",
       "    </tr>\n",
       "    <tr>\n",
       "      <th>4</th>\n",
       "      <td>[-0.22689115, 0.09236799, -0.1093656, -0.41396...</td>\n",
       "    </tr>\n",
       "  </tbody>\n",
       "</table>\n",
       "</div>"
      ],
      "text/plain": [
       "                                                BERT\n",
       "0  [-0.94547343, -0.1625015, 0.14259385, -0.01095...\n",
       "1  [-0.6349313, -0.15997009, 0.030811118, 0.04047...\n",
       "2  [-0.3411792, 0.24343413, 0.28454694, -0.174622...\n",
       "3  [0.1459335, 0.10399005, 0.3314292, -0.23018344...\n",
       "4  [-0.22689115, 0.09236799, -0.1093656, -0.41396..."
      ]
     },
     "execution_count": 6,
     "metadata": {},
     "output_type": "execute_result"
    }
   ],
   "source": [
    "df_concepts = pd.read_csv(path + 'concepts.csv', sep = '|')\n",
    "df_concepts['Concept'] = df_concepts['Concept'].apply(lambda x : x.split('/')[-1].replace('_', ' '))\n",
    "df_embeddings_concepts = embeddings(df_concepts.Concept.values, methods)\n",
    "df_embeddings_concepts.head()"
   ]
  },
  {
   "cell_type": "code",
   "execution_count": 7,
   "metadata": {},
   "outputs": [],
   "source": [
    "df_embeddings_concepts.to_csv(path + \"embeddings_concepts.csv\", sep = '|')"
   ]
  },
  {
   "cell_type": "code",
   "execution_count": 4,
   "metadata": {},
   "outputs": [
    {
     "data": {
      "text/html": [
       "<div>\n",
       "<style scoped>\n",
       "    .dataframe tbody tr th:only-of-type {\n",
       "        vertical-align: middle;\n",
       "    }\n",
       "\n",
       "    .dataframe tbody tr th {\n",
       "        vertical-align: top;\n",
       "    }\n",
       "\n",
       "    .dataframe thead th {\n",
       "        text-align: right;\n",
       "    }\n",
       "</style>\n",
       "<table border=\"1\" class=\"dataframe\">\n",
       "  <thead>\n",
       "    <tr style=\"text-align: right;\">\n",
       "      <th></th>\n",
       "      <th>BERT</th>\n",
       "    </tr>\n",
       "  </thead>\n",
       "  <tbody>\n",
       "    <tr>\n",
       "      <th>0</th>\n",
       "      <td>[-0.21858865, 0.064856574, -0.0994579, -0.1870...</td>\n",
       "    </tr>\n",
       "    <tr>\n",
       "      <th>1</th>\n",
       "      <td>[-0.4257597, 0.09390659, -0.10234618, -0.20165...</td>\n",
       "    </tr>\n",
       "    <tr>\n",
       "      <th>2</th>\n",
       "      <td>[-0.13135229, -0.019156182, -0.0035993631, -0....</td>\n",
       "    </tr>\n",
       "    <tr>\n",
       "      <th>3</th>\n",
       "      <td>[-0.14531374, 0.09480121, 0.08134028, -0.18564...</td>\n",
       "    </tr>\n",
       "    <tr>\n",
       "      <th>4</th>\n",
       "      <td>[-0.38800097, -0.18268852, 0.012900118, -0.208...</td>\n",
       "    </tr>\n",
       "  </tbody>\n",
       "</table>\n",
       "</div>"
      ],
      "text/plain": [
       "                                                BERT\n",
       "0  [-0.21858865, 0.064856574, -0.0994579, -0.1870...\n",
       "1  [-0.4257597, 0.09390659, -0.10234618, -0.20165...\n",
       "2  [-0.13135229, -0.019156182, -0.0035993631, -0....\n",
       "3  [-0.14531374, 0.09480121, 0.08134028, -0.18564...\n",
       "4  [-0.38800097, -0.18268852, 0.012900118, -0.208..."
      ]
     },
     "execution_count": 4,
     "metadata": {},
     "output_type": "execute_result"
    }
   ],
   "source": [
    "df_concepts = pd.read_csv(path + 'concepts_bis.csv', sep = '|')\n",
    "df_concepts['Concept'] = df_concepts['Concept'].apply(lambda x : x.split('/')[-1].replace('_', ' '))\n",
    "df_embeddings_concepts = embeddings(df_concepts.Concept.values, df_concepts.Concept.values, methods=methods)\n",
    "df_embeddings_concepts.head()"
   ]
  },
  {
   "cell_type": "code",
   "execution_count": 5,
   "metadata": {},
   "outputs": [
    {
     "data": {
      "text/plain": [
       "(16133, 1)"
      ]
     },
     "execution_count": 5,
     "metadata": {},
     "output_type": "execute_result"
    }
   ],
   "source": [
    "df_embeddings_concepts.to_csv(path + \"embeddings_concepts_bis.csv\", sep = '|')\n",
    "df_embeddings_concepts.shape"
   ]
  },
  {
   "cell_type": "code",
   "execution_count": 6,
   "metadata": {},
   "outputs": [
    {
     "data": {
      "text/html": [
       "<div>\n",
       "<style scoped>\n",
       "    .dataframe tbody tr th:only-of-type {\n",
       "        vertical-align: middle;\n",
       "    }\n",
       "\n",
       "    .dataframe tbody tr th {\n",
       "        vertical-align: top;\n",
       "    }\n",
       "\n",
       "    .dataframe thead th {\n",
       "        text-align: right;\n",
       "    }\n",
       "</style>\n",
       "<table border=\"1\" class=\"dataframe\">\n",
       "  <thead>\n",
       "    <tr style=\"text-align: right;\">\n",
       "      <th></th>\n",
       "      <th>Concept</th>\n",
       "      <th>Class</th>\n",
       "    </tr>\n",
       "  </thead>\n",
       "  <tbody>\n",
       "    <tr>\n",
       "      <th>0</th>\n",
       "      <td>Breast_cancer</td>\n",
       "      <td>http://www.w3.org/2002/07/owl#Thing</td>\n",
       "    </tr>\n",
       "    <tr>\n",
       "      <th>1</th>\n",
       "      <td>Breast_cancer</td>\n",
       "      <td>http://dbpedia.org/ontology/Disease</td>\n",
       "    </tr>\n",
       "    <tr>\n",
       "      <th>2</th>\n",
       "      <td>Gene</td>\n",
       "      <td>http://www.w3.org/2002/07/owl#Thing</td>\n",
       "    </tr>\n",
       "    <tr>\n",
       "      <th>3</th>\n",
       "      <td>Gene</td>\n",
       "      <td>http://dbpedia.org/ontology/Organisation</td>\n",
       "    </tr>\n",
       "    <tr>\n",
       "      <th>4</th>\n",
       "      <td>Gene_expression</td>\n",
       "      <td>http://www.w3.org/2002/07/owl#Thing</td>\n",
       "    </tr>\n",
       "  </tbody>\n",
       "</table>\n",
       "</div>"
      ],
      "text/plain": [
       "           Concept                                     Class\n",
       "0    Breast_cancer       http://www.w3.org/2002/07/owl#Thing\n",
       "1    Breast_cancer       http://dbpedia.org/ontology/Disease\n",
       "2             Gene       http://www.w3.org/2002/07/owl#Thing\n",
       "3             Gene  http://dbpedia.org/ontology/Organisation\n",
       "4  Gene_expression       http://www.w3.org/2002/07/owl#Thing"
      ]
     },
     "execution_count": 6,
     "metadata": {},
     "output_type": "execute_result"
    }
   ],
   "source": [
    "df_concepts = pd.read_csv(path + 'concepts_bis.csv', sep = '|')\n",
    "df_concepts_classes = pd.read_csv(path + 'classes.csv', sep = '|', index_col=0)\n",
    "df_concepts_classes.head()"
   ]
  },
  {
   "cell_type": "code",
   "execution_count": 7,
   "metadata": {},
   "outputs": [
    {
     "data": {
      "text/html": [
       "<div>\n",
       "<style scoped>\n",
       "    .dataframe tbody tr th:only-of-type {\n",
       "        vertical-align: middle;\n",
       "    }\n",
       "\n",
       "    .dataframe tbody tr th {\n",
       "        vertical-align: top;\n",
       "    }\n",
       "\n",
       "    .dataframe thead th {\n",
       "        text-align: right;\n",
       "    }\n",
       "</style>\n",
       "<table border=\"1\" class=\"dataframe\">\n",
       "  <thead>\n",
       "    <tr style=\"text-align: right;\">\n",
       "      <th></th>\n",
       "      <th>Concept</th>\n",
       "      <th>Class</th>\n",
       "      <th>Class Name</th>\n",
       "    </tr>\n",
       "  </thead>\n",
       "  <tbody>\n",
       "    <tr>\n",
       "      <th>0</th>\n",
       "      <td>Breast_cancer</td>\n",
       "      <td>http://www.w3.org/2002/07/owl#Thing</td>\n",
       "      <td>Thing</td>\n",
       "    </tr>\n",
       "    <tr>\n",
       "      <th>1</th>\n",
       "      <td>Breast_cancer</td>\n",
       "      <td>http://dbpedia.org/ontology/Disease</td>\n",
       "      <td>Disease</td>\n",
       "    </tr>\n",
       "    <tr>\n",
       "      <th>2</th>\n",
       "      <td>Gene</td>\n",
       "      <td>http://www.w3.org/2002/07/owl#Thing</td>\n",
       "      <td>Thing</td>\n",
       "    </tr>\n",
       "    <tr>\n",
       "      <th>3</th>\n",
       "      <td>Gene</td>\n",
       "      <td>http://dbpedia.org/ontology/Organisation</td>\n",
       "      <td>Organisation</td>\n",
       "    </tr>\n",
       "    <tr>\n",
       "      <th>4</th>\n",
       "      <td>Gene_expression</td>\n",
       "      <td>http://www.w3.org/2002/07/owl#Thing</td>\n",
       "      <td>Thing</td>\n",
       "    </tr>\n",
       "  </tbody>\n",
       "</table>\n",
       "</div>"
      ],
      "text/plain": [
       "           Concept                                     Class    Class Name\n",
       "0    Breast_cancer       http://www.w3.org/2002/07/owl#Thing         Thing\n",
       "1    Breast_cancer       http://dbpedia.org/ontology/Disease       Disease\n",
       "2             Gene       http://www.w3.org/2002/07/owl#Thing         Thing\n",
       "3             Gene  http://dbpedia.org/ontology/Organisation  Organisation\n",
       "4  Gene_expression       http://www.w3.org/2002/07/owl#Thing         Thing"
      ]
     },
     "execution_count": 7,
     "metadata": {},
     "output_type": "execute_result"
    }
   ],
   "source": [
    "df_concepts_classes['Class Name'] = df_concepts_classes['Class'].apply(lambda x : x.split('/')[-1].split('#')[-1].replace('_', ' '))\n",
    "df_concepts_classes.head()"
   ]
  },
  {
   "cell_type": "code",
   "execution_count": 8,
   "metadata": {},
   "outputs": [
    {
     "data": {
      "text/html": [
       "<div>\n",
       "<style scoped>\n",
       "    .dataframe tbody tr th:only-of-type {\n",
       "        vertical-align: middle;\n",
       "    }\n",
       "\n",
       "    .dataframe tbody tr th {\n",
       "        vertical-align: top;\n",
       "    }\n",
       "\n",
       "    .dataframe thead th {\n",
       "        text-align: right;\n",
       "    }\n",
       "</style>\n",
       "<table border=\"1\" class=\"dataframe\">\n",
       "  <thead>\n",
       "    <tr style=\"text-align: right;\">\n",
       "      <th></th>\n",
       "      <th>BERT</th>\n",
       "    </tr>\n",
       "  </thead>\n",
       "  <tbody>\n",
       "    <tr>\n",
       "      <th>0</th>\n",
       "      <td>[-0.40278402, 0.14599594, -0.37918368, -0.2779...</td>\n",
       "    </tr>\n",
       "    <tr>\n",
       "      <th>1</th>\n",
       "      <td>[-0.40278402, 0.14599594, -0.37918368, -0.2779...</td>\n",
       "    </tr>\n",
       "    <tr>\n",
       "      <th>2</th>\n",
       "      <td>[-0.40278402, 0.14599594, -0.37918368, -0.2779...</td>\n",
       "    </tr>\n",
       "    <tr>\n",
       "      <th>3</th>\n",
       "      <td>[-0.40278402, 0.14599594, -0.37918368, -0.2779...</td>\n",
       "    </tr>\n",
       "    <tr>\n",
       "      <th>4</th>\n",
       "      <td>[-0.40278402, 0.14599594, -0.37918368, -0.2779...</td>\n",
       "    </tr>\n",
       "  </tbody>\n",
       "</table>\n",
       "</div>"
      ],
      "text/plain": [
       "                                                BERT\n",
       "0  [-0.40278402, 0.14599594, -0.37918368, -0.2779...\n",
       "1  [-0.40278402, 0.14599594, -0.37918368, -0.2779...\n",
       "2  [-0.40278402, 0.14599594, -0.37918368, -0.2779...\n",
       "3  [-0.40278402, 0.14599594, -0.37918368, -0.2779...\n",
       "4  [-0.40278402, 0.14599594, -0.37918368, -0.2779..."
      ]
     },
     "execution_count": 8,
     "metadata": {},
     "output_type": "execute_result"
    }
   ],
   "source": [
    "df_classes = df_concepts_classes[['Class', 'Class Name']]\n",
    "df_classes = df_classes.drop_duplicates(subset='Class', keep='first')\n",
    "df_classes = embeddings(df_classes['Class Name'].values, df_classes['Class Name'].values, methods)\n",
    "df_classes.head()"
   ]
  },
  {
   "cell_type": "code",
   "execution_count": 9,
   "metadata": {},
   "outputs": [],
   "source": [
    "df_classes.to_csv(path + \"embeddings_classes_bis.csv\", sep = '|')"
   ]
  }
 ],
 "metadata": {
  "kernelspec": {
   "display_name": "clara-datasets",
   "language": "python",
   "name": "python3"
  },
  "language_info": {
   "codemirror_mode": {
    "name": "ipython",
    "version": 3
   },
   "file_extension": ".py",
   "mimetype": "text/x-python",
   "name": "python",
   "nbconvert_exporter": "python",
   "pygments_lexer": "ipython3",
   "version": "3.10.8"
  },
  "orig_nbformat": 4
 },
 "nbformat": 4,
 "nbformat_minor": 2
}
