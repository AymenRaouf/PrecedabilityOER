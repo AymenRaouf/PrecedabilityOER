{
 "cells": [
  {
   "cell_type": "code",
   "execution_count": 1,
   "metadata": {},
   "outputs": [
    {
     "name": "stderr",
     "output_type": "stream",
     "text": [
      "/home/abazouzi/Documents/Code/PrerequisiteLearning/clara-datasets/lib64/python3.10/site-packages/tqdm/auto.py:21: TqdmWarning: IProgress not found. Please update jupyter and ipywidgets. See https://ipywidgets.readthedocs.io/en/stable/user_install.html\n",
      "  from .autonotebook import tqdm as notebook_tqdm\n"
     ]
    },
    {
     "data": {
      "text/html": [
       "<div>\n",
       "<style scoped>\n",
       "    .dataframe tbody tr th:only-of-type {\n",
       "        vertical-align: middle;\n",
       "    }\n",
       "\n",
       "    .dataframe tbody tr th {\n",
       "        vertical-align: top;\n",
       "    }\n",
       "\n",
       "    .dataframe thead th {\n",
       "        text-align: right;\n",
       "    }\n",
       "</style>\n",
       "<table border=\"1\" class=\"dataframe\">\n",
       "  <thead>\n",
       "    <tr style=\"text-align: right;\">\n",
       "      <th></th>\n",
       "      <th>Cid</th>\n",
       "      <th>Eid</th>\n",
       "      <th>Sid</th>\n",
       "      <th>Title</th>\n",
       "      <th>Text</th>\n",
       "      <th>BeginTimestamp</th>\n",
       "      <th>EndTimestamp</th>\n",
       "      <th>Corpus</th>\n",
       "      <th>Type</th>\n",
       "    </tr>\n",
       "  </thead>\n",
       "  <tbody>\n",
       "    <tr>\n",
       "      <th>406</th>\n",
       "      <td>406</td>\n",
       "      <td>213</td>\n",
       "      <td>9</td>\n",
       "      <td>4. Pushdown Automata, Conversion of CFG to PDA...</td>\n",
       "      <td></td>\n",
       "      <td>0:00:00</td>\n",
       "      <td>0:00:00</td>\n",
       "      <td>MIT OpenCourseWare</td>\n",
       "      <td>&lt;class 'str'&gt;</td>\n",
       "    </tr>\n",
       "    <tr>\n",
       "      <th>440</th>\n",
       "      <td>440</td>\n",
       "      <td>225</td>\n",
       "      <td>9</td>\n",
       "      <td>17. Space Complexity, PSPACE, Savitch's Theorem</td>\n",
       "      <td></td>\n",
       "      <td>0:00:00</td>\n",
       "      <td>0:00:00</td>\n",
       "      <td>MIT OpenCourseWare</td>\n",
       "      <td>&lt;class 'str'&gt;</td>\n",
       "    </tr>\n",
       "    <tr>\n",
       "      <th>720</th>\n",
       "      <td>720</td>\n",
       "      <td>425</td>\n",
       "      <td>18</td>\n",
       "      <td>Quiz 2 Review</td>\n",
       "      <td></td>\n",
       "      <td>0:00:00</td>\n",
       "      <td>0:00:00</td>\n",
       "      <td>MIT OpenCourseWare</td>\n",
       "      <td>&lt;class 'str'&gt;</td>\n",
       "    </tr>\n",
       "  </tbody>\n",
       "</table>\n",
       "</div>"
      ],
      "text/plain": [
       "     Cid  Eid  Sid                                              Title Text   \n",
       "406  406  213    9  4. Pushdown Automata, Conversion of CFG to PDA...       \\\n",
       "440  440  225    9    17. Space Complexity, PSPACE, Savitch's Theorem        \n",
       "720  720  425   18                                      Quiz 2 Review        \n",
       "\n",
       "    BeginTimestamp EndTimestamp              Corpus           Type  \n",
       "406        0:00:00      0:00:00  MIT OpenCourseWare  <class 'str'>  \n",
       "440        0:00:00      0:00:00  MIT OpenCourseWare  <class 'str'>  \n",
       "720        0:00:00      0:00:00  MIT OpenCourseWare  <class 'str'>  "
      ]
     },
     "execution_count": 1,
     "metadata": {},
     "output_type": "execute_result"
    }
   ],
   "source": [
    "import os\n",
    "import pandas as pd\n",
    "from embedding import embeddings\n",
    "\n",
    "main_publisher = 'MIT'\n",
    "methods = ['BERT']\n",
    "\n",
    "script_dir = os.path.dirname(os.path.realpath('__file__'))\n",
    "path = os.path.join(script_dir, '../Data/' + main_publisher + '/')\n",
    "df_chapters = pd.read_csv(path + 'chapters.csv', sep = '|')\n",
    "df_chapters['Title'] = df_chapters['Title'].astype(str)\n",
    "df_chapters['Title'] = df_chapters['Title'].apply(lambda x: ' ' if x=='nan' else x)\n",
    "\n",
    "df_chapters['Text'] = df_chapters['Text'].astype(str)\n",
    "df_chapters['Text'] = df_chapters['Text'].apply(lambda x: ' ' if x=='nan' else x)\n",
    "\n",
    "df_chapters['Type'] = df_chapters['Text'].apply(lambda x: str(type(x)))\n",
    "df_chapters[df_chapters['Text'] == ' '].head()\n"
   ]
  },
  {
   "cell_type": "code",
   "execution_count": 2,
   "metadata": {},
   "outputs": [
    {
     "data": {
      "text/html": [
       "<div>\n",
       "<style scoped>\n",
       "    .dataframe tbody tr th:only-of-type {\n",
       "        vertical-align: middle;\n",
       "    }\n",
       "\n",
       "    .dataframe tbody tr th {\n",
       "        vertical-align: top;\n",
       "    }\n",
       "\n",
       "    .dataframe thead th {\n",
       "        text-align: right;\n",
       "    }\n",
       "</style>\n",
       "<table border=\"1\" class=\"dataframe\">\n",
       "  <thead>\n",
       "    <tr style=\"text-align: right;\">\n",
       "      <th></th>\n",
       "      <th>BERT</th>\n",
       "    </tr>\n",
       "  </thead>\n",
       "  <tbody>\n",
       "    <tr>\n",
       "      <th>0</th>\n",
       "      <td>[0.07993402, 0.20731501, 0.2947327, -0.4567318...</td>\n",
       "    </tr>\n",
       "    <tr>\n",
       "      <th>1</th>\n",
       "      <td>[0.017245166, 0.19831742, 0.2463726, -0.129093...</td>\n",
       "    </tr>\n",
       "    <tr>\n",
       "      <th>2</th>\n",
       "      <td>[-0.3729775, 0.048071, 0.50140005, -0.2185923,...</td>\n",
       "    </tr>\n",
       "    <tr>\n",
       "      <th>3</th>\n",
       "      <td>[0.024492659, 0.038255762, 0.33062482, -0.4121...</td>\n",
       "    </tr>\n",
       "    <tr>\n",
       "      <th>4</th>\n",
       "      <td>[0.048811253, 0.020026138, 0.2520394, -0.23671...</td>\n",
       "    </tr>\n",
       "  </tbody>\n",
       "</table>\n",
       "</div>"
      ],
      "text/plain": [
       "                                                BERT\n",
       "0  [0.07993402, 0.20731501, 0.2947327, -0.4567318...\n",
       "1  [0.017245166, 0.19831742, 0.2463726, -0.129093...\n",
       "2  [-0.3729775, 0.048071, 0.50140005, -0.2185923,...\n",
       "3  [0.024492659, 0.038255762, 0.33062482, -0.4121...\n",
       "4  [0.048811253, 0.020026138, 0.2520394, -0.23671..."
      ]
     },
     "execution_count": 2,
     "metadata": {},
     "output_type": "execute_result"
    }
   ],
   "source": [
    "df_embeddings = embeddings(df_chapters.Text.values, df_chapters.Cid.values, methods, save = True, path = path)\n",
    "df_embeddings.head()"
   ]
  },
  {
   "cell_type": "code",
   "execution_count": 3,
   "metadata": {},
   "outputs": [],
   "source": [
    "df_embeddings.to_csv(path + \"embeddings_chapters.csv\", sep = '|')"
   ]
  },
  {
   "cell_type": "code",
   "execution_count": 6,
   "metadata": {},
   "outputs": [
    {
     "data": {
      "text/html": [
       "<div>\n",
       "<style scoped>\n",
       "    .dataframe tbody tr th:only-of-type {\n",
       "        vertical-align: middle;\n",
       "    }\n",
       "\n",
       "    .dataframe tbody tr th {\n",
       "        vertical-align: top;\n",
       "    }\n",
       "\n",
       "    .dataframe thead th {\n",
       "        text-align: right;\n",
       "    }\n",
       "</style>\n",
       "<table border=\"1\" class=\"dataframe\">\n",
       "  <thead>\n",
       "    <tr style=\"text-align: right;\">\n",
       "      <th></th>\n",
       "      <th>BERT</th>\n",
       "    </tr>\n",
       "  </thead>\n",
       "  <tbody>\n",
       "    <tr>\n",
       "      <th>0</th>\n",
       "      <td>[-0.94547343, -0.1625015, 0.14259385, -0.01095...</td>\n",
       "    </tr>\n",
       "    <tr>\n",
       "      <th>1</th>\n",
       "      <td>[-0.6349313, -0.15997009, 0.030811118, 0.04047...</td>\n",
       "    </tr>\n",
       "    <tr>\n",
       "      <th>2</th>\n",
       "      <td>[-0.3411792, 0.24343413, 0.28454694, -0.174622...</td>\n",
       "    </tr>\n",
       "    <tr>\n",
       "      <th>3</th>\n",
       "      <td>[0.1459335, 0.10399005, 0.3314292, -0.23018344...</td>\n",
       "    </tr>\n",
       "    <tr>\n",
       "      <th>4</th>\n",
       "      <td>[-0.22689115, 0.09236799, -0.1093656, -0.41396...</td>\n",
       "    </tr>\n",
       "  </tbody>\n",
       "</table>\n",
       "</div>"
      ],
      "text/plain": [
       "                                                BERT\n",
       "0  [-0.94547343, -0.1625015, 0.14259385, -0.01095...\n",
       "1  [-0.6349313, -0.15997009, 0.030811118, 0.04047...\n",
       "2  [-0.3411792, 0.24343413, 0.28454694, -0.174622...\n",
       "3  [0.1459335, 0.10399005, 0.3314292, -0.23018344...\n",
       "4  [-0.22689115, 0.09236799, -0.1093656, -0.41396..."
      ]
     },
     "execution_count": 6,
     "metadata": {},
     "output_type": "execute_result"
    }
   ],
   "source": [
    "df_concepts = pd.read_csv(path + 'concepts.csv', sep = '|')\n",
    "df_concepts['Concept'] = df_concepts['Concept'].apply(lambda x : x.split('/')[-1].replace('_', ' '))\n",
    "df_embeddings_concepts = embeddings(df_concepts.Concept.values, methods)\n",
    "df_embeddings_concepts.head()"
   ]
  },
  {
   "cell_type": "code",
   "execution_count": 7,
   "metadata": {},
   "outputs": [],
   "source": [
    "df_embeddings_concepts.to_csv(path + \"embeddings_concepts.csv\", sep = '|')"
   ]
  },
  {
   "cell_type": "code",
   "execution_count": 4,
   "metadata": {},
   "outputs": [
    {
     "data": {
      "text/html": [
       "<div>\n",
       "<style scoped>\n",
       "    .dataframe tbody tr th:only-of-type {\n",
       "        vertical-align: middle;\n",
       "    }\n",
       "\n",
       "    .dataframe tbody tr th {\n",
       "        vertical-align: top;\n",
       "    }\n",
       "\n",
       "    .dataframe thead th {\n",
       "        text-align: right;\n",
       "    }\n",
       "</style>\n",
       "<table border=\"1\" class=\"dataframe\">\n",
       "  <thead>\n",
       "    <tr style=\"text-align: right;\">\n",
       "      <th></th>\n",
       "      <th>BERT</th>\n",
       "    </tr>\n",
       "  </thead>\n",
       "  <tbody>\n",
       "    <tr>\n",
       "      <th>0</th>\n",
       "      <td>[-0.011491262, 0.0147075355, 0.030068249, -0.1...</td>\n",
       "    </tr>\n",
       "    <tr>\n",
       "      <th>1</th>\n",
       "      <td>[-0.011491262, 0.0147075355, 0.030068249, -0.1...</td>\n",
       "    </tr>\n",
       "    <tr>\n",
       "      <th>2</th>\n",
       "      <td>[-0.035813093, 0.020605687, -0.0953911, -0.314...</td>\n",
       "    </tr>\n",
       "    <tr>\n",
       "      <th>3</th>\n",
       "      <td>[-0.29198655, -0.2779123, 0.1208481, -0.352406...</td>\n",
       "    </tr>\n",
       "    <tr>\n",
       "      <th>4</th>\n",
       "      <td>[-0.29198655, -0.2779123, 0.1208481, -0.352406...</td>\n",
       "    </tr>\n",
       "  </tbody>\n",
       "</table>\n",
       "</div>"
      ],
      "text/plain": [
       "                                                BERT\n",
       "0  [-0.011491262, 0.0147075355, 0.030068249, -0.1...\n",
       "1  [-0.011491262, 0.0147075355, 0.030068249, -0.1...\n",
       "2  [-0.035813093, 0.020605687, -0.0953911, -0.314...\n",
       "3  [-0.29198655, -0.2779123, 0.1208481, -0.352406...\n",
       "4  [-0.29198655, -0.2779123, 0.1208481, -0.352406..."
      ]
     },
     "execution_count": 4,
     "metadata": {},
     "output_type": "execute_result"
    }
   ],
   "source": [
    "df_concepts = pd.read_csv(path + 'concepts_bis.csv', sep = '|')\n",
    "df_concepts['Concept'] = df_concepts['Concept'].apply(lambda x : x.split('/')[-1].replace('_', ' '))\n",
    "df_embeddings_concepts = embeddings(df_concepts.Concept.values, df_concepts.Concept.values, methods=methods)\n",
    "df_embeddings_concepts.head()"
   ]
  },
  {
   "cell_type": "code",
   "execution_count": 5,
   "metadata": {},
   "outputs": [
    {
     "data": {
      "text/plain": [
       "(31681, 1)"
      ]
     },
     "execution_count": 5,
     "metadata": {},
     "output_type": "execute_result"
    }
   ],
   "source": [
    "df_embeddings_concepts.to_csv(path + \"embeddings_concepts_bis.csv\", sep = '|')\n",
    "df_embeddings_concepts.shape"
   ]
  },
  {
   "cell_type": "code",
   "execution_count": 6,
   "metadata": {},
   "outputs": [
    {
     "data": {
      "text/html": [
       "<div>\n",
       "<style scoped>\n",
       "    .dataframe tbody tr th:only-of-type {\n",
       "        vertical-align: middle;\n",
       "    }\n",
       "\n",
       "    .dataframe tbody tr th {\n",
       "        vertical-align: top;\n",
       "    }\n",
       "\n",
       "    .dataframe thead th {\n",
       "        text-align: right;\n",
       "    }\n",
       "</style>\n",
       "<table border=\"1\" class=\"dataframe\">\n",
       "  <thead>\n",
       "    <tr style=\"text-align: right;\">\n",
       "      <th></th>\n",
       "      <th>Concept</th>\n",
       "      <th>Class</th>\n",
       "    </tr>\n",
       "  </thead>\n",
       "  <tbody>\n",
       "    <tr>\n",
       "      <th>0</th>\n",
       "      <td>Absolute_value</td>\n",
       "      <td>http://www.w3.org/2002/07/owl#Thing</td>\n",
       "    </tr>\n",
       "    <tr>\n",
       "      <th>1</th>\n",
       "      <td>Absolute_value</td>\n",
       "      <td>http://dbpedia.org/ontology/Company</td>\n",
       "    </tr>\n",
       "    <tr>\n",
       "      <th>2</th>\n",
       "      <td>Continuous_function</td>\n",
       "      <td>http://www.w3.org/2002/07/owl#Thing</td>\n",
       "    </tr>\n",
       "    <tr>\n",
       "      <th>3</th>\n",
       "      <td>Derivative</td>\n",
       "      <td>http://www.w3.org/2002/07/owl#Thing</td>\n",
       "    </tr>\n",
       "    <tr>\n",
       "      <th>4</th>\n",
       "      <td>Derivative</td>\n",
       "      <td>http://dbpedia.org/ontology/RaceHorse</td>\n",
       "    </tr>\n",
       "  </tbody>\n",
       "</table>\n",
       "</div>"
      ],
      "text/plain": [
       "               Concept                                  Class\n",
       "0       Absolute_value    http://www.w3.org/2002/07/owl#Thing\n",
       "1       Absolute_value    http://dbpedia.org/ontology/Company\n",
       "2  Continuous_function    http://www.w3.org/2002/07/owl#Thing\n",
       "3           Derivative    http://www.w3.org/2002/07/owl#Thing\n",
       "4           Derivative  http://dbpedia.org/ontology/RaceHorse"
      ]
     },
     "execution_count": 6,
     "metadata": {},
     "output_type": "execute_result"
    }
   ],
   "source": [
    "df_concepts = pd.read_csv(path + 'concepts_bis.csv', sep = '|')\n",
    "df_concepts_classes = pd.read_csv(path + 'classes.csv', sep = '|', index_col=0)\n",
    "df_concepts_classes.head()"
   ]
  },
  {
   "cell_type": "code",
   "execution_count": 7,
   "metadata": {},
   "outputs": [
    {
     "data": {
      "text/html": [
       "<div>\n",
       "<style scoped>\n",
       "    .dataframe tbody tr th:only-of-type {\n",
       "        vertical-align: middle;\n",
       "    }\n",
       "\n",
       "    .dataframe tbody tr th {\n",
       "        vertical-align: top;\n",
       "    }\n",
       "\n",
       "    .dataframe thead th {\n",
       "        text-align: right;\n",
       "    }\n",
       "</style>\n",
       "<table border=\"1\" class=\"dataframe\">\n",
       "  <thead>\n",
       "    <tr style=\"text-align: right;\">\n",
       "      <th></th>\n",
       "      <th>Concept</th>\n",
       "      <th>Class</th>\n",
       "      <th>Class Name</th>\n",
       "    </tr>\n",
       "  </thead>\n",
       "  <tbody>\n",
       "    <tr>\n",
       "      <th>0</th>\n",
       "      <td>Absolute_value</td>\n",
       "      <td>http://www.w3.org/2002/07/owl#Thing</td>\n",
       "      <td>Thing</td>\n",
       "    </tr>\n",
       "    <tr>\n",
       "      <th>1</th>\n",
       "      <td>Absolute_value</td>\n",
       "      <td>http://dbpedia.org/ontology/Company</td>\n",
       "      <td>Company</td>\n",
       "    </tr>\n",
       "    <tr>\n",
       "      <th>2</th>\n",
       "      <td>Continuous_function</td>\n",
       "      <td>http://www.w3.org/2002/07/owl#Thing</td>\n",
       "      <td>Thing</td>\n",
       "    </tr>\n",
       "    <tr>\n",
       "      <th>3</th>\n",
       "      <td>Derivative</td>\n",
       "      <td>http://www.w3.org/2002/07/owl#Thing</td>\n",
       "      <td>Thing</td>\n",
       "    </tr>\n",
       "    <tr>\n",
       "      <th>4</th>\n",
       "      <td>Derivative</td>\n",
       "      <td>http://dbpedia.org/ontology/RaceHorse</td>\n",
       "      <td>RaceHorse</td>\n",
       "    </tr>\n",
       "  </tbody>\n",
       "</table>\n",
       "</div>"
      ],
      "text/plain": [
       "               Concept                                  Class Class Name\n",
       "0       Absolute_value    http://www.w3.org/2002/07/owl#Thing      Thing\n",
       "1       Absolute_value    http://dbpedia.org/ontology/Company    Company\n",
       "2  Continuous_function    http://www.w3.org/2002/07/owl#Thing      Thing\n",
       "3           Derivative    http://www.w3.org/2002/07/owl#Thing      Thing\n",
       "4           Derivative  http://dbpedia.org/ontology/RaceHorse  RaceHorse"
      ]
     },
     "execution_count": 7,
     "metadata": {},
     "output_type": "execute_result"
    }
   ],
   "source": [
    "df_concepts_classes['Class Name'] = df_concepts_classes['Class'].apply(lambda x : x.split('/')[-1].split('#')[-1].replace('_', ' '))\n",
    "df_concepts_classes.head()"
   ]
  },
  {
   "cell_type": "code",
   "execution_count": 8,
   "metadata": {},
   "outputs": [
    {
     "data": {
      "text/html": [
       "<div>\n",
       "<style scoped>\n",
       "    .dataframe tbody tr th:only-of-type {\n",
       "        vertical-align: middle;\n",
       "    }\n",
       "\n",
       "    .dataframe tbody tr th {\n",
       "        vertical-align: top;\n",
       "    }\n",
       "\n",
       "    .dataframe thead th {\n",
       "        text-align: right;\n",
       "    }\n",
       "</style>\n",
       "<table border=\"1\" class=\"dataframe\">\n",
       "  <thead>\n",
       "    <tr style=\"text-align: right;\">\n",
       "      <th></th>\n",
       "      <th>BERT</th>\n",
       "    </tr>\n",
       "  </thead>\n",
       "  <tbody>\n",
       "    <tr>\n",
       "      <th>0</th>\n",
       "      <td>[-0.40278402, 0.14599594, -0.37918368, -0.2779...</td>\n",
       "    </tr>\n",
       "    <tr>\n",
       "      <th>1</th>\n",
       "      <td>[-0.40278402, 0.14599594, -0.37918368, -0.2779...</td>\n",
       "    </tr>\n",
       "    <tr>\n",
       "      <th>2</th>\n",
       "      <td>[-0.40278402, 0.14599594, -0.37918368, -0.2779...</td>\n",
       "    </tr>\n",
       "    <tr>\n",
       "      <th>3</th>\n",
       "      <td>[-0.40278402, 0.14599594, -0.37918368, -0.2779...</td>\n",
       "    </tr>\n",
       "    <tr>\n",
       "      <th>4</th>\n",
       "      <td>[-0.40278402, 0.14599594, -0.37918368, -0.2779...</td>\n",
       "    </tr>\n",
       "  </tbody>\n",
       "</table>\n",
       "</div>"
      ],
      "text/plain": [
       "                                                BERT\n",
       "0  [-0.40278402, 0.14599594, -0.37918368, -0.2779...\n",
       "1  [-0.40278402, 0.14599594, -0.37918368, -0.2779...\n",
       "2  [-0.40278402, 0.14599594, -0.37918368, -0.2779...\n",
       "3  [-0.40278402, 0.14599594, -0.37918368, -0.2779...\n",
       "4  [-0.40278402, 0.14599594, -0.37918368, -0.2779..."
      ]
     },
     "execution_count": 8,
     "metadata": {},
     "output_type": "execute_result"
    }
   ],
   "source": [
    "df_classes = df_concepts_classes[['Class', 'Class Name']]\n",
    "df_classes = df_classes.drop_duplicates(subset='Class', keep='first')\n",
    "df_classes = embeddings(df_classes['Class Name'].values, df_classes['Class Name'].values, methods)\n",
    "df_classes.head()"
   ]
  },
  {
   "cell_type": "code",
   "execution_count": 9,
   "metadata": {},
   "outputs": [],
   "source": [
    "df_classes.to_csv(path + \"embeddings_classes_bis.csv\", sep = '|')"
   ]
  }
 ],
 "metadata": {
  "kernelspec": {
   "display_name": "clara-datasets",
   "language": "python",
   "name": "python3"
  },
  "language_info": {
   "codemirror_mode": {
    "name": "ipython",
    "version": 3
   },
   "file_extension": ".py",
   "mimetype": "text/x-python",
   "name": "python",
   "nbconvert_exporter": "python",
   "pygments_lexer": "ipython3",
   "version": "3.10.8"
  },
  "orig_nbformat": 4
 },
 "nbformat": 4,
 "nbformat_minor": 2
}
